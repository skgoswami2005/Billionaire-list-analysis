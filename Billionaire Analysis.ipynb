{
  "cells": [
    {
      "cell_type": "code",
      "execution_count": 1,
      "metadata": {
        "id": "dbZeGH8ORv6a"
      },
      "outputs": [],
      "source": [
        "import pandas as pd\n",
        "import seaborn as sns\n",
        "import matplotlib.pyplot as plt\n",
        "import plotly.express as px"
      ]
    },
    {
      "cell_type": "code",
      "execution_count": 2,
      "metadata": {
        "colab": {
          "base_uri": "https://localhost:8080/",
          "height": 585
        },
        "id": "10mNmshCSbWX",
        "outputId": "75d02fcb-6f7f-4841-afbd-3dc3633e2996"
      },
      "outputs": [
        {
          "data": {
            "text/html": [
              "<div>\n",
              "<style scoped>\n",
              "    .dataframe tbody tr th:only-of-type {\n",
              "        vertical-align: middle;\n",
              "    }\n",
              "\n",
              "    .dataframe tbody tr th {\n",
              "        vertical-align: top;\n",
              "    }\n",
              "\n",
              "    .dataframe thead th {\n",
              "        text-align: right;\n",
              "    }\n",
              "</style>\n",
              "<table border=\"1\" class=\"dataframe\">\n",
              "  <thead>\n",
              "    <tr style=\"text-align: right;\">\n",
              "      <th></th>\n",
              "      <th>rank</th>\n",
              "      <th>name</th>\n",
              "      <th>forbes_id</th>\n",
              "      <th>net_worth</th>\n",
              "      <th>age</th>\n",
              "      <th>age_range</th>\n",
              "      <th>country</th>\n",
              "      <th>source</th>\n",
              "      <th>industry</th>\n",
              "      <th>Age</th>\n",
              "      <th>...</th>\n",
              "      <th>Residence</th>\n",
              "      <th>Citizenship</th>\n",
              "      <th>Marital Status</th>\n",
              "      <th>Children</th>\n",
              "      <th>Education</th>\n",
              "      <th>Bachelor</th>\n",
              "      <th>Master</th>\n",
              "      <th>Doctorate</th>\n",
              "      <th>Drop Out</th>\n",
              "      <th>Self Made</th>\n",
              "    </tr>\n",
              "  </thead>\n",
              "  <tbody>\n",
              "    <tr>\n",
              "      <th>0</th>\n",
              "      <td>1</td>\n",
              "      <td>Bernard Arnault &amp; family</td>\n",
              "      <td>bernard-arnault</td>\n",
              "      <td>211.0</td>\n",
              "      <td>74.0</td>\n",
              "      <td>8</td>\n",
              "      <td>France</td>\n",
              "      <td>LVMH</td>\n",
              "      <td>Fashion &amp; Retail</td>\n",
              "      <td>74.0</td>\n",
              "      <td>...</td>\n",
              "      <td>Paris, France</td>\n",
              "      <td>France</td>\n",
              "      <td>Married</td>\n",
              "      <td>5.0</td>\n",
              "      <td>Bachelor of Arts/Science, Ecole Polytechnique ...</td>\n",
              "      <td>1.0</td>\n",
              "      <td>0.0</td>\n",
              "      <td>0.0</td>\n",
              "      <td>0.0</td>\n",
              "      <td>0</td>\n",
              "    </tr>\n",
              "    <tr>\n",
              "      <th>1</th>\n",
              "      <td>2</td>\n",
              "      <td>Elon Musk</td>\n",
              "      <td>elon-musk</td>\n",
              "      <td>180.0</td>\n",
              "      <td>51.0</td>\n",
              "      <td>6</td>\n",
              "      <td>United States</td>\n",
              "      <td>Tesla, SpaceX</td>\n",
              "      <td>Automotive</td>\n",
              "      <td>52.0</td>\n",
              "      <td>...</td>\n",
              "      <td>Austin, Texas</td>\n",
              "      <td>United States</td>\n",
              "      <td>Single</td>\n",
              "      <td>10.0</td>\n",
              "      <td>Bachelor of Arts/Science, University of Pennsy...</td>\n",
              "      <td>1.0</td>\n",
              "      <td>0.0</td>\n",
              "      <td>0.0</td>\n",
              "      <td>0.0</td>\n",
              "      <td>1</td>\n",
              "    </tr>\n",
              "    <tr>\n",
              "      <th>2</th>\n",
              "      <td>3</td>\n",
              "      <td>Jeff Bezos</td>\n",
              "      <td>jeff-bezos</td>\n",
              "      <td>114.0</td>\n",
              "      <td>59.0</td>\n",
              "      <td>6</td>\n",
              "      <td>United States</td>\n",
              "      <td>Amazon</td>\n",
              "      <td>Technology</td>\n",
              "      <td>59.0</td>\n",
              "      <td>...</td>\n",
              "      <td>Medina, Washington</td>\n",
              "      <td>United States</td>\n",
              "      <td>Engaged</td>\n",
              "      <td>4.0</td>\n",
              "      <td>Bachelor of Arts/Science, Princeton University</td>\n",
              "      <td>1.0</td>\n",
              "      <td>0.0</td>\n",
              "      <td>0.0</td>\n",
              "      <td>0.0</td>\n",
              "      <td>1</td>\n",
              "    </tr>\n",
              "    <tr>\n",
              "      <th>3</th>\n",
              "      <td>4</td>\n",
              "      <td>Larry Ellison</td>\n",
              "      <td>larry-ellison</td>\n",
              "      <td>107.0</td>\n",
              "      <td>78.0</td>\n",
              "      <td>8</td>\n",
              "      <td>United States</td>\n",
              "      <td>Oracle</td>\n",
              "      <td>Technology</td>\n",
              "      <td>79.0</td>\n",
              "      <td>...</td>\n",
              "      <td>Lanai, Hawaii</td>\n",
              "      <td>United States</td>\n",
              "      <td>In Relationship</td>\n",
              "      <td>4.0</td>\n",
              "      <td>Drop Out, University of Chicago; Drop Out, Uni...</td>\n",
              "      <td>0.0</td>\n",
              "      <td>0.0</td>\n",
              "      <td>0.0</td>\n",
              "      <td>1.0</td>\n",
              "      <td>1</td>\n",
              "    </tr>\n",
              "    <tr>\n",
              "      <th>4</th>\n",
              "      <td>5</td>\n",
              "      <td>Warren Buffett</td>\n",
              "      <td>warren-buffett</td>\n",
              "      <td>106.0</td>\n",
              "      <td>92.0</td>\n",
              "      <td>10</td>\n",
              "      <td>United States</td>\n",
              "      <td>Berkshire Hathaway</td>\n",
              "      <td>Finance &amp; Investments</td>\n",
              "      <td>92.0</td>\n",
              "      <td>...</td>\n",
              "      <td>Omaha, Nebraska</td>\n",
              "      <td>United States</td>\n",
              "      <td>Widowed, Remarried</td>\n",
              "      <td>3.0</td>\n",
              "      <td>Master of Science, Columbia University; Bachel...</td>\n",
              "      <td>1.0</td>\n",
              "      <td>1.0</td>\n",
              "      <td>0.0</td>\n",
              "      <td>0.0</td>\n",
              "      <td>1</td>\n",
              "    </tr>\n",
              "  </tbody>\n",
              "</table>\n",
              "<p>5 rows × 23 columns</p>\n",
              "</div>"
            ],
            "text/plain": [
              "   rank                      name        forbes_id  net_worth   age  \\\n",
              "0     1  Bernard Arnault & family  bernard-arnault      211.0  74.0   \n",
              "1     2                 Elon Musk        elon-musk      180.0  51.0   \n",
              "2     3                Jeff Bezos       jeff-bezos      114.0  59.0   \n",
              "3     4             Larry Ellison    larry-ellison      107.0  78.0   \n",
              "4     5            Warren Buffett   warren-buffett      106.0  92.0   \n",
              "\n",
              "   age_range        country              source               industry   Age  \\\n",
              "0          8         France                LVMH       Fashion & Retail  74.0   \n",
              "1          6  United States       Tesla, SpaceX             Automotive  52.0   \n",
              "2          6  United States              Amazon             Technology  59.0   \n",
              "3          8  United States              Oracle             Technology  79.0   \n",
              "4         10  United States  Berkshire Hathaway  Finance & Investments  92.0   \n",
              "\n",
              "   ...           Residence    Citizenship      Marital Status Children  \\\n",
              "0  ...       Paris, France         France             Married      5.0   \n",
              "1  ...       Austin, Texas  United States              Single     10.0   \n",
              "2  ...  Medina, Washington  United States             Engaged      4.0   \n",
              "3  ...       Lanai, Hawaii  United States     In Relationship      4.0   \n",
              "4  ...     Omaha, Nebraska  United States  Widowed, Remarried      3.0   \n",
              "\n",
              "                                           Education Bachelor  Master  \\\n",
              "0  Bachelor of Arts/Science, Ecole Polytechnique ...      1.0     0.0   \n",
              "1  Bachelor of Arts/Science, University of Pennsy...      1.0     0.0   \n",
              "2     Bachelor of Arts/Science, Princeton University      1.0     0.0   \n",
              "3  Drop Out, University of Chicago; Drop Out, Uni...      0.0     0.0   \n",
              "4  Master of Science, Columbia University; Bachel...      1.0     1.0   \n",
              "\n",
              "  Doctorate  Drop Out  Self Made  \n",
              "0       0.0       0.0          0  \n",
              "1       0.0       0.0          1  \n",
              "2       0.0       0.0          1  \n",
              "3       0.0       1.0          1  \n",
              "4       0.0       0.0          1  \n",
              "\n",
              "[5 rows x 23 columns]"
            ]
          },
          "execution_count": 2,
          "metadata": {},
          "output_type": "execute_result"
        }
      ],
      "source": [
        "df = pd.read_csv(\"./forbes_billionaires.csv\")\n",
        "\n",
        "df.head()"
      ]
    },
    {
      "cell_type": "code",
      "execution_count": 3,
      "metadata": {
        "colab": {
          "base_uri": "https://localhost:8080/"
        },
        "id": "54CWWnJ-Xn6J",
        "outputId": "9a5659ee-21f2-411e-bb1b-0d9bbcf84a18"
      },
      "outputs": [
        {
          "data": {
            "text/plain": [
              "rank                     0\n",
              "name                     0\n",
              "forbes_id                0\n",
              "net_worth                0\n",
              "age                     65\n",
              "age_range                0\n",
              "country                  0\n",
              "source                   0\n",
              "industry                 0\n",
              "Age                     85\n",
              "Source of Wealth         1\n",
              "Self-Made Score       2082\n",
              "Philanthropy Score    2229\n",
              "Residence               59\n",
              "Citizenship             11\n",
              "Marital Status         551\n",
              "Children              1042\n",
              "Education             1225\n",
              "Bachelor              1224\n",
              "Master                1224\n",
              "Doctorate             1224\n",
              "Drop Out              1224\n",
              "Self Made                0\n",
              "dtype: int64"
            ]
          },
          "execution_count": 3,
          "metadata": {},
          "output_type": "execute_result"
        }
      ],
      "source": [
        "df.isnull().sum()"
      ]
    },
    {
      "cell_type": "code",
      "execution_count": 4,
      "metadata": {
        "colab": {
          "base_uri": "https://localhost:8080/"
        },
        "id": "DkHNhIm1SwMA",
        "outputId": "4eb387b5-442f-499c-b844-cecf02095b68"
      },
      "outputs": [
        {
          "data": {
            "text/plain": [
              "(2640, 23)"
            ]
          },
          "execution_count": 4,
          "metadata": {},
          "output_type": "execute_result"
        }
      ],
      "source": [
        "df.shape"
      ]
    },
    {
      "cell_type": "markdown",
      "metadata": {
        "id": "eB0JLRG-mPps"
      },
      "source": [
        "## Wealth Distribution by Country:"
      ]
    },
    {
      "cell_type": "code",
      "execution_count": 5,
      "metadata": {
        "colab": {
          "base_uri": "https://localhost:8080/"
        },
        "id": "rDoSRDa3TUgu",
        "outputId": "6661ab3c-c442-429c-aeef-727e08b87013"
      },
      "outputs": [
        {
          "data": {
            "text/plain": [
              "United States           735\n",
              "China                   494\n",
              "India                   169\n",
              "Germany                 126\n",
              "Russia                  104\n",
              "                       ... \n",
              "Belize                    1\n",
              "Eswatini (Swaziland)      1\n",
              "Venezuela                 1\n",
              "Algeria                   1\n",
              "Panama                    1\n",
              "Name: country, Length: 77, dtype: int64"
            ]
          },
          "execution_count": 5,
          "metadata": {},
          "output_type": "execute_result"
        }
      ],
      "source": [
        "df.country.value_counts()"
      ]
    },
    {
      "cell_type": "code",
      "execution_count": 6,
      "metadata": {
        "colab": {
          "base_uri": "https://localhost:8080/",
          "height": 542
        },
        "id": "DBZSnXN-YsEC",
        "outputId": "c3b2ab21-1699-4138-eba6-27082634822d"
      },
      "outputs": [
        {
          "data": {
            "application/vnd.plotly.v1+json": {
              "config": {
                "plotlyServerURL": "https://plot.ly"
              },
              "data": [
                {
                  "domain": {
                    "x": [
                      0,
                      1
                    ],
                    "y": [
                      0,
                      1
                    ]
                  },
                  "hovertemplate": "label=%{label}<br>value=%{value}<extra></extra>",
                  "labels": [
                    "United States",
                    "China",
                    "India",
                    "Germany",
                    "Russia",
                    "Hong Kong",
                    "Italy",
                    "Canada",
                    "Taiwan",
                    "United Kingdom"
                  ],
                  "legendgroup": "",
                  "name": "",
                  "showlegend": true,
                  "textinfo": "percent+label",
                  "textposition": "inside",
                  "type": "pie",
                  "values": [
                    735,
                    494,
                    169,
                    126,
                    104,
                    66,
                    64,
                    63,
                    52,
                    52
                  ]
                }
              ],
              "layout": {
                "legend": {
                  "tracegroupgap": 0
                },
                "template": {
                  "data": {
                    "bar": [
                      {
                        "error_x": {
                          "color": "#2a3f5f"
                        },
                        "error_y": {
                          "color": "#2a3f5f"
                        },
                        "marker": {
                          "line": {
                            "color": "#E5ECF6",
                            "width": 0.5
                          },
                          "pattern": {
                            "fillmode": "overlay",
                            "size": 10,
                            "solidity": 0.2
                          }
                        },
                        "type": "bar"
                      }
                    ],
                    "barpolar": [
                      {
                        "marker": {
                          "line": {
                            "color": "#E5ECF6",
                            "width": 0.5
                          },
                          "pattern": {
                            "fillmode": "overlay",
                            "size": 10,
                            "solidity": 0.2
                          }
                        },
                        "type": "barpolar"
                      }
                    ],
                    "carpet": [
                      {
                        "aaxis": {
                          "endlinecolor": "#2a3f5f",
                          "gridcolor": "white",
                          "linecolor": "white",
                          "minorgridcolor": "white",
                          "startlinecolor": "#2a3f5f"
                        },
                        "baxis": {
                          "endlinecolor": "#2a3f5f",
                          "gridcolor": "white",
                          "linecolor": "white",
                          "minorgridcolor": "white",
                          "startlinecolor": "#2a3f5f"
                        },
                        "type": "carpet"
                      }
                    ],
                    "choropleth": [
                      {
                        "colorbar": {
                          "outlinewidth": 0,
                          "ticks": ""
                        },
                        "type": "choropleth"
                      }
                    ],
                    "contour": [
                      {
                        "colorbar": {
                          "outlinewidth": 0,
                          "ticks": ""
                        },
                        "colorscale": [
                          [
                            0,
                            "#0d0887"
                          ],
                          [
                            0.1111111111111111,
                            "#46039f"
                          ],
                          [
                            0.2222222222222222,
                            "#7201a8"
                          ],
                          [
                            0.3333333333333333,
                            "#9c179e"
                          ],
                          [
                            0.4444444444444444,
                            "#bd3786"
                          ],
                          [
                            0.5555555555555556,
                            "#d8576b"
                          ],
                          [
                            0.6666666666666666,
                            "#ed7953"
                          ],
                          [
                            0.7777777777777778,
                            "#fb9f3a"
                          ],
                          [
                            0.8888888888888888,
                            "#fdca26"
                          ],
                          [
                            1,
                            "#f0f921"
                          ]
                        ],
                        "type": "contour"
                      }
                    ],
                    "contourcarpet": [
                      {
                        "colorbar": {
                          "outlinewidth": 0,
                          "ticks": ""
                        },
                        "type": "contourcarpet"
                      }
                    ],
                    "heatmap": [
                      {
                        "colorbar": {
                          "outlinewidth": 0,
                          "ticks": ""
                        },
                        "colorscale": [
                          [
                            0,
                            "#0d0887"
                          ],
                          [
                            0.1111111111111111,
                            "#46039f"
                          ],
                          [
                            0.2222222222222222,
                            "#7201a8"
                          ],
                          [
                            0.3333333333333333,
                            "#9c179e"
                          ],
                          [
                            0.4444444444444444,
                            "#bd3786"
                          ],
                          [
                            0.5555555555555556,
                            "#d8576b"
                          ],
                          [
                            0.6666666666666666,
                            "#ed7953"
                          ],
                          [
                            0.7777777777777778,
                            "#fb9f3a"
                          ],
                          [
                            0.8888888888888888,
                            "#fdca26"
                          ],
                          [
                            1,
                            "#f0f921"
                          ]
                        ],
                        "type": "heatmap"
                      }
                    ],
                    "heatmapgl": [
                      {
                        "colorbar": {
                          "outlinewidth": 0,
                          "ticks": ""
                        },
                        "colorscale": [
                          [
                            0,
                            "#0d0887"
                          ],
                          [
                            0.1111111111111111,
                            "#46039f"
                          ],
                          [
                            0.2222222222222222,
                            "#7201a8"
                          ],
                          [
                            0.3333333333333333,
                            "#9c179e"
                          ],
                          [
                            0.4444444444444444,
                            "#bd3786"
                          ],
                          [
                            0.5555555555555556,
                            "#d8576b"
                          ],
                          [
                            0.6666666666666666,
                            "#ed7953"
                          ],
                          [
                            0.7777777777777778,
                            "#fb9f3a"
                          ],
                          [
                            0.8888888888888888,
                            "#fdca26"
                          ],
                          [
                            1,
                            "#f0f921"
                          ]
                        ],
                        "type": "heatmapgl"
                      }
                    ],
                    "histogram": [
                      {
                        "marker": {
                          "pattern": {
                            "fillmode": "overlay",
                            "size": 10,
                            "solidity": 0.2
                          }
                        },
                        "type": "histogram"
                      }
                    ],
                    "histogram2d": [
                      {
                        "colorbar": {
                          "outlinewidth": 0,
                          "ticks": ""
                        },
                        "colorscale": [
                          [
                            0,
                            "#0d0887"
                          ],
                          [
                            0.1111111111111111,
                            "#46039f"
                          ],
                          [
                            0.2222222222222222,
                            "#7201a8"
                          ],
                          [
                            0.3333333333333333,
                            "#9c179e"
                          ],
                          [
                            0.4444444444444444,
                            "#bd3786"
                          ],
                          [
                            0.5555555555555556,
                            "#d8576b"
                          ],
                          [
                            0.6666666666666666,
                            "#ed7953"
                          ],
                          [
                            0.7777777777777778,
                            "#fb9f3a"
                          ],
                          [
                            0.8888888888888888,
                            "#fdca26"
                          ],
                          [
                            1,
                            "#f0f921"
                          ]
                        ],
                        "type": "histogram2d"
                      }
                    ],
                    "histogram2dcontour": [
                      {
                        "colorbar": {
                          "outlinewidth": 0,
                          "ticks": ""
                        },
                        "colorscale": [
                          [
                            0,
                            "#0d0887"
                          ],
                          [
                            0.1111111111111111,
                            "#46039f"
                          ],
                          [
                            0.2222222222222222,
                            "#7201a8"
                          ],
                          [
                            0.3333333333333333,
                            "#9c179e"
                          ],
                          [
                            0.4444444444444444,
                            "#bd3786"
                          ],
                          [
                            0.5555555555555556,
                            "#d8576b"
                          ],
                          [
                            0.6666666666666666,
                            "#ed7953"
                          ],
                          [
                            0.7777777777777778,
                            "#fb9f3a"
                          ],
                          [
                            0.8888888888888888,
                            "#fdca26"
                          ],
                          [
                            1,
                            "#f0f921"
                          ]
                        ],
                        "type": "histogram2dcontour"
                      }
                    ],
                    "mesh3d": [
                      {
                        "colorbar": {
                          "outlinewidth": 0,
                          "ticks": ""
                        },
                        "type": "mesh3d"
                      }
                    ],
                    "parcoords": [
                      {
                        "line": {
                          "colorbar": {
                            "outlinewidth": 0,
                            "ticks": ""
                          }
                        },
                        "type": "parcoords"
                      }
                    ],
                    "pie": [
                      {
                        "automargin": true,
                        "type": "pie"
                      }
                    ],
                    "scatter": [
                      {
                        "fillpattern": {
                          "fillmode": "overlay",
                          "size": 10,
                          "solidity": 0.2
                        },
                        "type": "scatter"
                      }
                    ],
                    "scatter3d": [
                      {
                        "line": {
                          "colorbar": {
                            "outlinewidth": 0,
                            "ticks": ""
                          }
                        },
                        "marker": {
                          "colorbar": {
                            "outlinewidth": 0,
                            "ticks": ""
                          }
                        },
                        "type": "scatter3d"
                      }
                    ],
                    "scattercarpet": [
                      {
                        "marker": {
                          "colorbar": {
                            "outlinewidth": 0,
                            "ticks": ""
                          }
                        },
                        "type": "scattercarpet"
                      }
                    ],
                    "scattergeo": [
                      {
                        "marker": {
                          "colorbar": {
                            "outlinewidth": 0,
                            "ticks": ""
                          }
                        },
                        "type": "scattergeo"
                      }
                    ],
                    "scattergl": [
                      {
                        "marker": {
                          "colorbar": {
                            "outlinewidth": 0,
                            "ticks": ""
                          }
                        },
                        "type": "scattergl"
                      }
                    ],
                    "scattermapbox": [
                      {
                        "marker": {
                          "colorbar": {
                            "outlinewidth": 0,
                            "ticks": ""
                          }
                        },
                        "type": "scattermapbox"
                      }
                    ],
                    "scatterpolar": [
                      {
                        "marker": {
                          "colorbar": {
                            "outlinewidth": 0,
                            "ticks": ""
                          }
                        },
                        "type": "scatterpolar"
                      }
                    ],
                    "scatterpolargl": [
                      {
                        "marker": {
                          "colorbar": {
                            "outlinewidth": 0,
                            "ticks": ""
                          }
                        },
                        "type": "scatterpolargl"
                      }
                    ],
                    "scatterternary": [
                      {
                        "marker": {
                          "colorbar": {
                            "outlinewidth": 0,
                            "ticks": ""
                          }
                        },
                        "type": "scatterternary"
                      }
                    ],
                    "surface": [
                      {
                        "colorbar": {
                          "outlinewidth": 0,
                          "ticks": ""
                        },
                        "colorscale": [
                          [
                            0,
                            "#0d0887"
                          ],
                          [
                            0.1111111111111111,
                            "#46039f"
                          ],
                          [
                            0.2222222222222222,
                            "#7201a8"
                          ],
                          [
                            0.3333333333333333,
                            "#9c179e"
                          ],
                          [
                            0.4444444444444444,
                            "#bd3786"
                          ],
                          [
                            0.5555555555555556,
                            "#d8576b"
                          ],
                          [
                            0.6666666666666666,
                            "#ed7953"
                          ],
                          [
                            0.7777777777777778,
                            "#fb9f3a"
                          ],
                          [
                            0.8888888888888888,
                            "#fdca26"
                          ],
                          [
                            1,
                            "#f0f921"
                          ]
                        ],
                        "type": "surface"
                      }
                    ],
                    "table": [
                      {
                        "cells": {
                          "fill": {
                            "color": "#EBF0F8"
                          },
                          "line": {
                            "color": "white"
                          }
                        },
                        "header": {
                          "fill": {
                            "color": "#C8D4E3"
                          },
                          "line": {
                            "color": "white"
                          }
                        },
                        "type": "table"
                      }
                    ]
                  },
                  "layout": {
                    "annotationdefaults": {
                      "arrowcolor": "#2a3f5f",
                      "arrowhead": 0,
                      "arrowwidth": 1
                    },
                    "autotypenumbers": "strict",
                    "coloraxis": {
                      "colorbar": {
                        "outlinewidth": 0,
                        "ticks": ""
                      }
                    },
                    "colorscale": {
                      "diverging": [
                        [
                          0,
                          "#8e0152"
                        ],
                        [
                          0.1,
                          "#c51b7d"
                        ],
                        [
                          0.2,
                          "#de77ae"
                        ],
                        [
                          0.3,
                          "#f1b6da"
                        ],
                        [
                          0.4,
                          "#fde0ef"
                        ],
                        [
                          0.5,
                          "#f7f7f7"
                        ],
                        [
                          0.6,
                          "#e6f5d0"
                        ],
                        [
                          0.7,
                          "#b8e186"
                        ],
                        [
                          0.8,
                          "#7fbc41"
                        ],
                        [
                          0.9,
                          "#4d9221"
                        ],
                        [
                          1,
                          "#276419"
                        ]
                      ],
                      "sequential": [
                        [
                          0,
                          "#0d0887"
                        ],
                        [
                          0.1111111111111111,
                          "#46039f"
                        ],
                        [
                          0.2222222222222222,
                          "#7201a8"
                        ],
                        [
                          0.3333333333333333,
                          "#9c179e"
                        ],
                        [
                          0.4444444444444444,
                          "#bd3786"
                        ],
                        [
                          0.5555555555555556,
                          "#d8576b"
                        ],
                        [
                          0.6666666666666666,
                          "#ed7953"
                        ],
                        [
                          0.7777777777777778,
                          "#fb9f3a"
                        ],
                        [
                          0.8888888888888888,
                          "#fdca26"
                        ],
                        [
                          1,
                          "#f0f921"
                        ]
                      ],
                      "sequentialminus": [
                        [
                          0,
                          "#0d0887"
                        ],
                        [
                          0.1111111111111111,
                          "#46039f"
                        ],
                        [
                          0.2222222222222222,
                          "#7201a8"
                        ],
                        [
                          0.3333333333333333,
                          "#9c179e"
                        ],
                        [
                          0.4444444444444444,
                          "#bd3786"
                        ],
                        [
                          0.5555555555555556,
                          "#d8576b"
                        ],
                        [
                          0.6666666666666666,
                          "#ed7953"
                        ],
                        [
                          0.7777777777777778,
                          "#fb9f3a"
                        ],
                        [
                          0.8888888888888888,
                          "#fdca26"
                        ],
                        [
                          1,
                          "#f0f921"
                        ]
                      ]
                    },
                    "colorway": [
                      "#636efa",
                      "#EF553B",
                      "#00cc96",
                      "#ab63fa",
                      "#FFA15A",
                      "#19d3f3",
                      "#FF6692",
                      "#B6E880",
                      "#FF97FF",
                      "#FECB52"
                    ],
                    "font": {
                      "color": "#2a3f5f"
                    },
                    "geo": {
                      "bgcolor": "white",
                      "lakecolor": "white",
                      "landcolor": "#E5ECF6",
                      "showlakes": true,
                      "showland": true,
                      "subunitcolor": "white"
                    },
                    "hoverlabel": {
                      "align": "left"
                    },
                    "hovermode": "closest",
                    "mapbox": {
                      "style": "light"
                    },
                    "paper_bgcolor": "white",
                    "plot_bgcolor": "#E5ECF6",
                    "polar": {
                      "angularaxis": {
                        "gridcolor": "white",
                        "linecolor": "white",
                        "ticks": ""
                      },
                      "bgcolor": "#E5ECF6",
                      "radialaxis": {
                        "gridcolor": "white",
                        "linecolor": "white",
                        "ticks": ""
                      }
                    },
                    "scene": {
                      "xaxis": {
                        "backgroundcolor": "#E5ECF6",
                        "gridcolor": "white",
                        "gridwidth": 2,
                        "linecolor": "white",
                        "showbackground": true,
                        "ticks": "",
                        "zerolinecolor": "white"
                      },
                      "yaxis": {
                        "backgroundcolor": "#E5ECF6",
                        "gridcolor": "white",
                        "gridwidth": 2,
                        "linecolor": "white",
                        "showbackground": true,
                        "ticks": "",
                        "zerolinecolor": "white"
                      },
                      "zaxis": {
                        "backgroundcolor": "#E5ECF6",
                        "gridcolor": "white",
                        "gridwidth": 2,
                        "linecolor": "white",
                        "showbackground": true,
                        "ticks": "",
                        "zerolinecolor": "white"
                      }
                    },
                    "shapedefaults": {
                      "line": {
                        "color": "#2a3f5f"
                      }
                    },
                    "ternary": {
                      "aaxis": {
                        "gridcolor": "white",
                        "linecolor": "white",
                        "ticks": ""
                      },
                      "baxis": {
                        "gridcolor": "white",
                        "linecolor": "white",
                        "ticks": ""
                      },
                      "bgcolor": "#E5ECF6",
                      "caxis": {
                        "gridcolor": "white",
                        "linecolor": "white",
                        "ticks": ""
                      }
                    },
                    "title": {
                      "x": 0.05
                    },
                    "xaxis": {
                      "automargin": true,
                      "gridcolor": "white",
                      "linecolor": "white",
                      "ticks": "",
                      "title": {
                        "standoff": 15
                      },
                      "zerolinecolor": "white",
                      "zerolinewidth": 2
                    },
                    "yaxis": {
                      "automargin": true,
                      "gridcolor": "white",
                      "linecolor": "white",
                      "ticks": "",
                      "title": {
                        "standoff": 15
                      },
                      "zerolinecolor": "white",
                      "zerolinewidth": 2
                    }
                  }
                },
                "title": {
                  "text": "Percentage of billionaire in countries"
                }
              }
            }
          },
          "metadata": {},
          "output_type": "display_data"
        }
      ],
      "source": [
        "fig = px.pie(df, values=df.country.value_counts()[:10], names=df.country.value_counts()[:10].index[:10], title='Percentage of billionaire in countries', )\n",
        "fig.update_traces(textposition='inside', textinfo='percent+label')\n",
        "fig.show()"
      ]
    },
    {
      "cell_type": "markdown",
      "metadata": {
        "id": "VRD4DAk0nvzm"
      },
      "source": [
        "Here from the data we can observe that united states has highest number of billionaires with count of **735** and it accounts for total **38.2%** of global billionaire count. Then china ranks second with **494** billionaires and third is india with **169** billionaires.\n",
        "\n",
        "\n",
        "---\n",
        "\n",
        "\n",
        "\n"
      ]
    },
    {
      "cell_type": "markdown",
      "metadata": {
        "id": "CFgY19N9nwbT"
      },
      "source": [
        "## Top 10 billionaires by net worth"
      ]
    },
    {
      "cell_type": "code",
      "execution_count": 7,
      "metadata": {
        "colab": {
          "base_uri": "https://localhost:8080/",
          "height": 985
        },
        "id": "K9HzDnWCxuhc",
        "outputId": "c2b364ce-f926-4887-f0a3-21aa331cf956"
      },
      "outputs": [
        {
          "data": {
            "text/html": [
              "<div>\n",
              "<style scoped>\n",
              "    .dataframe tbody tr th:only-of-type {\n",
              "        vertical-align: middle;\n",
              "    }\n",
              "\n",
              "    .dataframe tbody tr th {\n",
              "        vertical-align: top;\n",
              "    }\n",
              "\n",
              "    .dataframe thead th {\n",
              "        text-align: right;\n",
              "    }\n",
              "</style>\n",
              "<table border=\"1\" class=\"dataframe\">\n",
              "  <thead>\n",
              "    <tr style=\"text-align: right;\">\n",
              "      <th></th>\n",
              "      <th>rank</th>\n",
              "      <th>name</th>\n",
              "      <th>forbes_id</th>\n",
              "      <th>net_worth</th>\n",
              "      <th>age</th>\n",
              "      <th>age_range</th>\n",
              "      <th>country</th>\n",
              "      <th>source</th>\n",
              "      <th>industry</th>\n",
              "      <th>Age</th>\n",
              "      <th>...</th>\n",
              "      <th>Residence</th>\n",
              "      <th>Citizenship</th>\n",
              "      <th>Marital Status</th>\n",
              "      <th>Children</th>\n",
              "      <th>Education</th>\n",
              "      <th>Bachelor</th>\n",
              "      <th>Master</th>\n",
              "      <th>Doctorate</th>\n",
              "      <th>Drop Out</th>\n",
              "      <th>Self Made</th>\n",
              "    </tr>\n",
              "  </thead>\n",
              "  <tbody>\n",
              "    <tr>\n",
              "      <th>9</th>\n",
              "      <td>10</td>\n",
              "      <td>Steve Ballmer</td>\n",
              "      <td>steve-ballmer</td>\n",
              "      <td>80.7</td>\n",
              "      <td>67.0</td>\n",
              "      <td>7</td>\n",
              "      <td>United States</td>\n",
              "      <td>Microsoft</td>\n",
              "      <td>Technology</td>\n",
              "      <td>67.0</td>\n",
              "      <td>...</td>\n",
              "      <td>Hunts Point, Washington</td>\n",
              "      <td>United States</td>\n",
              "      <td>Married</td>\n",
              "      <td>3.0</td>\n",
              "      <td>Bachelor of Arts/Science, Harvard University; ...</td>\n",
              "      <td>1.0</td>\n",
              "      <td>0.0</td>\n",
              "      <td>0.0</td>\n",
              "      <td>1.0</td>\n",
              "      <td>1</td>\n",
              "    </tr>\n",
              "    <tr>\n",
              "      <th>8</th>\n",
              "      <td>9</td>\n",
              "      <td>Mukesh Ambani</td>\n",
              "      <td>mukesh-ambani</td>\n",
              "      <td>83.4</td>\n",
              "      <td>65.0</td>\n",
              "      <td>7</td>\n",
              "      <td>India</td>\n",
              "      <td>Diversified</td>\n",
              "      <td>Diversified</td>\n",
              "      <td>66.0</td>\n",
              "      <td>...</td>\n",
              "      <td>Mumbai, India</td>\n",
              "      <td>India</td>\n",
              "      <td>Married</td>\n",
              "      <td>3.0</td>\n",
              "      <td>Drop Out, Stanford University; Bachelor of Sci...</td>\n",
              "      <td>1.0</td>\n",
              "      <td>0.0</td>\n",
              "      <td>0.0</td>\n",
              "      <td>1.0</td>\n",
              "      <td>0</td>\n",
              "    </tr>\n",
              "    <tr>\n",
              "      <th>7</th>\n",
              "      <td>8</td>\n",
              "      <td>Carlos Slim Helu &amp; family</td>\n",
              "      <td>carlos-slim-helu</td>\n",
              "      <td>93.0</td>\n",
              "      <td>83.0</td>\n",
              "      <td>9</td>\n",
              "      <td>Mexico</td>\n",
              "      <td>Telecom</td>\n",
              "      <td>Telecom</td>\n",
              "      <td>83.0</td>\n",
              "      <td>...</td>\n",
              "      <td>Mexico City, Mexico</td>\n",
              "      <td>Mexico</td>\n",
              "      <td>Widowed</td>\n",
              "      <td>6.0</td>\n",
              "      <td>Bachelor of Arts/Science, Universidad Nacional...</td>\n",
              "      <td>1.0</td>\n",
              "      <td>0.0</td>\n",
              "      <td>0.0</td>\n",
              "      <td>0.0</td>\n",
              "      <td>1</td>\n",
              "    </tr>\n",
              "    <tr>\n",
              "      <th>6</th>\n",
              "      <td>7</td>\n",
              "      <td>Michael Bloomberg</td>\n",
              "      <td>michael-bloomberg</td>\n",
              "      <td>94.5</td>\n",
              "      <td>81.0</td>\n",
              "      <td>9</td>\n",
              "      <td>United States</td>\n",
              "      <td>Bloomberg LP</td>\n",
              "      <td>Media &amp; Entertainment</td>\n",
              "      <td>81.0</td>\n",
              "      <td>...</td>\n",
              "      <td>New York, New York</td>\n",
              "      <td>United States</td>\n",
              "      <td>In Relationship</td>\n",
              "      <td>2.0</td>\n",
              "      <td>Master of Business Administration, Harvard Bus...</td>\n",
              "      <td>1.0</td>\n",
              "      <td>1.0</td>\n",
              "      <td>0.0</td>\n",
              "      <td>0.0</td>\n",
              "      <td>1</td>\n",
              "    </tr>\n",
              "    <tr>\n",
              "      <th>5</th>\n",
              "      <td>6</td>\n",
              "      <td>Bill Gates</td>\n",
              "      <td>bill-gates</td>\n",
              "      <td>104.0</td>\n",
              "      <td>67.0</td>\n",
              "      <td>7</td>\n",
              "      <td>United States</td>\n",
              "      <td>Microsoft</td>\n",
              "      <td>Technology</td>\n",
              "      <td>67.0</td>\n",
              "      <td>...</td>\n",
              "      <td>Medina, Washington</td>\n",
              "      <td>United States</td>\n",
              "      <td>Divorced</td>\n",
              "      <td>3.0</td>\n",
              "      <td>Drop Out, Harvard University</td>\n",
              "      <td>0.0</td>\n",
              "      <td>0.0</td>\n",
              "      <td>0.0</td>\n",
              "      <td>1.0</td>\n",
              "      <td>1</td>\n",
              "    </tr>\n",
              "    <tr>\n",
              "      <th>4</th>\n",
              "      <td>5</td>\n",
              "      <td>Warren Buffett</td>\n",
              "      <td>warren-buffett</td>\n",
              "      <td>106.0</td>\n",
              "      <td>92.0</td>\n",
              "      <td>10</td>\n",
              "      <td>United States</td>\n",
              "      <td>Berkshire Hathaway</td>\n",
              "      <td>Finance &amp; Investments</td>\n",
              "      <td>92.0</td>\n",
              "      <td>...</td>\n",
              "      <td>Omaha, Nebraska</td>\n",
              "      <td>United States</td>\n",
              "      <td>Widowed, Remarried</td>\n",
              "      <td>3.0</td>\n",
              "      <td>Master of Science, Columbia University; Bachel...</td>\n",
              "      <td>1.0</td>\n",
              "      <td>1.0</td>\n",
              "      <td>0.0</td>\n",
              "      <td>0.0</td>\n",
              "      <td>1</td>\n",
              "    </tr>\n",
              "    <tr>\n",
              "      <th>3</th>\n",
              "      <td>4</td>\n",
              "      <td>Larry Ellison</td>\n",
              "      <td>larry-ellison</td>\n",
              "      <td>107.0</td>\n",
              "      <td>78.0</td>\n",
              "      <td>8</td>\n",
              "      <td>United States</td>\n",
              "      <td>Oracle</td>\n",
              "      <td>Technology</td>\n",
              "      <td>79.0</td>\n",
              "      <td>...</td>\n",
              "      <td>Lanai, Hawaii</td>\n",
              "      <td>United States</td>\n",
              "      <td>In Relationship</td>\n",
              "      <td>4.0</td>\n",
              "      <td>Drop Out, University of Chicago; Drop Out, Uni...</td>\n",
              "      <td>0.0</td>\n",
              "      <td>0.0</td>\n",
              "      <td>0.0</td>\n",
              "      <td>1.0</td>\n",
              "      <td>1</td>\n",
              "    </tr>\n",
              "    <tr>\n",
              "      <th>2</th>\n",
              "      <td>3</td>\n",
              "      <td>Jeff Bezos</td>\n",
              "      <td>jeff-bezos</td>\n",
              "      <td>114.0</td>\n",
              "      <td>59.0</td>\n",
              "      <td>6</td>\n",
              "      <td>United States</td>\n",
              "      <td>Amazon</td>\n",
              "      <td>Technology</td>\n",
              "      <td>59.0</td>\n",
              "      <td>...</td>\n",
              "      <td>Medina, Washington</td>\n",
              "      <td>United States</td>\n",
              "      <td>Engaged</td>\n",
              "      <td>4.0</td>\n",
              "      <td>Bachelor of Arts/Science, Princeton University</td>\n",
              "      <td>1.0</td>\n",
              "      <td>0.0</td>\n",
              "      <td>0.0</td>\n",
              "      <td>0.0</td>\n",
              "      <td>1</td>\n",
              "    </tr>\n",
              "    <tr>\n",
              "      <th>1</th>\n",
              "      <td>2</td>\n",
              "      <td>Elon Musk</td>\n",
              "      <td>elon-musk</td>\n",
              "      <td>180.0</td>\n",
              "      <td>51.0</td>\n",
              "      <td>6</td>\n",
              "      <td>United States</td>\n",
              "      <td>Tesla, SpaceX</td>\n",
              "      <td>Automotive</td>\n",
              "      <td>52.0</td>\n",
              "      <td>...</td>\n",
              "      <td>Austin, Texas</td>\n",
              "      <td>United States</td>\n",
              "      <td>Single</td>\n",
              "      <td>10.0</td>\n",
              "      <td>Bachelor of Arts/Science, University of Pennsy...</td>\n",
              "      <td>1.0</td>\n",
              "      <td>0.0</td>\n",
              "      <td>0.0</td>\n",
              "      <td>0.0</td>\n",
              "      <td>1</td>\n",
              "    </tr>\n",
              "    <tr>\n",
              "      <th>0</th>\n",
              "      <td>1</td>\n",
              "      <td>Bernard Arnault &amp; family</td>\n",
              "      <td>bernard-arnault</td>\n",
              "      <td>211.0</td>\n",
              "      <td>74.0</td>\n",
              "      <td>8</td>\n",
              "      <td>France</td>\n",
              "      <td>LVMH</td>\n",
              "      <td>Fashion &amp; Retail</td>\n",
              "      <td>74.0</td>\n",
              "      <td>...</td>\n",
              "      <td>Paris, France</td>\n",
              "      <td>France</td>\n",
              "      <td>Married</td>\n",
              "      <td>5.0</td>\n",
              "      <td>Bachelor of Arts/Science, Ecole Polytechnique ...</td>\n",
              "      <td>1.0</td>\n",
              "      <td>0.0</td>\n",
              "      <td>0.0</td>\n",
              "      <td>0.0</td>\n",
              "      <td>0</td>\n",
              "    </tr>\n",
              "  </tbody>\n",
              "</table>\n",
              "<p>10 rows × 23 columns</p>\n",
              "</div>"
            ],
            "text/plain": [
              "   rank                       name          forbes_id  net_worth   age  \\\n",
              "9    10              Steve Ballmer      steve-ballmer       80.7  67.0   \n",
              "8     9              Mukesh Ambani      mukesh-ambani       83.4  65.0   \n",
              "7     8  Carlos Slim Helu & family   carlos-slim-helu       93.0  83.0   \n",
              "6     7          Michael Bloomberg  michael-bloomberg       94.5  81.0   \n",
              "5     6                 Bill Gates         bill-gates      104.0  67.0   \n",
              "4     5             Warren Buffett     warren-buffett      106.0  92.0   \n",
              "3     4              Larry Ellison      larry-ellison      107.0  78.0   \n",
              "2     3                 Jeff Bezos         jeff-bezos      114.0  59.0   \n",
              "1     2                  Elon Musk          elon-musk      180.0  51.0   \n",
              "0     1   Bernard Arnault & family    bernard-arnault      211.0  74.0   \n",
              "\n",
              "   age_range        country              source               industry   Age  \\\n",
              "9          7  United States           Microsoft             Technology  67.0   \n",
              "8          7          India         Diversified            Diversified  66.0   \n",
              "7          9         Mexico             Telecom                Telecom  83.0   \n",
              "6          9  United States        Bloomberg LP  Media & Entertainment  81.0   \n",
              "5          7  United States           Microsoft             Technology  67.0   \n",
              "4         10  United States  Berkshire Hathaway  Finance & Investments  92.0   \n",
              "3          8  United States              Oracle             Technology  79.0   \n",
              "2          6  United States              Amazon             Technology  59.0   \n",
              "1          6  United States       Tesla, SpaceX             Automotive  52.0   \n",
              "0          8         France                LVMH       Fashion & Retail  74.0   \n",
              "\n",
              "   ...                Residence    Citizenship      Marital Status Children  \\\n",
              "9  ...  Hunts Point, Washington  United States             Married      3.0   \n",
              "8  ...            Mumbai, India          India             Married      3.0   \n",
              "7  ...      Mexico City, Mexico         Mexico             Widowed      6.0   \n",
              "6  ...       New York, New York  United States     In Relationship      2.0   \n",
              "5  ...       Medina, Washington  United States            Divorced      3.0   \n",
              "4  ...          Omaha, Nebraska  United States  Widowed, Remarried      3.0   \n",
              "3  ...            Lanai, Hawaii  United States     In Relationship      4.0   \n",
              "2  ...       Medina, Washington  United States             Engaged      4.0   \n",
              "1  ...            Austin, Texas  United States              Single     10.0   \n",
              "0  ...            Paris, France         France             Married      5.0   \n",
              "\n",
              "                                           Education Bachelor  Master  \\\n",
              "9  Bachelor of Arts/Science, Harvard University; ...      1.0     0.0   \n",
              "8  Drop Out, Stanford University; Bachelor of Sci...      1.0     0.0   \n",
              "7  Bachelor of Arts/Science, Universidad Nacional...      1.0     0.0   \n",
              "6  Master of Business Administration, Harvard Bus...      1.0     1.0   \n",
              "5                       Drop Out, Harvard University      0.0     0.0   \n",
              "4  Master of Science, Columbia University; Bachel...      1.0     1.0   \n",
              "3  Drop Out, University of Chicago; Drop Out, Uni...      0.0     0.0   \n",
              "2     Bachelor of Arts/Science, Princeton University      1.0     0.0   \n",
              "1  Bachelor of Arts/Science, University of Pennsy...      1.0     0.0   \n",
              "0  Bachelor of Arts/Science, Ecole Polytechnique ...      1.0     0.0   \n",
              "\n",
              "  Doctorate  Drop Out  Self Made  \n",
              "9       0.0       1.0          1  \n",
              "8       0.0       1.0          0  \n",
              "7       0.0       0.0          1  \n",
              "6       0.0       0.0          1  \n",
              "5       0.0       1.0          1  \n",
              "4       0.0       0.0          1  \n",
              "3       0.0       1.0          1  \n",
              "2       0.0       0.0          1  \n",
              "1       0.0       0.0          1  \n",
              "0       0.0       0.0          0  \n",
              "\n",
              "[10 rows x 23 columns]"
            ]
          },
          "execution_count": 7,
          "metadata": {},
          "output_type": "execute_result"
        }
      ],
      "source": [
        "top_ten_df = df.nlargest(10, ['net_worth']).sort_values(by='net_worth', ascending=True)\n",
        "\n",
        "top_ten_df"
      ]
    },
    {
      "cell_type": "code",
      "execution_count": 8,
      "metadata": {
        "colab": {
          "base_uri": "https://localhost:8080/",
          "height": 542
        },
        "id": "pKBQblvUboAn",
        "outputId": "0726bf4f-5437-4186-e378-32bbcb3c1505"
      },
      "outputs": [
        {
          "data": {
            "application/vnd.plotly.v1+json": {
              "config": {
                "plotlyServerURL": "https://plot.ly"
              },
              "data": [
                {
                  "alignmentgroup": "True",
                  "hovertemplate": "net_worth=%{marker.color}<br>name=%{y}<extra></extra>",
                  "legendgroup": "",
                  "marker": {
                    "color": [
                      80.7,
                      83.4,
                      93,
                      94.5,
                      104,
                      106,
                      107,
                      114,
                      180,
                      211
                    ],
                    "coloraxis": "coloraxis",
                    "pattern": {
                      "shape": ""
                    }
                  },
                  "name": "",
                  "offsetgroup": "",
                  "orientation": "h",
                  "showlegend": false,
                  "textposition": "auto",
                  "texttemplate": "%{x}",
                  "type": "bar",
                  "x": [
                    80.7,
                    83.4,
                    93,
                    94.5,
                    104,
                    106,
                    107,
                    114,
                    180,
                    211
                  ],
                  "xaxis": "x",
                  "y": [
                    "Steve Ballmer",
                    "Mukesh Ambani",
                    "Carlos Slim Helu & family",
                    "Michael Bloomberg",
                    "Bill Gates",
                    "Warren Buffett",
                    "Larry Ellison",
                    "Jeff Bezos",
                    "Elon Musk",
                    "Bernard Arnault & family"
                  ],
                  "yaxis": "y"
                }
              ],
              "layout": {
                "barmode": "relative",
                "coloraxis": {
                  "colorbar": {
                    "title": {
                      "text": "net_worth"
                    }
                  },
                  "colorscale": [
                    [
                      0,
                      "rgb(210, 251, 212)"
                    ],
                    [
                      0.16666666666666666,
                      "rgb(165, 219, 194)"
                    ],
                    [
                      0.3333333333333333,
                      "rgb(123, 188, 176)"
                    ],
                    [
                      0.5,
                      "rgb(85, 156, 158)"
                    ],
                    [
                      0.6666666666666666,
                      "rgb(58, 124, 137)"
                    ],
                    [
                      0.8333333333333334,
                      "rgb(35, 93, 114)"
                    ],
                    [
                      1,
                      "rgb(18, 63, 90)"
                    ]
                  ]
                },
                "legend": {
                  "tracegroupgap": 0
                },
                "template": {
                  "data": {
                    "bar": [
                      {
                        "error_x": {
                          "color": "#2a3f5f"
                        },
                        "error_y": {
                          "color": "#2a3f5f"
                        },
                        "marker": {
                          "line": {
                            "color": "#E5ECF6",
                            "width": 0.5
                          },
                          "pattern": {
                            "fillmode": "overlay",
                            "size": 10,
                            "solidity": 0.2
                          }
                        },
                        "type": "bar"
                      }
                    ],
                    "barpolar": [
                      {
                        "marker": {
                          "line": {
                            "color": "#E5ECF6",
                            "width": 0.5
                          },
                          "pattern": {
                            "fillmode": "overlay",
                            "size": 10,
                            "solidity": 0.2
                          }
                        },
                        "type": "barpolar"
                      }
                    ],
                    "carpet": [
                      {
                        "aaxis": {
                          "endlinecolor": "#2a3f5f",
                          "gridcolor": "white",
                          "linecolor": "white",
                          "minorgridcolor": "white",
                          "startlinecolor": "#2a3f5f"
                        },
                        "baxis": {
                          "endlinecolor": "#2a3f5f",
                          "gridcolor": "white",
                          "linecolor": "white",
                          "minorgridcolor": "white",
                          "startlinecolor": "#2a3f5f"
                        },
                        "type": "carpet"
                      }
                    ],
                    "choropleth": [
                      {
                        "colorbar": {
                          "outlinewidth": 0,
                          "ticks": ""
                        },
                        "type": "choropleth"
                      }
                    ],
                    "contour": [
                      {
                        "colorbar": {
                          "outlinewidth": 0,
                          "ticks": ""
                        },
                        "colorscale": [
                          [
                            0,
                            "#0d0887"
                          ],
                          [
                            0.1111111111111111,
                            "#46039f"
                          ],
                          [
                            0.2222222222222222,
                            "#7201a8"
                          ],
                          [
                            0.3333333333333333,
                            "#9c179e"
                          ],
                          [
                            0.4444444444444444,
                            "#bd3786"
                          ],
                          [
                            0.5555555555555556,
                            "#d8576b"
                          ],
                          [
                            0.6666666666666666,
                            "#ed7953"
                          ],
                          [
                            0.7777777777777778,
                            "#fb9f3a"
                          ],
                          [
                            0.8888888888888888,
                            "#fdca26"
                          ],
                          [
                            1,
                            "#f0f921"
                          ]
                        ],
                        "type": "contour"
                      }
                    ],
                    "contourcarpet": [
                      {
                        "colorbar": {
                          "outlinewidth": 0,
                          "ticks": ""
                        },
                        "type": "contourcarpet"
                      }
                    ],
                    "heatmap": [
                      {
                        "colorbar": {
                          "outlinewidth": 0,
                          "ticks": ""
                        },
                        "colorscale": [
                          [
                            0,
                            "#0d0887"
                          ],
                          [
                            0.1111111111111111,
                            "#46039f"
                          ],
                          [
                            0.2222222222222222,
                            "#7201a8"
                          ],
                          [
                            0.3333333333333333,
                            "#9c179e"
                          ],
                          [
                            0.4444444444444444,
                            "#bd3786"
                          ],
                          [
                            0.5555555555555556,
                            "#d8576b"
                          ],
                          [
                            0.6666666666666666,
                            "#ed7953"
                          ],
                          [
                            0.7777777777777778,
                            "#fb9f3a"
                          ],
                          [
                            0.8888888888888888,
                            "#fdca26"
                          ],
                          [
                            1,
                            "#f0f921"
                          ]
                        ],
                        "type": "heatmap"
                      }
                    ],
                    "heatmapgl": [
                      {
                        "colorbar": {
                          "outlinewidth": 0,
                          "ticks": ""
                        },
                        "colorscale": [
                          [
                            0,
                            "#0d0887"
                          ],
                          [
                            0.1111111111111111,
                            "#46039f"
                          ],
                          [
                            0.2222222222222222,
                            "#7201a8"
                          ],
                          [
                            0.3333333333333333,
                            "#9c179e"
                          ],
                          [
                            0.4444444444444444,
                            "#bd3786"
                          ],
                          [
                            0.5555555555555556,
                            "#d8576b"
                          ],
                          [
                            0.6666666666666666,
                            "#ed7953"
                          ],
                          [
                            0.7777777777777778,
                            "#fb9f3a"
                          ],
                          [
                            0.8888888888888888,
                            "#fdca26"
                          ],
                          [
                            1,
                            "#f0f921"
                          ]
                        ],
                        "type": "heatmapgl"
                      }
                    ],
                    "histogram": [
                      {
                        "marker": {
                          "pattern": {
                            "fillmode": "overlay",
                            "size": 10,
                            "solidity": 0.2
                          }
                        },
                        "type": "histogram"
                      }
                    ],
                    "histogram2d": [
                      {
                        "colorbar": {
                          "outlinewidth": 0,
                          "ticks": ""
                        },
                        "colorscale": [
                          [
                            0,
                            "#0d0887"
                          ],
                          [
                            0.1111111111111111,
                            "#46039f"
                          ],
                          [
                            0.2222222222222222,
                            "#7201a8"
                          ],
                          [
                            0.3333333333333333,
                            "#9c179e"
                          ],
                          [
                            0.4444444444444444,
                            "#bd3786"
                          ],
                          [
                            0.5555555555555556,
                            "#d8576b"
                          ],
                          [
                            0.6666666666666666,
                            "#ed7953"
                          ],
                          [
                            0.7777777777777778,
                            "#fb9f3a"
                          ],
                          [
                            0.8888888888888888,
                            "#fdca26"
                          ],
                          [
                            1,
                            "#f0f921"
                          ]
                        ],
                        "type": "histogram2d"
                      }
                    ],
                    "histogram2dcontour": [
                      {
                        "colorbar": {
                          "outlinewidth": 0,
                          "ticks": ""
                        },
                        "colorscale": [
                          [
                            0,
                            "#0d0887"
                          ],
                          [
                            0.1111111111111111,
                            "#46039f"
                          ],
                          [
                            0.2222222222222222,
                            "#7201a8"
                          ],
                          [
                            0.3333333333333333,
                            "#9c179e"
                          ],
                          [
                            0.4444444444444444,
                            "#bd3786"
                          ],
                          [
                            0.5555555555555556,
                            "#d8576b"
                          ],
                          [
                            0.6666666666666666,
                            "#ed7953"
                          ],
                          [
                            0.7777777777777778,
                            "#fb9f3a"
                          ],
                          [
                            0.8888888888888888,
                            "#fdca26"
                          ],
                          [
                            1,
                            "#f0f921"
                          ]
                        ],
                        "type": "histogram2dcontour"
                      }
                    ],
                    "mesh3d": [
                      {
                        "colorbar": {
                          "outlinewidth": 0,
                          "ticks": ""
                        },
                        "type": "mesh3d"
                      }
                    ],
                    "parcoords": [
                      {
                        "line": {
                          "colorbar": {
                            "outlinewidth": 0,
                            "ticks": ""
                          }
                        },
                        "type": "parcoords"
                      }
                    ],
                    "pie": [
                      {
                        "automargin": true,
                        "type": "pie"
                      }
                    ],
                    "scatter": [
                      {
                        "fillpattern": {
                          "fillmode": "overlay",
                          "size": 10,
                          "solidity": 0.2
                        },
                        "type": "scatter"
                      }
                    ],
                    "scatter3d": [
                      {
                        "line": {
                          "colorbar": {
                            "outlinewidth": 0,
                            "ticks": ""
                          }
                        },
                        "marker": {
                          "colorbar": {
                            "outlinewidth": 0,
                            "ticks": ""
                          }
                        },
                        "type": "scatter3d"
                      }
                    ],
                    "scattercarpet": [
                      {
                        "marker": {
                          "colorbar": {
                            "outlinewidth": 0,
                            "ticks": ""
                          }
                        },
                        "type": "scattercarpet"
                      }
                    ],
                    "scattergeo": [
                      {
                        "marker": {
                          "colorbar": {
                            "outlinewidth": 0,
                            "ticks": ""
                          }
                        },
                        "type": "scattergeo"
                      }
                    ],
                    "scattergl": [
                      {
                        "marker": {
                          "colorbar": {
                            "outlinewidth": 0,
                            "ticks": ""
                          }
                        },
                        "type": "scattergl"
                      }
                    ],
                    "scattermapbox": [
                      {
                        "marker": {
                          "colorbar": {
                            "outlinewidth": 0,
                            "ticks": ""
                          }
                        },
                        "type": "scattermapbox"
                      }
                    ],
                    "scatterpolar": [
                      {
                        "marker": {
                          "colorbar": {
                            "outlinewidth": 0,
                            "ticks": ""
                          }
                        },
                        "type": "scatterpolar"
                      }
                    ],
                    "scatterpolargl": [
                      {
                        "marker": {
                          "colorbar": {
                            "outlinewidth": 0,
                            "ticks": ""
                          }
                        },
                        "type": "scatterpolargl"
                      }
                    ],
                    "scatterternary": [
                      {
                        "marker": {
                          "colorbar": {
                            "outlinewidth": 0,
                            "ticks": ""
                          }
                        },
                        "type": "scatterternary"
                      }
                    ],
                    "surface": [
                      {
                        "colorbar": {
                          "outlinewidth": 0,
                          "ticks": ""
                        },
                        "colorscale": [
                          [
                            0,
                            "#0d0887"
                          ],
                          [
                            0.1111111111111111,
                            "#46039f"
                          ],
                          [
                            0.2222222222222222,
                            "#7201a8"
                          ],
                          [
                            0.3333333333333333,
                            "#9c179e"
                          ],
                          [
                            0.4444444444444444,
                            "#bd3786"
                          ],
                          [
                            0.5555555555555556,
                            "#d8576b"
                          ],
                          [
                            0.6666666666666666,
                            "#ed7953"
                          ],
                          [
                            0.7777777777777778,
                            "#fb9f3a"
                          ],
                          [
                            0.8888888888888888,
                            "#fdca26"
                          ],
                          [
                            1,
                            "#f0f921"
                          ]
                        ],
                        "type": "surface"
                      }
                    ],
                    "table": [
                      {
                        "cells": {
                          "fill": {
                            "color": "#EBF0F8"
                          },
                          "line": {
                            "color": "white"
                          }
                        },
                        "header": {
                          "fill": {
                            "color": "#C8D4E3"
                          },
                          "line": {
                            "color": "white"
                          }
                        },
                        "type": "table"
                      }
                    ]
                  },
                  "layout": {
                    "annotationdefaults": {
                      "arrowcolor": "#2a3f5f",
                      "arrowhead": 0,
                      "arrowwidth": 1
                    },
                    "autotypenumbers": "strict",
                    "coloraxis": {
                      "colorbar": {
                        "outlinewidth": 0,
                        "ticks": ""
                      }
                    },
                    "colorscale": {
                      "diverging": [
                        [
                          0,
                          "#8e0152"
                        ],
                        [
                          0.1,
                          "#c51b7d"
                        ],
                        [
                          0.2,
                          "#de77ae"
                        ],
                        [
                          0.3,
                          "#f1b6da"
                        ],
                        [
                          0.4,
                          "#fde0ef"
                        ],
                        [
                          0.5,
                          "#f7f7f7"
                        ],
                        [
                          0.6,
                          "#e6f5d0"
                        ],
                        [
                          0.7,
                          "#b8e186"
                        ],
                        [
                          0.8,
                          "#7fbc41"
                        ],
                        [
                          0.9,
                          "#4d9221"
                        ],
                        [
                          1,
                          "#276419"
                        ]
                      ],
                      "sequential": [
                        [
                          0,
                          "#0d0887"
                        ],
                        [
                          0.1111111111111111,
                          "#46039f"
                        ],
                        [
                          0.2222222222222222,
                          "#7201a8"
                        ],
                        [
                          0.3333333333333333,
                          "#9c179e"
                        ],
                        [
                          0.4444444444444444,
                          "#bd3786"
                        ],
                        [
                          0.5555555555555556,
                          "#d8576b"
                        ],
                        [
                          0.6666666666666666,
                          "#ed7953"
                        ],
                        [
                          0.7777777777777778,
                          "#fb9f3a"
                        ],
                        [
                          0.8888888888888888,
                          "#fdca26"
                        ],
                        [
                          1,
                          "#f0f921"
                        ]
                      ],
                      "sequentialminus": [
                        [
                          0,
                          "#0d0887"
                        ],
                        [
                          0.1111111111111111,
                          "#46039f"
                        ],
                        [
                          0.2222222222222222,
                          "#7201a8"
                        ],
                        [
                          0.3333333333333333,
                          "#9c179e"
                        ],
                        [
                          0.4444444444444444,
                          "#bd3786"
                        ],
                        [
                          0.5555555555555556,
                          "#d8576b"
                        ],
                        [
                          0.6666666666666666,
                          "#ed7953"
                        ],
                        [
                          0.7777777777777778,
                          "#fb9f3a"
                        ],
                        [
                          0.8888888888888888,
                          "#fdca26"
                        ],
                        [
                          1,
                          "#f0f921"
                        ]
                      ]
                    },
                    "colorway": [
                      "#636efa",
                      "#EF553B",
                      "#00cc96",
                      "#ab63fa",
                      "#FFA15A",
                      "#19d3f3",
                      "#FF6692",
                      "#B6E880",
                      "#FF97FF",
                      "#FECB52"
                    ],
                    "font": {
                      "color": "#2a3f5f"
                    },
                    "geo": {
                      "bgcolor": "white",
                      "lakecolor": "white",
                      "landcolor": "#E5ECF6",
                      "showlakes": true,
                      "showland": true,
                      "subunitcolor": "white"
                    },
                    "hoverlabel": {
                      "align": "left"
                    },
                    "hovermode": "closest",
                    "mapbox": {
                      "style": "light"
                    },
                    "paper_bgcolor": "white",
                    "plot_bgcolor": "#E5ECF6",
                    "polar": {
                      "angularaxis": {
                        "gridcolor": "white",
                        "linecolor": "white",
                        "ticks": ""
                      },
                      "bgcolor": "#E5ECF6",
                      "radialaxis": {
                        "gridcolor": "white",
                        "linecolor": "white",
                        "ticks": ""
                      }
                    },
                    "scene": {
                      "xaxis": {
                        "backgroundcolor": "#E5ECF6",
                        "gridcolor": "white",
                        "gridwidth": 2,
                        "linecolor": "white",
                        "showbackground": true,
                        "ticks": "",
                        "zerolinecolor": "white"
                      },
                      "yaxis": {
                        "backgroundcolor": "#E5ECF6",
                        "gridcolor": "white",
                        "gridwidth": 2,
                        "linecolor": "white",
                        "showbackground": true,
                        "ticks": "",
                        "zerolinecolor": "white"
                      },
                      "zaxis": {
                        "backgroundcolor": "#E5ECF6",
                        "gridcolor": "white",
                        "gridwidth": 2,
                        "linecolor": "white",
                        "showbackground": true,
                        "ticks": "",
                        "zerolinecolor": "white"
                      }
                    },
                    "shapedefaults": {
                      "line": {
                        "color": "#2a3f5f"
                      }
                    },
                    "ternary": {
                      "aaxis": {
                        "gridcolor": "white",
                        "linecolor": "white",
                        "ticks": ""
                      },
                      "baxis": {
                        "gridcolor": "white",
                        "linecolor": "white",
                        "ticks": ""
                      },
                      "bgcolor": "#E5ECF6",
                      "caxis": {
                        "gridcolor": "white",
                        "linecolor": "white",
                        "ticks": ""
                      }
                    },
                    "title": {
                      "x": 0.05
                    },
                    "xaxis": {
                      "automargin": true,
                      "gridcolor": "white",
                      "linecolor": "white",
                      "ticks": "",
                      "title": {
                        "standoff": 15
                      },
                      "zerolinecolor": "white",
                      "zerolinewidth": 2
                    },
                    "yaxis": {
                      "automargin": true,
                      "gridcolor": "white",
                      "linecolor": "white",
                      "ticks": "",
                      "title": {
                        "standoff": 15
                      },
                      "zerolinecolor": "white",
                      "zerolinewidth": 2
                    }
                  }
                },
                "title": {
                  "text": "Top 10 Billionaires by Net Worth"
                },
                "xaxis": {
                  "anchor": "y",
                  "domain": [
                    0,
                    1
                  ],
                  "title": {
                    "text": "Net Worth (in billions)"
                  }
                },
                "yaxis": {
                  "anchor": "x",
                  "domain": [
                    0,
                    1
                  ],
                  "title": {
                    "text": "Billionaire Name"
                  }
                }
              }
            }
          },
          "metadata": {},
          "output_type": "display_data"
        }
      ],
      "source": [
        "fig = px.bar(top_ten_df, y='name', x='net_worth', color='net_worth', title='Top 10 Billionaires by Net Worth',color_continuous_scale='darkmint' ,text_auto=True)\n",
        "fig.update_layout(xaxis_title='Net Worth (in billions)',\n",
        "                  yaxis_title='Billionaire Name')\n",
        "\n",
        "fig.show()"
      ]
    },
    {
      "cell_type": "markdown",
      "metadata": {
        "id": "YhwwoEibo1E7"
      },
      "source": [
        "Here is list of top 10 billionaires by net worth.\n",
        "\n",
        "From the graph we can observe that **Bernard Arnault & family** tops with \\$211 billion. Second is Elon Musk with \\$180 billion net worth.\n",
        "\n",
        "\n",
        "\n",
        "---\n",
        "\n",
        "\n",
        "\n"
      ]
    },
    {
      "cell_type": "code",
      "execution_count": 9,
      "metadata": {
        "colab": {
          "base_uri": "https://localhost:8080/"
        },
        "id": "2mj1vt_yrxzy",
        "outputId": "dd686c70-b533-4995-9ed8-1ab84cfe7c72"
      },
      "outputs": [
        {
          "data": {
            "text/plain": [
              "1    1812\n",
              "0     828\n",
              "Name: Self Made, dtype: int64"
            ]
          },
          "execution_count": 9,
          "metadata": {},
          "output_type": "execute_result"
        }
      ],
      "source": [
        "df['Self Made'].value_counts()"
      ]
    },
    {
      "cell_type": "code",
      "execution_count": 10,
      "metadata": {
        "colab": {
          "base_uri": "https://localhost:8080/",
          "height": 542
        },
        "id": "6gPPbo-gn36z",
        "outputId": "eb41cfbe-340b-409a-e3d7-edde80c6ff72"
      },
      "outputs": [
        {
          "data": {
            "application/vnd.plotly.v1+json": {
              "config": {
                "plotlyServerURL": "https://plot.ly"
              },
              "data": [
                {
                  "alignmentgroup": "True",
                  "hovertemplate": "Self Made=%{marker.color}<br>Count=%{y}<extra></extra>",
                  "legendgroup": "",
                  "marker": {
                    "color": [
                      1,
                      0
                    ],
                    "coloraxis": "coloraxis",
                    "pattern": {
                      "shape": ""
                    }
                  },
                  "name": "",
                  "offsetgroup": "",
                  "orientation": "v",
                  "showlegend": false,
                  "textangle": 0,
                  "textfont": {
                    "size": 12
                  },
                  "textposition": "outside",
                  "texttemplate": "%{y}",
                  "type": "bar",
                  "x": [
                    1,
                    0
                  ],
                  "xaxis": "x",
                  "y": [
                    1812,
                    828
                  ],
                  "yaxis": "y"
                }
              ],
              "layout": {
                "barmode": "relative",
                "coloraxis": {
                  "colorbar": {
                    "title": {
                      "text": "Self Made"
                    }
                  },
                  "colorscale": [
                    [
                      0,
                      "#0d0887"
                    ],
                    [
                      0.1111111111111111,
                      "#46039f"
                    ],
                    [
                      0.2222222222222222,
                      "#7201a8"
                    ],
                    [
                      0.3333333333333333,
                      "#9c179e"
                    ],
                    [
                      0.4444444444444444,
                      "#bd3786"
                    ],
                    [
                      0.5555555555555556,
                      "#d8576b"
                    ],
                    [
                      0.6666666666666666,
                      "#ed7953"
                    ],
                    [
                      0.7777777777777778,
                      "#fb9f3a"
                    ],
                    [
                      0.8888888888888888,
                      "#fdca26"
                    ],
                    [
                      1,
                      "#f0f921"
                    ]
                  ]
                },
                "legend": {
                  "tracegroupgap": 0
                },
                "showlegend": false,
                "template": {
                  "data": {
                    "bar": [
                      {
                        "error_x": {
                          "color": "#2a3f5f"
                        },
                        "error_y": {
                          "color": "#2a3f5f"
                        },
                        "marker": {
                          "line": {
                            "color": "#E5ECF6",
                            "width": 0.5
                          },
                          "pattern": {
                            "fillmode": "overlay",
                            "size": 10,
                            "solidity": 0.2
                          }
                        },
                        "type": "bar"
                      }
                    ],
                    "barpolar": [
                      {
                        "marker": {
                          "line": {
                            "color": "#E5ECF6",
                            "width": 0.5
                          },
                          "pattern": {
                            "fillmode": "overlay",
                            "size": 10,
                            "solidity": 0.2
                          }
                        },
                        "type": "barpolar"
                      }
                    ],
                    "carpet": [
                      {
                        "aaxis": {
                          "endlinecolor": "#2a3f5f",
                          "gridcolor": "white",
                          "linecolor": "white",
                          "minorgridcolor": "white",
                          "startlinecolor": "#2a3f5f"
                        },
                        "baxis": {
                          "endlinecolor": "#2a3f5f",
                          "gridcolor": "white",
                          "linecolor": "white",
                          "minorgridcolor": "white",
                          "startlinecolor": "#2a3f5f"
                        },
                        "type": "carpet"
                      }
                    ],
                    "choropleth": [
                      {
                        "colorbar": {
                          "outlinewidth": 0,
                          "ticks": ""
                        },
                        "type": "choropleth"
                      }
                    ],
                    "contour": [
                      {
                        "colorbar": {
                          "outlinewidth": 0,
                          "ticks": ""
                        },
                        "colorscale": [
                          [
                            0,
                            "#0d0887"
                          ],
                          [
                            0.1111111111111111,
                            "#46039f"
                          ],
                          [
                            0.2222222222222222,
                            "#7201a8"
                          ],
                          [
                            0.3333333333333333,
                            "#9c179e"
                          ],
                          [
                            0.4444444444444444,
                            "#bd3786"
                          ],
                          [
                            0.5555555555555556,
                            "#d8576b"
                          ],
                          [
                            0.6666666666666666,
                            "#ed7953"
                          ],
                          [
                            0.7777777777777778,
                            "#fb9f3a"
                          ],
                          [
                            0.8888888888888888,
                            "#fdca26"
                          ],
                          [
                            1,
                            "#f0f921"
                          ]
                        ],
                        "type": "contour"
                      }
                    ],
                    "contourcarpet": [
                      {
                        "colorbar": {
                          "outlinewidth": 0,
                          "ticks": ""
                        },
                        "type": "contourcarpet"
                      }
                    ],
                    "heatmap": [
                      {
                        "colorbar": {
                          "outlinewidth": 0,
                          "ticks": ""
                        },
                        "colorscale": [
                          [
                            0,
                            "#0d0887"
                          ],
                          [
                            0.1111111111111111,
                            "#46039f"
                          ],
                          [
                            0.2222222222222222,
                            "#7201a8"
                          ],
                          [
                            0.3333333333333333,
                            "#9c179e"
                          ],
                          [
                            0.4444444444444444,
                            "#bd3786"
                          ],
                          [
                            0.5555555555555556,
                            "#d8576b"
                          ],
                          [
                            0.6666666666666666,
                            "#ed7953"
                          ],
                          [
                            0.7777777777777778,
                            "#fb9f3a"
                          ],
                          [
                            0.8888888888888888,
                            "#fdca26"
                          ],
                          [
                            1,
                            "#f0f921"
                          ]
                        ],
                        "type": "heatmap"
                      }
                    ],
                    "heatmapgl": [
                      {
                        "colorbar": {
                          "outlinewidth": 0,
                          "ticks": ""
                        },
                        "colorscale": [
                          [
                            0,
                            "#0d0887"
                          ],
                          [
                            0.1111111111111111,
                            "#46039f"
                          ],
                          [
                            0.2222222222222222,
                            "#7201a8"
                          ],
                          [
                            0.3333333333333333,
                            "#9c179e"
                          ],
                          [
                            0.4444444444444444,
                            "#bd3786"
                          ],
                          [
                            0.5555555555555556,
                            "#d8576b"
                          ],
                          [
                            0.6666666666666666,
                            "#ed7953"
                          ],
                          [
                            0.7777777777777778,
                            "#fb9f3a"
                          ],
                          [
                            0.8888888888888888,
                            "#fdca26"
                          ],
                          [
                            1,
                            "#f0f921"
                          ]
                        ],
                        "type": "heatmapgl"
                      }
                    ],
                    "histogram": [
                      {
                        "marker": {
                          "pattern": {
                            "fillmode": "overlay",
                            "size": 10,
                            "solidity": 0.2
                          }
                        },
                        "type": "histogram"
                      }
                    ],
                    "histogram2d": [
                      {
                        "colorbar": {
                          "outlinewidth": 0,
                          "ticks": ""
                        },
                        "colorscale": [
                          [
                            0,
                            "#0d0887"
                          ],
                          [
                            0.1111111111111111,
                            "#46039f"
                          ],
                          [
                            0.2222222222222222,
                            "#7201a8"
                          ],
                          [
                            0.3333333333333333,
                            "#9c179e"
                          ],
                          [
                            0.4444444444444444,
                            "#bd3786"
                          ],
                          [
                            0.5555555555555556,
                            "#d8576b"
                          ],
                          [
                            0.6666666666666666,
                            "#ed7953"
                          ],
                          [
                            0.7777777777777778,
                            "#fb9f3a"
                          ],
                          [
                            0.8888888888888888,
                            "#fdca26"
                          ],
                          [
                            1,
                            "#f0f921"
                          ]
                        ],
                        "type": "histogram2d"
                      }
                    ],
                    "histogram2dcontour": [
                      {
                        "colorbar": {
                          "outlinewidth": 0,
                          "ticks": ""
                        },
                        "colorscale": [
                          [
                            0,
                            "#0d0887"
                          ],
                          [
                            0.1111111111111111,
                            "#46039f"
                          ],
                          [
                            0.2222222222222222,
                            "#7201a8"
                          ],
                          [
                            0.3333333333333333,
                            "#9c179e"
                          ],
                          [
                            0.4444444444444444,
                            "#bd3786"
                          ],
                          [
                            0.5555555555555556,
                            "#d8576b"
                          ],
                          [
                            0.6666666666666666,
                            "#ed7953"
                          ],
                          [
                            0.7777777777777778,
                            "#fb9f3a"
                          ],
                          [
                            0.8888888888888888,
                            "#fdca26"
                          ],
                          [
                            1,
                            "#f0f921"
                          ]
                        ],
                        "type": "histogram2dcontour"
                      }
                    ],
                    "mesh3d": [
                      {
                        "colorbar": {
                          "outlinewidth": 0,
                          "ticks": ""
                        },
                        "type": "mesh3d"
                      }
                    ],
                    "parcoords": [
                      {
                        "line": {
                          "colorbar": {
                            "outlinewidth": 0,
                            "ticks": ""
                          }
                        },
                        "type": "parcoords"
                      }
                    ],
                    "pie": [
                      {
                        "automargin": true,
                        "type": "pie"
                      }
                    ],
                    "scatter": [
                      {
                        "fillpattern": {
                          "fillmode": "overlay",
                          "size": 10,
                          "solidity": 0.2
                        },
                        "type": "scatter"
                      }
                    ],
                    "scatter3d": [
                      {
                        "line": {
                          "colorbar": {
                            "outlinewidth": 0,
                            "ticks": ""
                          }
                        },
                        "marker": {
                          "colorbar": {
                            "outlinewidth": 0,
                            "ticks": ""
                          }
                        },
                        "type": "scatter3d"
                      }
                    ],
                    "scattercarpet": [
                      {
                        "marker": {
                          "colorbar": {
                            "outlinewidth": 0,
                            "ticks": ""
                          }
                        },
                        "type": "scattercarpet"
                      }
                    ],
                    "scattergeo": [
                      {
                        "marker": {
                          "colorbar": {
                            "outlinewidth": 0,
                            "ticks": ""
                          }
                        },
                        "type": "scattergeo"
                      }
                    ],
                    "scattergl": [
                      {
                        "marker": {
                          "colorbar": {
                            "outlinewidth": 0,
                            "ticks": ""
                          }
                        },
                        "type": "scattergl"
                      }
                    ],
                    "scattermapbox": [
                      {
                        "marker": {
                          "colorbar": {
                            "outlinewidth": 0,
                            "ticks": ""
                          }
                        },
                        "type": "scattermapbox"
                      }
                    ],
                    "scatterpolar": [
                      {
                        "marker": {
                          "colorbar": {
                            "outlinewidth": 0,
                            "ticks": ""
                          }
                        },
                        "type": "scatterpolar"
                      }
                    ],
                    "scatterpolargl": [
                      {
                        "marker": {
                          "colorbar": {
                            "outlinewidth": 0,
                            "ticks": ""
                          }
                        },
                        "type": "scatterpolargl"
                      }
                    ],
                    "scatterternary": [
                      {
                        "marker": {
                          "colorbar": {
                            "outlinewidth": 0,
                            "ticks": ""
                          }
                        },
                        "type": "scatterternary"
                      }
                    ],
                    "surface": [
                      {
                        "colorbar": {
                          "outlinewidth": 0,
                          "ticks": ""
                        },
                        "colorscale": [
                          [
                            0,
                            "#0d0887"
                          ],
                          [
                            0.1111111111111111,
                            "#46039f"
                          ],
                          [
                            0.2222222222222222,
                            "#7201a8"
                          ],
                          [
                            0.3333333333333333,
                            "#9c179e"
                          ],
                          [
                            0.4444444444444444,
                            "#bd3786"
                          ],
                          [
                            0.5555555555555556,
                            "#d8576b"
                          ],
                          [
                            0.6666666666666666,
                            "#ed7953"
                          ],
                          [
                            0.7777777777777778,
                            "#fb9f3a"
                          ],
                          [
                            0.8888888888888888,
                            "#fdca26"
                          ],
                          [
                            1,
                            "#f0f921"
                          ]
                        ],
                        "type": "surface"
                      }
                    ],
                    "table": [
                      {
                        "cells": {
                          "fill": {
                            "color": "#EBF0F8"
                          },
                          "line": {
                            "color": "white"
                          }
                        },
                        "header": {
                          "fill": {
                            "color": "#C8D4E3"
                          },
                          "line": {
                            "color": "white"
                          }
                        },
                        "type": "table"
                      }
                    ]
                  },
                  "layout": {
                    "annotationdefaults": {
                      "arrowcolor": "#2a3f5f",
                      "arrowhead": 0,
                      "arrowwidth": 1
                    },
                    "autotypenumbers": "strict",
                    "coloraxis": {
                      "colorbar": {
                        "outlinewidth": 0,
                        "ticks": ""
                      }
                    },
                    "colorscale": {
                      "diverging": [
                        [
                          0,
                          "#8e0152"
                        ],
                        [
                          0.1,
                          "#c51b7d"
                        ],
                        [
                          0.2,
                          "#de77ae"
                        ],
                        [
                          0.3,
                          "#f1b6da"
                        ],
                        [
                          0.4,
                          "#fde0ef"
                        ],
                        [
                          0.5,
                          "#f7f7f7"
                        ],
                        [
                          0.6,
                          "#e6f5d0"
                        ],
                        [
                          0.7,
                          "#b8e186"
                        ],
                        [
                          0.8,
                          "#7fbc41"
                        ],
                        [
                          0.9,
                          "#4d9221"
                        ],
                        [
                          1,
                          "#276419"
                        ]
                      ],
                      "sequential": [
                        [
                          0,
                          "#0d0887"
                        ],
                        [
                          0.1111111111111111,
                          "#46039f"
                        ],
                        [
                          0.2222222222222222,
                          "#7201a8"
                        ],
                        [
                          0.3333333333333333,
                          "#9c179e"
                        ],
                        [
                          0.4444444444444444,
                          "#bd3786"
                        ],
                        [
                          0.5555555555555556,
                          "#d8576b"
                        ],
                        [
                          0.6666666666666666,
                          "#ed7953"
                        ],
                        [
                          0.7777777777777778,
                          "#fb9f3a"
                        ],
                        [
                          0.8888888888888888,
                          "#fdca26"
                        ],
                        [
                          1,
                          "#f0f921"
                        ]
                      ],
                      "sequentialminus": [
                        [
                          0,
                          "#0d0887"
                        ],
                        [
                          0.1111111111111111,
                          "#46039f"
                        ],
                        [
                          0.2222222222222222,
                          "#7201a8"
                        ],
                        [
                          0.3333333333333333,
                          "#9c179e"
                        ],
                        [
                          0.4444444444444444,
                          "#bd3786"
                        ],
                        [
                          0.5555555555555556,
                          "#d8576b"
                        ],
                        [
                          0.6666666666666666,
                          "#ed7953"
                        ],
                        [
                          0.7777777777777778,
                          "#fb9f3a"
                        ],
                        [
                          0.8888888888888888,
                          "#fdca26"
                        ],
                        [
                          1,
                          "#f0f921"
                        ]
                      ]
                    },
                    "colorway": [
                      "#636efa",
                      "#EF553B",
                      "#00cc96",
                      "#ab63fa",
                      "#FFA15A",
                      "#19d3f3",
                      "#FF6692",
                      "#B6E880",
                      "#FF97FF",
                      "#FECB52"
                    ],
                    "font": {
                      "color": "#2a3f5f"
                    },
                    "geo": {
                      "bgcolor": "white",
                      "lakecolor": "white",
                      "landcolor": "#E5ECF6",
                      "showlakes": true,
                      "showland": true,
                      "subunitcolor": "white"
                    },
                    "hoverlabel": {
                      "align": "left"
                    },
                    "hovermode": "closest",
                    "mapbox": {
                      "style": "light"
                    },
                    "paper_bgcolor": "white",
                    "plot_bgcolor": "#E5ECF6",
                    "polar": {
                      "angularaxis": {
                        "gridcolor": "white",
                        "linecolor": "white",
                        "ticks": ""
                      },
                      "bgcolor": "#E5ECF6",
                      "radialaxis": {
                        "gridcolor": "white",
                        "linecolor": "white",
                        "ticks": ""
                      }
                    },
                    "scene": {
                      "xaxis": {
                        "backgroundcolor": "#E5ECF6",
                        "gridcolor": "white",
                        "gridwidth": 2,
                        "linecolor": "white",
                        "showbackground": true,
                        "ticks": "",
                        "zerolinecolor": "white"
                      },
                      "yaxis": {
                        "backgroundcolor": "#E5ECF6",
                        "gridcolor": "white",
                        "gridwidth": 2,
                        "linecolor": "white",
                        "showbackground": true,
                        "ticks": "",
                        "zerolinecolor": "white"
                      },
                      "zaxis": {
                        "backgroundcolor": "#E5ECF6",
                        "gridcolor": "white",
                        "gridwidth": 2,
                        "linecolor": "white",
                        "showbackground": true,
                        "ticks": "",
                        "zerolinecolor": "white"
                      }
                    },
                    "shapedefaults": {
                      "line": {
                        "color": "#2a3f5f"
                      }
                    },
                    "ternary": {
                      "aaxis": {
                        "gridcolor": "white",
                        "linecolor": "white",
                        "ticks": ""
                      },
                      "baxis": {
                        "gridcolor": "white",
                        "linecolor": "white",
                        "ticks": ""
                      },
                      "bgcolor": "#E5ECF6",
                      "caxis": {
                        "gridcolor": "white",
                        "linecolor": "white",
                        "ticks": ""
                      }
                    },
                    "title": {
                      "x": 0.05
                    },
                    "xaxis": {
                      "automargin": true,
                      "gridcolor": "white",
                      "linecolor": "white",
                      "ticks": "",
                      "title": {
                        "standoff": 15
                      },
                      "zerolinecolor": "white",
                      "zerolinewidth": 2
                    },
                    "yaxis": {
                      "automargin": true,
                      "gridcolor": "white",
                      "linecolor": "white",
                      "ticks": "",
                      "title": {
                        "standoff": 15
                      },
                      "zerolinecolor": "white",
                      "zerolinewidth": 2
                    }
                  }
                },
                "title": {
                  "text": "Number of Self-Made and Non-Self-Made Billionaires"
                },
                "xaxis": {
                  "anchor": "y",
                  "domain": [
                    0,
                    1
                  ],
                  "title": {
                    "text": "Billionaire Type"
                  }
                },
                "yaxis": {
                  "anchor": "x",
                  "domain": [
                    0,
                    1
                  ],
                  "title": {
                    "text": "Count"
                  }
                }
              }
            }
          },
          "metadata": {},
          "output_type": "display_data"
        }
      ],
      "source": [
        "self_made_counts = df['Self Made'].value_counts()\n",
        "\n",
        "# Create a DataFrame for the counts\n",
        "counts_df = pd.DataFrame({'Self Made': self_made_counts.index, 'Count': self_made_counts.values})\n",
        "\n",
        "df[\"Self Made\"] = df[\"Self Made\"].astype(str)\n",
        "\n",
        "# Create the bar plot using Plotly Express\n",
        "fig = px.bar(counts_df, x='Self Made', y='Count', color='Self Made',\n",
        "             title='Number of Self-Made and Non-Self-Made Billionaires', text_auto=True)\n",
        "\n",
        "# Customize the layout\n",
        "fig.update_layout(xaxis_title='Billionaire Type',\n",
        "                  yaxis_title='Count',\n",
        "                  showlegend=False)  # Hide the legend since color represents the categories\n",
        "# customise text\n",
        "fig.update_traces(textfont_size=12, textangle=0, textposition=\"outside\")\n",
        "\n",
        "# Show the plot\n",
        "fig.show()"
      ]
    },
    {
      "cell_type": "code",
      "execution_count": 11,
      "metadata": {
        "colab": {
          "base_uri": "https://localhost:8080/"
        },
        "id": "62RxoQeEY3vY",
        "outputId": "ab732489-cb05-49b4-94a9-5322c319d952"
      },
      "outputs": [
        {
          "data": {
            "text/plain": [
              "Finance & Investments         372\n",
              "Manufacturing                 324\n",
              "Technology                    314\n",
              "Fashion & Retail              266\n",
              "Food & Beverage               212\n",
              "Healthcare                    201\n",
              "Real Estate                   193\n",
              "Diversified                   187\n",
              "Energy                        100\n",
              "Media & Entertainment          91\n",
              "Metals & Mining                74\n",
              "Automotive                     73\n",
              "Service                        53\n",
              "Construction & Engineering     45\n",
              "Logistics                      40\n",
              "Sports                         39\n",
              "Telecom                        31\n",
              "Gambling & Casinos             25\n",
              "Name: industry, dtype: int64"
            ]
          },
          "execution_count": 11,
          "metadata": {},
          "output_type": "execute_result"
        }
      ],
      "source": [
        "df.industry.value_counts()"
      ]
    },
    {
      "cell_type": "code",
      "execution_count": null,
      "metadata": {
        "colab": {
          "base_uri": "https://localhost:8080/",
          "height": 718
        },
        "id": "oVTwp9zkZFym",
        "outputId": "8d47c646-a551-4da2-ae23-d793c3869b28"
      },
      "outputs": [
        {
          "data": {
            "image/png": "[encoded data removed]",
            "text/plain": [
              "<Figure size 1400x800 with 1 Axes>"
            ]
          },
          "metadata": {},
          "output_type": "display_data"
        }
      ],
      "source": [
        "plt.figure(figsize=(14, 8))\n",
        "sns.countplot(y='industry', data=df, order=df['industry'].value_counts().index, palette='viridis', hue='industry')\n",
        "plt.grid(visible=True, axis='x')\n",
        "plt.title('Number of Billionaires in Each Industry')\n",
        "plt.xlabel('Number of Billionaires')\n",
        "plt.ylabel('Industry')\n",
        "plt.show()"
      ]
    },
    {
      "cell_type": "code",
      "execution_count": 12,
      "metadata": {
        "colab": {
          "base_uri": "https://localhost:8080/",
          "height": 817
        },
        "id": "a3e9KyWcthVS",
        "outputId": "a7b1f07c-e72d-40d5-dd72-e8529bac5582"
      },
      "outputs": [
        {
          "data": {
            "application/vnd.plotly.v1+json": {
              "config": {
                "plotlyServerURL": "https://plot.ly"
              },
              "data": [
                {
                  "alignmentgroup": "True",
                  "hovertemplate": "Industry=%{y}<br>Number of billionaire=%{x}<extra></extra>",
                  "legendgroup": "Finance & Investments",
                  "marker": {
                    "color": "rgb(141,211,199)",
                    "pattern": {
                      "shape": ""
                    }
                  },
                  "name": "Finance & Investments",
                  "offsetgroup": "Finance & Investments",
                  "orientation": "h",
                  "showlegend": true,
                  "textposition": "auto",
                  "texttemplate": "%{x}",
                  "type": "bar",
                  "x": [
                    372
                  ],
                  "xaxis": "x",
                  "y": [
                    "Finance & Investments"
                  ],
                  "yaxis": "y"
                },
                {
                  "alignmentgroup": "True",
                  "hovertemplate": "Industry=%{y}<br>Number of billionaire=%{x}<extra></extra>",
                  "legendgroup": "Manufacturing",
                  "marker": {
                    "color": "rgb(255,255,179)",
                    "pattern": {
                      "shape": ""
                    }
                  },
                  "name": "Manufacturing",
                  "offsetgroup": "Manufacturing",
                  "orientation": "h",
                  "showlegend": true,
                  "textposition": "auto",
                  "texttemplate": "%{x}",
                  "type": "bar",
                  "x": [
                    324
                  ],
                  "xaxis": "x",
                  "y": [
                    "Manufacturing"
                  ],
                  "yaxis": "y"
                },
                {
                  "alignmentgroup": "True",
                  "hovertemplate": "Industry=%{y}<br>Number of billionaire=%{x}<extra></extra>",
                  "legendgroup": "Technology",
                  "marker": {
                    "color": "rgb(190,186,218)",
                    "pattern": {
                      "shape": ""
                    }
                  },
                  "name": "Technology",
                  "offsetgroup": "Technology",
                  "orientation": "h",
                  "showlegend": true,
                  "textposition": "auto",
                  "texttemplate": "%{x}",
                  "type": "bar",
                  "x": [
                    314
                  ],
                  "xaxis": "x",
                  "y": [
                    "Technology"
                  ],
                  "yaxis": "y"
                },
                {
                  "alignmentgroup": "True",
                  "hovertemplate": "Industry=%{y}<br>Number of billionaire=%{x}<extra></extra>",
                  "legendgroup": "Fashion & Retail",
                  "marker": {
                    "color": "rgb(251,128,114)",
                    "pattern": {
                      "shape": ""
                    }
                  },
                  "name": "Fashion & Retail",
                  "offsetgroup": "Fashion & Retail",
                  "orientation": "h",
                  "showlegend": true,
                  "textposition": "auto",
                  "texttemplate": "%{x}",
                  "type": "bar",
                  "x": [
                    266
                  ],
                  "xaxis": "x",
                  "y": [
                    "Fashion & Retail"
                  ],
                  "yaxis": "y"
                },
                {
                  "alignmentgroup": "True",
                  "hovertemplate": "Industry=%{y}<br>Number of billionaire=%{x}<extra></extra>",
                  "legendgroup": "Food & Beverage",
                  "marker": {
                    "color": "rgb(128,177,211)",
                    "pattern": {
                      "shape": ""
                    }
                  },
                  "name": "Food & Beverage",
                  "offsetgroup": "Food & Beverage",
                  "orientation": "h",
                  "showlegend": true,
                  "textposition": "auto",
                  "texttemplate": "%{x}",
                  "type": "bar",
                  "x": [
                    212
                  ],
                  "xaxis": "x",
                  "y": [
                    "Food & Beverage"
                  ],
                  "yaxis": "y"
                },
                {
                  "alignmentgroup": "True",
                  "hovertemplate": "Industry=%{y}<br>Number of billionaire=%{x}<extra></extra>",
                  "legendgroup": "Healthcare",
                  "marker": {
                    "color": "rgb(253,180,98)",
                    "pattern": {
                      "shape": ""
                    }
                  },
                  "name": "Healthcare",
                  "offsetgroup": "Healthcare",
                  "orientation": "h",
                  "showlegend": true,
                  "textposition": "auto",
                  "texttemplate": "%{x}",
                  "type": "bar",
                  "x": [
                    201
                  ],
                  "xaxis": "x",
                  "y": [
                    "Healthcare"
                  ],
                  "yaxis": "y"
                },
                {
                  "alignmentgroup": "True",
                  "hovertemplate": "Industry=%{y}<br>Number of billionaire=%{x}<extra></extra>",
                  "legendgroup": "Real Estate",
                  "marker": {
                    "color": "rgb(179,222,105)",
                    "pattern": {
                      "shape": ""
                    }
                  },
                  "name": "Real Estate",
                  "offsetgroup": "Real Estate",
                  "orientation": "h",
                  "showlegend": true,
                  "textposition": "auto",
                  "texttemplate": "%{x}",
                  "type": "bar",
                  "x": [
                    193
                  ],
                  "xaxis": "x",
                  "y": [
                    "Real Estate"
                  ],
                  "yaxis": "y"
                },
                {
                  "alignmentgroup": "True",
                  "hovertemplate": "Industry=%{y}<br>Number of billionaire=%{x}<extra></extra>",
                  "legendgroup": "Diversified",
                  "marker": {
                    "color": "rgb(252,205,229)",
                    "pattern": {
                      "shape": ""
                    }
                  },
                  "name": "Diversified",
                  "offsetgroup": "Diversified",
                  "orientation": "h",
                  "showlegend": true,
                  "textposition": "auto",
                  "texttemplate": "%{x}",
                  "type": "bar",
                  "x": [
                    187
                  ],
                  "xaxis": "x",
                  "y": [
                    "Diversified"
                  ],
                  "yaxis": "y"
                },
                {
                  "alignmentgroup": "True",
                  "hovertemplate": "Industry=%{y}<br>Number of billionaire=%{x}<extra></extra>",
                  "legendgroup": "Energy",
                  "marker": {
                    "color": "rgb(217,217,217)",
                    "pattern": {
                      "shape": ""
                    }
                  },
                  "name": "Energy",
                  "offsetgroup": "Energy",
                  "orientation": "h",
                  "showlegend": true,
                  "textposition": "auto",
                  "texttemplate": "%{x}",
                  "type": "bar",
                  "x": [
                    100
                  ],
                  "xaxis": "x",
                  "y": [
                    "Energy"
                  ],
                  "yaxis": "y"
                },
                {
                  "alignmentgroup": "True",
                  "hovertemplate": "Industry=%{y}<br>Number of billionaire=%{x}<extra></extra>",
                  "legendgroup": "Media & Entertainment",
                  "marker": {
                    "color": "rgb(188,128,189)",
                    "pattern": {
                      "shape": ""
                    }
                  },
                  "name": "Media & Entertainment",
                  "offsetgroup": "Media & Entertainment",
                  "orientation": "h",
                  "showlegend": true,
                  "textposition": "auto",
                  "texttemplate": "%{x}",
                  "type": "bar",
                  "x": [
                    91
                  ],
                  "xaxis": "x",
                  "y": [
                    "Media & Entertainment"
                  ],
                  "yaxis": "y"
                },
                {
                  "alignmentgroup": "True",
                  "hovertemplate": "Industry=%{y}<br>Number of billionaire=%{x}<extra></extra>",
                  "legendgroup": "Metals & Mining",
                  "marker": {
                    "color": "rgb(204,235,197)",
                    "pattern": {
                      "shape": ""
                    }
                  },
                  "name": "Metals & Mining",
                  "offsetgroup": "Metals & Mining",
                  "orientation": "h",
                  "showlegend": true,
                  "textposition": "auto",
                  "texttemplate": "%{x}",
                  "type": "bar",
                  "x": [
                    74
                  ],
                  "xaxis": "x",
                  "y": [
                    "Metals & Mining"
                  ],
                  "yaxis": "y"
                },
                {
                  "alignmentgroup": "True",
                  "hovertemplate": "Industry=%{y}<br>Number of billionaire=%{x}<extra></extra>",
                  "legendgroup": "Automotive",
                  "marker": {
                    "color": "rgb(255,237,111)",
                    "pattern": {
                      "shape": ""
                    }
                  },
                  "name": "Automotive",
                  "offsetgroup": "Automotive",
                  "orientation": "h",
                  "showlegend": true,
                  "textposition": "auto",
                  "texttemplate": "%{x}",
                  "type": "bar",
                  "x": [
                    73
                  ],
                  "xaxis": "x",
                  "y": [
                    "Automotive"
                  ],
                  "yaxis": "y"
                },
                {
                  "alignmentgroup": "True",
                  "hovertemplate": "Industry=%{y}<br>Number of billionaire=%{x}<extra></extra>",
                  "legendgroup": "Service",
                  "marker": {
                    "color": "rgb(141,211,199)",
                    "pattern": {
                      "shape": ""
                    }
                  },
                  "name": "Service",
                  "offsetgroup": "Service",
                  "orientation": "h",
                  "showlegend": true,
                  "textposition": "auto",
                  "texttemplate": "%{x}",
                  "type": "bar",
                  "x": [
                    53
                  ],
                  "xaxis": "x",
                  "y": [
                    "Service"
                  ],
                  "yaxis": "y"
                },
                {
                  "alignmentgroup": "True",
                  "hovertemplate": "Industry=%{y}<br>Number of billionaire=%{x}<extra></extra>",
                  "legendgroup": "Construction & Engineering",
                  "marker": {
                    "color": "rgb(255,255,179)",
                    "pattern": {
                      "shape": ""
                    }
                  },
                  "name": "Construction & Engineering",
                  "offsetgroup": "Construction & Engineering",
                  "orientation": "h",
                  "showlegend": true,
                  "textposition": "auto",
                  "texttemplate": "%{x}",
                  "type": "bar",
                  "x": [
                    45
                  ],
                  "xaxis": "x",
                  "y": [
                    "Construction & Engineering"
                  ],
                  "yaxis": "y"
                },
                {
                  "alignmentgroup": "True",
                  "hovertemplate": "Industry=%{y}<br>Number of billionaire=%{x}<extra></extra>",
                  "legendgroup": "Logistics",
                  "marker": {
                    "color": "rgb(190,186,218)",
                    "pattern": {
                      "shape": ""
                    }
                  },
                  "name": "Logistics",
                  "offsetgroup": "Logistics",
                  "orientation": "h",
                  "showlegend": true,
                  "textposition": "auto",
                  "texttemplate": "%{x}",
                  "type": "bar",
                  "x": [
                    40
                  ],
                  "xaxis": "x",
                  "y": [
                    "Logistics"
                  ],
                  "yaxis": "y"
                },
                {
                  "alignmentgroup": "True",
                  "hovertemplate": "Industry=%{y}<br>Number of billionaire=%{x}<extra></extra>",
                  "legendgroup": "Sports",
                  "marker": {
                    "color": "rgb(251,128,114)",
                    "pattern": {
                      "shape": ""
                    }
                  },
                  "name": "Sports",
                  "offsetgroup": "Sports",
                  "orientation": "h",
                  "showlegend": true,
                  "textposition": "auto",
                  "texttemplate": "%{x}",
                  "type": "bar",
                  "x": [
                    39
                  ],
                  "xaxis": "x",
                  "y": [
                    "Sports"
                  ],
                  "yaxis": "y"
                },
                {
                  "alignmentgroup": "True",
                  "hovertemplate": "Industry=%{y}<br>Number of billionaire=%{x}<extra></extra>",
                  "legendgroup": "Telecom",
                  "marker": {
                    "color": "rgb(128,177,211)",
                    "pattern": {
                      "shape": ""
                    }
                  },
                  "name": "Telecom",
                  "offsetgroup": "Telecom",
                  "orientation": "h",
                  "showlegend": true,
                  "textposition": "auto",
                  "texttemplate": "%{x}",
                  "type": "bar",
                  "x": [
                    31
                  ],
                  "xaxis": "x",
                  "y": [
                    "Telecom"
                  ],
                  "yaxis": "y"
                },
                {
                  "alignmentgroup": "True",
                  "hovertemplate": "Industry=%{y}<br>Number of billionaire=%{x}<extra></extra>",
                  "legendgroup": "Gambling & Casinos",
                  "marker": {
                    "color": "rgb(253,180,98)",
                    "pattern": {
                      "shape": ""
                    }
                  },
                  "name": "Gambling & Casinos",
                  "offsetgroup": "Gambling & Casinos",
                  "orientation": "h",
                  "showlegend": true,
                  "textposition": "auto",
                  "texttemplate": "%{x}",
                  "type": "bar",
                  "x": [
                    25
                  ],
                  "xaxis": "x",
                  "y": [
                    "Gambling & Casinos"
                  ],
                  "yaxis": "y"
                }
              ],
              "layout": {
                "barmode": "relative",
                "height": 800,
                "legend": {
                  "title": {
                    "text": "Industry"
                  },
                  "tracegroupgap": 0
                },
                "showlegend": false,
                "template": {
                  "data": {
                    "bar": [
                      {
                        "error_x": {
                          "color": "#2a3f5f"
                        },
                        "error_y": {
                          "color": "#2a3f5f"
                        },
                        "marker": {
                          "line": {
                            "color": "#E5ECF6",
                            "width": 0.5
                          },
                          "pattern": {
                            "fillmode": "overlay",
                            "size": 10,
                            "solidity": 0.2
                          }
                        },
                        "type": "bar"
                      }
                    ],
                    "barpolar": [
                      {
                        "marker": {
                          "line": {
                            "color": "#E5ECF6",
                            "width": 0.5
                          },
                          "pattern": {
                            "fillmode": "overlay",
                            "size": 10,
                            "solidity": 0.2
                          }
                        },
                        "type": "barpolar"
                      }
                    ],
                    "carpet": [
                      {
                        "aaxis": {
                          "endlinecolor": "#2a3f5f",
                          "gridcolor": "white",
                          "linecolor": "white",
                          "minorgridcolor": "white",
                          "startlinecolor": "#2a3f5f"
                        },
                        "baxis": {
                          "endlinecolor": "#2a3f5f",
                          "gridcolor": "white",
                          "linecolor": "white",
                          "minorgridcolor": "white",
                          "startlinecolor": "#2a3f5f"
                        },
                        "type": "carpet"
                      }
                    ],
                    "choropleth": [
                      {
                        "colorbar": {
                          "outlinewidth": 0,
                          "ticks": ""
                        },
                        "type": "choropleth"
                      }
                    ],
                    "contour": [
                      {
                        "colorbar": {
                          "outlinewidth": 0,
                          "ticks": ""
                        },
                        "colorscale": [
                          [
                            0,
                            "#0d0887"
                          ],
                          [
                            0.1111111111111111,
                            "#46039f"
                          ],
                          [
                            0.2222222222222222,
                            "#7201a8"
                          ],
                          [
                            0.3333333333333333,
                            "#9c179e"
                          ],
                          [
                            0.4444444444444444,
                            "#bd3786"
                          ],
                          [
                            0.5555555555555556,
                            "#d8576b"
                          ],
                          [
                            0.6666666666666666,
                            "#ed7953"
                          ],
                          [
                            0.7777777777777778,
                            "#fb9f3a"
                          ],
                          [
                            0.8888888888888888,
                            "#fdca26"
                          ],
                          [
                            1,
                            "#f0f921"
                          ]
                        ],
                        "type": "contour"
                      }
                    ],
                    "contourcarpet": [
                      {
                        "colorbar": {
                          "outlinewidth": 0,
                          "ticks": ""
                        },
                        "type": "contourcarpet"
                      }
                    ],
                    "heatmap": [
                      {
                        "colorbar": {
                          "outlinewidth": 0,
                          "ticks": ""
                        },
                        "colorscale": [
                          [
                            0,
                            "#0d0887"
                          ],
                          [
                            0.1111111111111111,
                            "#46039f"
                          ],
                          [
                            0.2222222222222222,
                            "#7201a8"
                          ],
                          [
                            0.3333333333333333,
                            "#9c179e"
                          ],
                          [
                            0.4444444444444444,
                            "#bd3786"
                          ],
                          [
                            0.5555555555555556,
                            "#d8576b"
                          ],
                          [
                            0.6666666666666666,
                            "#ed7953"
                          ],
                          [
                            0.7777777777777778,
                            "#fb9f3a"
                          ],
                          [
                            0.8888888888888888,
                            "#fdca26"
                          ],
                          [
                            1,
                            "#f0f921"
                          ]
                        ],
                        "type": "heatmap"
                      }
                    ],
                    "heatmapgl": [
                      {
                        "colorbar": {
                          "outlinewidth": 0,
                          "ticks": ""
                        },
                        "colorscale": [
                          [
                            0,
                            "#0d0887"
                          ],
                          [
                            0.1111111111111111,
                            "#46039f"
                          ],
                          [
                            0.2222222222222222,
                            "#7201a8"
                          ],
                          [
                            0.3333333333333333,
                            "#9c179e"
                          ],
                          [
                            0.4444444444444444,
                            "#bd3786"
                          ],
                          [
                            0.5555555555555556,
                            "#d8576b"
                          ],
                          [
                            0.6666666666666666,
                            "#ed7953"
                          ],
                          [
                            0.7777777777777778,
                            "#fb9f3a"
                          ],
                          [
                            0.8888888888888888,
                            "#fdca26"
                          ],
                          [
                            1,
                            "#f0f921"
                          ]
                        ],
                        "type": "heatmapgl"
                      }
                    ],
                    "histogram": [
                      {
                        "marker": {
                          "pattern": {
                            "fillmode": "overlay",
                            "size": 10,
                            "solidity": 0.2
                          }
                        },
                        "type": "histogram"
                      }
                    ],
                    "histogram2d": [
                      {
                        "colorbar": {
                          "outlinewidth": 0,
                          "ticks": ""
                        },
                        "colorscale": [
                          [
                            0,
                            "#0d0887"
                          ],
                          [
                            0.1111111111111111,
                            "#46039f"
                          ],
                          [
                            0.2222222222222222,
                            "#7201a8"
                          ],
                          [
                            0.3333333333333333,
                            "#9c179e"
                          ],
                          [
                            0.4444444444444444,
                            "#bd3786"
                          ],
                          [
                            0.5555555555555556,
                            "#d8576b"
                          ],
                          [
                            0.6666666666666666,
                            "#ed7953"
                          ],
                          [
                            0.7777777777777778,
                            "#fb9f3a"
                          ],
                          [
                            0.8888888888888888,
                            "#fdca26"
                          ],
                          [
                            1,
                            "#f0f921"
                          ]
                        ],
                        "type": "histogram2d"
                      }
                    ],
                    "histogram2dcontour": [
                      {
                        "colorbar": {
                          "outlinewidth": 0,
                          "ticks": ""
                        },
                        "colorscale": [
                          [
                            0,
                            "#0d0887"
                          ],
                          [
                            0.1111111111111111,
                            "#46039f"
                          ],
                          [
                            0.2222222222222222,
                            "#7201a8"
                          ],
                          [
                            0.3333333333333333,
                            "#9c179e"
                          ],
                          [
                            0.4444444444444444,
                            "#bd3786"
                          ],
                          [
                            0.5555555555555556,
                            "#d8576b"
                          ],
                          [
                            0.6666666666666666,
                            "#ed7953"
                          ],
                          [
                            0.7777777777777778,
                            "#fb9f3a"
                          ],
                          [
                            0.8888888888888888,
                            "#fdca26"
                          ],
                          [
                            1,
                            "#f0f921"
                          ]
                        ],
                        "type": "histogram2dcontour"
                      }
                    ],
                    "mesh3d": [
                      {
                        "colorbar": {
                          "outlinewidth": 0,
                          "ticks": ""
                        },
                        "type": "mesh3d"
                      }
                    ],
                    "parcoords": [
                      {
                        "line": {
                          "colorbar": {
                            "outlinewidth": 0,
                            "ticks": ""
                          }
                        },
                        "type": "parcoords"
                      }
                    ],
                    "pie": [
                      {
                        "automargin": true,
                        "type": "pie"
                      }
                    ],
                    "scatter": [
                      {
                        "fillpattern": {
                          "fillmode": "overlay",
                          "size": 10,
                          "solidity": 0.2
                        },
                        "type": "scatter"
                      }
                    ],
                    "scatter3d": [
                      {
                        "line": {
                          "colorbar": {
                            "outlinewidth": 0,
                            "ticks": ""
                          }
                        },
                        "marker": {
                          "colorbar": {
                            "outlinewidth": 0,
                            "ticks": ""
                          }
                        },
                        "type": "scatter3d"
                      }
                    ],
                    "scattercarpet": [
                      {
                        "marker": {
                          "colorbar": {
                            "outlinewidth": 0,
                            "ticks": ""
                          }
                        },
                        "type": "scattercarpet"
                      }
                    ],
                    "scattergeo": [
                      {
                        "marker": {
                          "colorbar": {
                            "outlinewidth": 0,
                            "ticks": ""
                          }
                        },
                        "type": "scattergeo"
                      }
                    ],
                    "scattergl": [
                      {
                        "marker": {
                          "colorbar": {
                            "outlinewidth": 0,
                            "ticks": ""
                          }
                        },
                        "type": "scattergl"
                      }
                    ],
                    "scattermapbox": [
                      {
                        "marker": {
                          "colorbar": {
                            "outlinewidth": 0,
                            "ticks": ""
                          }
                        },
                        "type": "scattermapbox"
                      }
                    ],
                    "scatterpolar": [
                      {
                        "marker": {
                          "colorbar": {
                            "outlinewidth": 0,
                            "ticks": ""
                          }
                        },
                        "type": "scatterpolar"
                      }
                    ],
                    "scatterpolargl": [
                      {
                        "marker": {
                          "colorbar": {
                            "outlinewidth": 0,
                            "ticks": ""
                          }
                        },
                        "type": "scatterpolargl"
                      }
                    ],
                    "scatterternary": [
                      {
                        "marker": {
                          "colorbar": {
                            "outlinewidth": 0,
                            "ticks": ""
                          }
                        },
                        "type": "scatterternary"
                      }
                    ],
                    "surface": [
                      {
                        "colorbar": {
                          "outlinewidth": 0,
                          "ticks": ""
                        },
                        "colorscale": [
                          [
                            0,
                            "#0d0887"
                          ],
                          [
                            0.1111111111111111,
                            "#46039f"
                          ],
                          [
                            0.2222222222222222,
                            "#7201a8"
                          ],
                          [
                            0.3333333333333333,
                            "#9c179e"
                          ],
                          [
                            0.4444444444444444,
                            "#bd3786"
                          ],
                          [
                            0.5555555555555556,
                            "#d8576b"
                          ],
                          [
                            0.6666666666666666,
                            "#ed7953"
                          ],
                          [
                            0.7777777777777778,
                            "#fb9f3a"
                          ],
                          [
                            0.8888888888888888,
                            "#fdca26"
                          ],
                          [
                            1,
                            "#f0f921"
                          ]
                        ],
                        "type": "surface"
                      }
                    ],
                    "table": [
                      {
                        "cells": {
                          "fill": {
                            "color": "#EBF0F8"
                          },
                          "line": {
                            "color": "white"
                          }
                        },
                        "header": {
                          "fill": {
                            "color": "#C8D4E3"
                          },
                          "line": {
                            "color": "white"
                          }
                        },
                        "type": "table"
                      }
                    ]
                  },
                  "layout": {
                    "annotationdefaults": {
                      "arrowcolor": "#2a3f5f",
                      "arrowhead": 0,
                      "arrowwidth": 1
                    },
                    "autotypenumbers": "strict",
                    "coloraxis": {
                      "colorbar": {
                        "outlinewidth": 0,
                        "ticks": ""
                      }
                    },
                    "colorscale": {
                      "diverging": [
                        [
                          0,
                          "#8e0152"
                        ],
                        [
                          0.1,
                          "#c51b7d"
                        ],
                        [
                          0.2,
                          "#de77ae"
                        ],
                        [
                          0.3,
                          "#f1b6da"
                        ],
                        [
                          0.4,
                          "#fde0ef"
                        ],
                        [
                          0.5,
                          "#f7f7f7"
                        ],
                        [
                          0.6,
                          "#e6f5d0"
                        ],
                        [
                          0.7,
                          "#b8e186"
                        ],
                        [
                          0.8,
                          "#7fbc41"
                        ],
                        [
                          0.9,
                          "#4d9221"
                        ],
                        [
                          1,
                          "#276419"
                        ]
                      ],
                      "sequential": [
                        [
                          0,
                          "#0d0887"
                        ],
                        [
                          0.1111111111111111,
                          "#46039f"
                        ],
                        [
                          0.2222222222222222,
                          "#7201a8"
                        ],
                        [
                          0.3333333333333333,
                          "#9c179e"
                        ],
                        [
                          0.4444444444444444,
                          "#bd3786"
                        ],
                        [
                          0.5555555555555556,
                          "#d8576b"
                        ],
                        [
                          0.6666666666666666,
                          "#ed7953"
                        ],
                        [
                          0.7777777777777778,
                          "#fb9f3a"
                        ],
                        [
                          0.8888888888888888,
                          "#fdca26"
                        ],
                        [
                          1,
                          "#f0f921"
                        ]
                      ],
                      "sequentialminus": [
                        [
                          0,
                          "#0d0887"
                        ],
                        [
                          0.1111111111111111,
                          "#46039f"
                        ],
                        [
                          0.2222222222222222,
                          "#7201a8"
                        ],
                        [
                          0.3333333333333333,
                          "#9c179e"
                        ],
                        [
                          0.4444444444444444,
                          "#bd3786"
                        ],
                        [
                          0.5555555555555556,
                          "#d8576b"
                        ],
                        [
                          0.6666666666666666,
                          "#ed7953"
                        ],
                        [
                          0.7777777777777778,
                          "#fb9f3a"
                        ],
                        [
                          0.8888888888888888,
                          "#fdca26"
                        ],
                        [
                          1,
                          "#f0f921"
                        ]
                      ]
                    },
                    "colorway": [
                      "#636efa",
                      "#EF553B",
                      "#00cc96",
                      "#ab63fa",
                      "#FFA15A",
                      "#19d3f3",
                      "#FF6692",
                      "#B6E880",
                      "#FF97FF",
                      "#FECB52"
                    ],
                    "font": {
                      "color": "#2a3f5f"
                    },
                    "geo": {
                      "bgcolor": "white",
                      "lakecolor": "white",
                      "landcolor": "#E5ECF6",
                      "showlakes": true,
                      "showland": true,
                      "subunitcolor": "white"
                    },
                    "hoverlabel": {
                      "align": "left"
                    },
                    "hovermode": "closest",
                    "mapbox": {
                      "style": "light"
                    },
                    "paper_bgcolor": "white",
                    "plot_bgcolor": "#E5ECF6",
                    "polar": {
                      "angularaxis": {
                        "gridcolor": "white",
                        "linecolor": "white",
                        "ticks": ""
                      },
                      "bgcolor": "#E5ECF6",
                      "radialaxis": {
                        "gridcolor": "white",
                        "linecolor": "white",
                        "ticks": ""
                      }
                    },
                    "scene": {
                      "xaxis": {
                        "backgroundcolor": "#E5ECF6",
                        "gridcolor": "white",
                        "gridwidth": 2,
                        "linecolor": "white",
                        "showbackground": true,
                        "ticks": "",
                        "zerolinecolor": "white"
                      },
                      "yaxis": {
                        "backgroundcolor": "#E5ECF6",
                        "gridcolor": "white",
                        "gridwidth": 2,
                        "linecolor": "white",
                        "showbackground": true,
                        "ticks": "",
                        "zerolinecolor": "white"
                      },
                      "zaxis": {
                        "backgroundcolor": "#E5ECF6",
                        "gridcolor": "white",
                        "gridwidth": 2,
                        "linecolor": "white",
                        "showbackground": true,
                        "ticks": "",
                        "zerolinecolor": "white"
                      }
                    },
                    "shapedefaults": {
                      "line": {
                        "color": "#2a3f5f"
                      }
                    },
                    "ternary": {
                      "aaxis": {
                        "gridcolor": "white",
                        "linecolor": "white",
                        "ticks": ""
                      },
                      "baxis": {
                        "gridcolor": "white",
                        "linecolor": "white",
                        "ticks": ""
                      },
                      "bgcolor": "#E5ECF6",
                      "caxis": {
                        "gridcolor": "white",
                        "linecolor": "white",
                        "ticks": ""
                      }
                    },
                    "title": {
                      "x": 0.05
                    },
                    "xaxis": {
                      "automargin": true,
                      "gridcolor": "white",
                      "linecolor": "white",
                      "ticks": "",
                      "title": {
                        "standoff": 15
                      },
                      "zerolinecolor": "white",
                      "zerolinewidth": 2
                    },
                    "yaxis": {
                      "automargin": true,
                      "gridcolor": "white",
                      "linecolor": "white",
                      "ticks": "",
                      "title": {
                        "standoff": 15
                      },
                      "zerolinecolor": "white",
                      "zerolinewidth": 2
                    }
                  }
                },
                "title": {
                  "text": "Number of Billionaire in each industry"
                },
                "xaxis": {
                  "anchor": "y",
                  "domain": [
                    0,
                    1
                  ],
                  "title": {
                    "text": "Number of billionaire"
                  }
                },
                "yaxis": {
                  "anchor": "x",
                  "categoryarray": [
                    "Gambling & Casinos",
                    "Telecom",
                    "Sports",
                    "Logistics",
                    "Construction & Engineering",
                    "Service",
                    "Automotive",
                    "Metals & Mining",
                    "Media & Entertainment",
                    "Energy",
                    "Diversified",
                    "Real Estate",
                    "Healthcare",
                    "Food & Beverage",
                    "Fashion & Retail",
                    "Technology",
                    "Manufacturing",
                    "Finance & Investments"
                  ],
                  "categoryorder": "array",
                  "domain": [
                    0,
                    1
                  ],
                  "title": {
                    "text": "Industry"
                  }
                }
              }
            }
          },
          "metadata": {},
          "output_type": "display_data"
        }
      ],
      "source": [
        "industry_billionaire = df.industry.value_counts();\n",
        "\n",
        "# make data frame\n",
        "\n",
        "industry_df = pd.DataFrame({'Industry' : industry_billionaire.index, 'Number of billionaire': industry_billionaire.values}).sort_values(by='Number of billionaire', ascending=False)\n",
        "\n",
        "# bar plot for number of billionaire in each industry\n",
        "\n",
        "fig = px.bar(industry_df, y = 'Industry', x = 'Number of billionaire', title=\"Number of Billionaire in each industry\", text_auto=True, color='Industry', color_discrete_sequence = px.colors.qualitative.Set3)\n",
        "fig.update_layout(showlegend=False, height=800)\n",
        "\n",
        "# show graph\n",
        "\n",
        "fig.show()"
      ]
    },
    {
      "cell_type": "code",
      "execution_count": 13,
      "metadata": {
        "colab": {
          "base_uri": "https://localhost:8080/",
          "height": 614
        },
        "id": "qSi4K0m8wokK",
        "outputId": "e8c0b46d-5a5d-4ad3-c70c-b025a5d828f2"
      },
      "outputs": [
        {
          "data": {
            "text/html": [
              "<div>\n",
              "<style scoped>\n",
              "    .dataframe tbody tr th:only-of-type {\n",
              "        vertical-align: middle;\n",
              "    }\n",
              "\n",
              "    .dataframe tbody tr th {\n",
              "        vertical-align: top;\n",
              "    }\n",
              "\n",
              "    .dataframe thead th {\n",
              "        text-align: right;\n",
              "    }\n",
              "</style>\n",
              "<table border=\"1\" class=\"dataframe\">\n",
              "  <thead>\n",
              "    <tr style=\"text-align: right;\">\n",
              "      <th></th>\n",
              "      <th>Industry</th>\n",
              "      <th>Number of billionaire</th>\n",
              "    </tr>\n",
              "  </thead>\n",
              "  <tbody>\n",
              "    <tr>\n",
              "      <th>0</th>\n",
              "      <td>Finance &amp; Investments</td>\n",
              "      <td>372</td>\n",
              "    </tr>\n",
              "    <tr>\n",
              "      <th>1</th>\n",
              "      <td>Manufacturing</td>\n",
              "      <td>324</td>\n",
              "    </tr>\n",
              "    <tr>\n",
              "      <th>2</th>\n",
              "      <td>Technology</td>\n",
              "      <td>314</td>\n",
              "    </tr>\n",
              "    <tr>\n",
              "      <th>3</th>\n",
              "      <td>Fashion &amp; Retail</td>\n",
              "      <td>266</td>\n",
              "    </tr>\n",
              "    <tr>\n",
              "      <th>4</th>\n",
              "      <td>Food &amp; Beverage</td>\n",
              "      <td>212</td>\n",
              "    </tr>\n",
              "    <tr>\n",
              "      <th>5</th>\n",
              "      <td>Healthcare</td>\n",
              "      <td>201</td>\n",
              "    </tr>\n",
              "    <tr>\n",
              "      <th>6</th>\n",
              "      <td>Real Estate</td>\n",
              "      <td>193</td>\n",
              "    </tr>\n",
              "    <tr>\n",
              "      <th>7</th>\n",
              "      <td>Diversified</td>\n",
              "      <td>187</td>\n",
              "    </tr>\n",
              "    <tr>\n",
              "      <th>8</th>\n",
              "      <td>Energy</td>\n",
              "      <td>100</td>\n",
              "    </tr>\n",
              "    <tr>\n",
              "      <th>9</th>\n",
              "      <td>Media &amp; Entertainment</td>\n",
              "      <td>91</td>\n",
              "    </tr>\n",
              "    <tr>\n",
              "      <th>10</th>\n",
              "      <td>Metals &amp; Mining</td>\n",
              "      <td>74</td>\n",
              "    </tr>\n",
              "    <tr>\n",
              "      <th>11</th>\n",
              "      <td>Automotive</td>\n",
              "      <td>73</td>\n",
              "    </tr>\n",
              "    <tr>\n",
              "      <th>12</th>\n",
              "      <td>Service</td>\n",
              "      <td>53</td>\n",
              "    </tr>\n",
              "    <tr>\n",
              "      <th>13</th>\n",
              "      <td>Construction &amp; Engineering</td>\n",
              "      <td>45</td>\n",
              "    </tr>\n",
              "    <tr>\n",
              "      <th>14</th>\n",
              "      <td>Logistics</td>\n",
              "      <td>40</td>\n",
              "    </tr>\n",
              "    <tr>\n",
              "      <th>15</th>\n",
              "      <td>Sports</td>\n",
              "      <td>39</td>\n",
              "    </tr>\n",
              "    <tr>\n",
              "      <th>16</th>\n",
              "      <td>Telecom</td>\n",
              "      <td>31</td>\n",
              "    </tr>\n",
              "    <tr>\n",
              "      <th>17</th>\n",
              "      <td>Gambling &amp; Casinos</td>\n",
              "      <td>25</td>\n",
              "    </tr>\n",
              "  </tbody>\n",
              "</table>\n",
              "</div>"
            ],
            "text/plain": [
              "                      Industry  Number of billionaire\n",
              "0        Finance & Investments                    372\n",
              "1                Manufacturing                    324\n",
              "2                   Technology                    314\n",
              "3             Fashion & Retail                    266\n",
              "4              Food & Beverage                    212\n",
              "5                   Healthcare                    201\n",
              "6                  Real Estate                    193\n",
              "7                  Diversified                    187\n",
              "8                       Energy                    100\n",
              "9        Media & Entertainment                     91\n",
              "10             Metals & Mining                     74\n",
              "11                  Automotive                     73\n",
              "12                     Service                     53\n",
              "13  Construction & Engineering                     45\n",
              "14                   Logistics                     40\n",
              "15                      Sports                     39\n",
              "16                     Telecom                     31\n",
              "17          Gambling & Casinos                     25"
            ]
          },
          "execution_count": 13,
          "metadata": {},
          "output_type": "execute_result"
        }
      ],
      "source": [
        "industry_df"
      ]
    },
    {
      "cell_type": "code",
      "execution_count": 14,
      "metadata": {
        "colab": {
          "base_uri": "https://localhost:8080/"
        },
        "id": "USaa6B-QfV9I",
        "outputId": "a198aec3-234b-4f0b-a078-975a3257e3f6"
      },
      "outputs": [
        {
          "data": {
            "text/plain": [
              "60.0     87\n",
              "58.0     83\n",
              "59.0     82\n",
              "57.0     75\n",
              "66.0     74\n",
              "         ..\n",
              "20.0      1\n",
              "19.0      1\n",
              "18.0      1\n",
              "101.0     1\n",
              "28.0      1\n",
              "Name: age, Length: 79, dtype: int64"
            ]
          },
          "execution_count": 14,
          "metadata": {},
          "output_type": "execute_result"
        }
      ],
      "source": [
        "df.age.value_counts()"
      ]
    },
    {
      "cell_type": "code",
      "execution_count": 15,
      "metadata": {
        "colab": {
          "base_uri": "https://localhost:8080/",
          "height": 542
        },
        "id": "8gZpJXqRH3H0",
        "outputId": "8d83dee8-86f8-4f1f-db14-bce4e5bbefd0"
      },
      "outputs": [
        {
          "data": {
            "application/vnd.plotly.v1+json": {
              "config": {
                "plotlyServerURL": "https://plot.ly"
              },
              "data": [
                {
                  "alignmentgroup": "True",
                  "bingroup": "x",
                  "hovertemplate": "age=%{x}<br>count=%{y}<extra></extra>",
                  "legendgroup": "",
                  "marker": {
                    "color": "#636efa",
                    "pattern": {
                      "shape": ""
                    }
                  },
                  "name": "",
                  "offsetgroup": "",
                  "orientation": "v",
                  "showlegend": false,
                  "textangle": 0,
                  "textfont": {
                    "size": 12
                  },
                  "textposition": "outside",
                  "texttemplate": "%{value}",
                  "type": "histogram",
                  "x": [
                    74,
                    51,
                    59,
                    78,
                    92,
                    67,
                    81,
                    83,
                    65,
                    67,
                    69,
                    50,
                    87,
                    49,
                    68,
                    38,
                    87,
                    60,
                    74,
                    78,
                    73,
                    65,
                    58,
                    60,
                    85,
                    39,
                    83,
                    86,
                    85,
                    58,
                    83,
                    87,
                    94,
                    51,
                    77,
                    54,
                    30,
                    54,
                    74,
                    65,
                    74,
                    72,
                    82,
                    78,
                    43,
                    87,
                    95,
                    64,
                    84,
                    76,
                    60,
                    69,
                    51,
                    69,
                    77,
                    74,
                    78,
                    51,
                    56,
                    52,
                    82,
                    62,
                    58,
                    80,
                    80,
                    83,
                    70,
                    81,
                    65,
                    66,
                    52,
                    61,
                    67,
                    36,
                    52,
                    60,
                    90,
                    77,
                    57,
                    72,
                    84,
                    61,
                    73,
                    59,
                    55,
                    72,
                    57,
                    57,
                    77,
                    65,
                    70,
                    61,
                    72,
                    66,
                    87,
                    73,
                    90,
                    83,
                    92,
                    70,
                    72,
                    55,
                    72,
                    75,
                    67,
                    55,
                    67,
                    null,
                    null,
                    83,
                    76,
                    67,
                    45,
                    68,
                    56,
                    83,
                    81,
                    78,
                    68,
                    56,
                    59,
                    69,
                    95,
                    55,
                    65,
                    93,
                    67,
                    57,
                    94,
                    78,
                    76,
                    47,
                    80,
                    80,
                    71,
                    60,
                    90,
                    64,
                    75,
                    58,
                    57,
                    50,
                    69,
                    72,
                    59,
                    99,
                    82,
                    38,
                    73,
                    73,
                    59,
                    50,
                    74,
                    69,
                    62,
                    57,
                    88,
                    72,
                    58,
                    51,
                    83,
                    85,
                    67,
                    93,
                    81,
                    73,
                    57,
                    39,
                    45,
                    70,
                    43,
                    60,
                    82,
                    64,
                    74,
                    41,
                    58,
                    74,
                    43,
                    81,
                    59,
                    85,
                    74,
                    74,
                    80,
                    51,
                    53,
                    55,
                    75,
                    63,
                    59,
                    53,
                    76,
                    64,
                    70,
                    70,
                    67,
                    58,
                    62,
                    64,
                    66,
                    71,
                    94,
                    57,
                    44,
                    41,
                    75,
                    56,
                    79,
                    47,
                    82,
                    77,
                    85,
                    63,
                    72,
                    66,
                    55,
                    73,
                    57,
                    68,
                    63,
                    70,
                    47,
                    71,
                    49,
                    38,
                    55,
                    64,
                    72,
                    52,
                    79,
                    71,
                    67,
                    68,
                    79,
                    75,
                    73,
                    67,
                    47,
                    74,
                    55,
                    75,
                    77,
                    72,
                    77,
                    75,
                    81,
                    null,
                    75,
                    61,
                    62,
                    79,
                    91,
                    68,
                    41,
                    69,
                    66,
                    65,
                    58,
                    54,
                    39,
                    66,
                    93,
                    85,
                    60,
                    58,
                    76,
                    52,
                    52,
                    71,
                    54,
                    54,
                    72,
                    57,
                    50,
                    73,
                    66,
                    94,
                    53,
                    58,
                    75,
                    55,
                    42,
                    80,
                    54,
                    71,
                    68,
                    68,
                    61,
                    54,
                    89,
                    67,
                    41,
                    64,
                    66,
                    85,
                    59,
                    62,
                    80,
                    85,
                    59,
                    68,
                    79,
                    52,
                    80,
                    70,
                    59,
                    71,
                    72,
                    62,
                    81,
                    91,
                    59,
                    50,
                    63,
                    55,
                    65,
                    72,
                    68,
                    79,
                    78,
                    41,
                    61,
                    77,
                    79,
                    76,
                    61,
                    66,
                    72,
                    94,
                    71,
                    58,
                    37,
                    41,
                    77,
                    80,
                    83,
                    74,
                    55,
                    58,
                    69,
                    67,
                    71,
                    62,
                    87,
                    89,
                    55,
                    58,
                    80,
                    54,
                    68,
                    59,
                    86,
                    55,
                    40,
                    53,
                    58,
                    61,
                    94,
                    53,
                    61,
                    65,
                    58,
                    61,
                    72,
                    56,
                    75,
                    47,
                    44,
                    80,
                    55,
                    60,
                    54,
                    55,
                    72,
                    84,
                    83,
                    92,
                    71,
                    39,
                    81,
                    65,
                    47,
                    68,
                    70,
                    67,
                    78,
                    63,
                    47,
                    80,
                    58,
                    91,
                    93,
                    84,
                    81,
                    51,
                    71,
                    62,
                    69,
                    59,
                    60,
                    56,
                    90,
                    88,
                    77,
                    58,
                    66,
                    85,
                    59,
                    96,
                    59,
                    85,
                    89,
                    59,
                    59,
                    51,
                    60,
                    69,
                    58,
                    79,
                    72,
                    81,
                    65,
                    53,
                    64,
                    46,
                    85,
                    74,
                    63,
                    65,
                    88,
                    86,
                    92,
                    76,
                    71,
                    85,
                    60,
                    93,
                    61,
                    62,
                    66,
                    58,
                    75,
                    70,
                    56,
                    88,
                    76,
                    93,
                    71,
                    77,
                    83,
                    51,
                    59,
                    56,
                    41,
                    79,
                    52,
                    81,
                    87,
                    56,
                    65,
                    69,
                    51,
                    65,
                    59,
                    73,
                    65,
                    66,
                    32,
                    34,
                    93,
                    77,
                    58,
                    95,
                    68,
                    81,
                    58,
                    66,
                    78,
                    57,
                    78,
                    80,
                    80,
                    68,
                    56,
                    77,
                    81,
                    43,
                    68,
                    58,
                    77,
                    73,
                    70,
                    58,
                    59,
                    71,
                    49,
                    64,
                    60,
                    59,
                    65,
                    78,
                    72,
                    80,
                    86,
                    78,
                    62,
                    81,
                    77,
                    67,
                    56,
                    53,
                    59,
                    71,
                    71,
                    85,
                    73,
                    82,
                    49,
                    74,
                    78,
                    81,
                    49,
                    59,
                    90,
                    49,
                    61,
                    64,
                    65,
                    71,
                    75,
                    88,
                    72,
                    79,
                    75,
                    55,
                    43,
                    69,
                    56,
                    50,
                    57,
                    50,
                    83,
                    78,
                    86,
                    57,
                    64,
                    59,
                    64,
                    66,
                    null,
                    79,
                    72,
                    81,
                    null,
                    81,
                    53,
                    67,
                    94,
                    77,
                    86,
                    72,
                    58,
                    60,
                    67,
                    50,
                    58,
                    50,
                    79,
                    69,
                    64,
                    67,
                    66,
                    68,
                    64,
                    63,
                    70,
                    78,
                    62,
                    88,
                    76,
                    78,
                    63,
                    54,
                    68,
                    77,
                    50,
                    68,
                    76,
                    52,
                    61,
                    64,
                    96,
                    46,
                    56,
                    62,
                    55,
                    79,
                    54,
                    45,
                    56,
                    69,
                    71,
                    65,
                    79,
                    78,
                    62,
                    34,
                    52,
                    66,
                    55,
                    82,
                    56,
                    54,
                    83,
                    76,
                    71,
                    60,
                    70,
                    41,
                    59,
                    72,
                    65,
                    50,
                    89,
                    88,
                    63,
                    64,
                    81,
                    58,
                    67,
                    71,
                    66,
                    65,
                    54,
                    59,
                    46,
                    63,
                    49,
                    61,
                    91,
                    90,
                    61,
                    62,
                    56,
                    55,
                    60,
                    58,
                    61,
                    75,
                    54,
                    64,
                    66,
                    65,
                    42,
                    74,
                    58,
                    83,
                    65,
                    68,
                    82,
                    57,
                    87,
                    82,
                    72,
                    74,
                    82,
                    53,
                    55,
                    59,
                    68,
                    60,
                    73,
                    58,
                    40,
                    73,
                    71,
                    55,
                    68,
                    83,
                    83,
                    87,
                    74,
                    70,
                    54,
                    66,
                    55,
                    83,
                    56,
                    73,
                    61,
                    66,
                    76,
                    63,
                    88,
                    82,
                    60,
                    57,
                    80,
                    48,
                    75,
                    56,
                    77,
                    73,
                    46,
                    61,
                    51,
                    65,
                    42,
                    79,
                    63,
                    67,
                    80,
                    90,
                    68,
                    76,
                    75,
                    69,
                    74,
                    73,
                    76,
                    72,
                    73,
                    91,
                    65,
                    85,
                    67,
                    83,
                    83,
                    94,
                    63,
                    null,
                    69,
                    78,
                    76,
                    63,
                    60,
                    56,
                    50,
                    44,
                    62,
                    63,
                    70,
                    79,
                    73,
                    57,
                    60,
                    63,
                    80,
                    81,
                    61,
                    63,
                    69,
                    61,
                    87,
                    41,
                    64,
                    82,
                    71,
                    58,
                    54,
                    73,
                    77,
                    77,
                    77,
                    51,
                    76,
                    71,
                    56,
                    59,
                    66,
                    56,
                    50,
                    60,
                    77,
                    47,
                    68,
                    78,
                    62,
                    88,
                    62,
                    75,
                    69,
                    82,
                    74,
                    56,
                    56,
                    53,
                    71,
                    63,
                    47,
                    84,
                    82,
                    65,
                    60,
                    59,
                    61,
                    80,
                    53,
                    37,
                    83,
                    71,
                    67,
                    75,
                    67,
                    84,
                    37,
                    35,
                    58,
                    73,
                    82,
                    63,
                    80,
                    60,
                    61,
                    57,
                    54,
                    33,
                    65,
                    62,
                    87,
                    76,
                    66,
                    18,
                    27,
                    21,
                    64,
                    61,
                    70,
                    57,
                    58,
                    65,
                    81,
                    54,
                    61,
                    60,
                    90,
                    88,
                    76,
                    71,
                    61,
                    null,
                    66,
                    45,
                    70,
                    75,
                    58,
                    54,
                    65,
                    65,
                    56,
                    56,
                    55,
                    52,
                    69,
                    50,
                    52,
                    72,
                    64,
                    63,
                    84,
                    86,
                    75,
                    66,
                    62,
                    68,
                    58,
                    72,
                    81,
                    88,
                    65,
                    59,
                    81,
                    54,
                    52,
                    53,
                    75,
                    75,
                    49,
                    81,
                    56,
                    77,
                    68,
                    79,
                    55,
                    88,
                    72,
                    82,
                    59,
                    78,
                    79,
                    77,
                    77,
                    88,
                    68,
                    55,
                    54,
                    71,
                    38,
                    48,
                    74,
                    59,
                    53,
                    73,
                    53,
                    85,
                    87,
                    82,
                    70,
                    64,
                    69,
                    84,
                    86,
                    53,
                    70,
                    56,
                    85,
                    55,
                    67,
                    60,
                    69,
                    60,
                    71,
                    52,
                    55,
                    54,
                    59,
                    68,
                    61,
                    72,
                    86,
                    69,
                    73,
                    70,
                    71,
                    84,
                    77,
                    60,
                    66,
                    66,
                    52,
                    48,
                    53,
                    67,
                    67,
                    81,
                    65,
                    87,
                    76,
                    53,
                    37,
                    55,
                    72,
                    75,
                    77,
                    85,
                    50,
                    46,
                    62,
                    82,
                    73,
                    73,
                    52,
                    90,
                    71,
                    67,
                    59,
                    46,
                    67,
                    66,
                    71,
                    59,
                    51,
                    63,
                    79,
                    67,
                    80,
                    74,
                    35,
                    74,
                    53,
                    null,
                    94,
                    61,
                    85,
                    90,
                    66,
                    70,
                    80,
                    null,
                    60,
                    63,
                    73,
                    95,
                    78,
                    76,
                    57,
                    62,
                    65,
                    76,
                    75,
                    66,
                    64,
                    67,
                    71,
                    51,
                    73,
                    67,
                    71,
                    59,
                    68,
                    67,
                    67,
                    71,
                    86,
                    64,
                    55,
                    54,
                    63,
                    60,
                    73,
                    65,
                    42,
                    60,
                    50,
                    65,
                    69,
                    82,
                    65,
                    60,
                    70,
                    79,
                    66,
                    78,
                    92,
                    79,
                    74,
                    73,
                    75,
                    68,
                    73,
                    56,
                    38,
                    49,
                    66,
                    57,
                    61,
                    55,
                    54,
                    87,
                    90,
                    89,
                    50,
                    52,
                    87,
                    73,
                    65,
                    43,
                    78,
                    73,
                    48,
                    85,
                    46,
                    59,
                    61,
                    62,
                    66,
                    74,
                    44,
                    75,
                    69,
                    52,
                    72,
                    90,
                    53,
                    54,
                    null,
                    81,
                    74,
                    56,
                    58,
                    54,
                    86,
                    67,
                    78,
                    86,
                    71,
                    69,
                    67,
                    null,
                    null,
                    50,
                    76,
                    43,
                    77,
                    41,
                    73,
                    61,
                    85,
                    66,
                    61,
                    79,
                    56,
                    77,
                    81,
                    84,
                    70,
                    68,
                    74,
                    72,
                    null,
                    59,
                    57,
                    56,
                    80,
                    65,
                    63,
                    61,
                    78,
                    57,
                    84,
                    72,
                    58,
                    72,
                    57,
                    43,
                    57,
                    57,
                    92,
                    71,
                    37,
                    31,
                    71,
                    63,
                    78,
                    62,
                    59,
                    54,
                    77,
                    61,
                    64,
                    null,
                    76,
                    69,
                    58,
                    79,
                    84,
                    75,
                    70,
                    55,
                    68,
                    63,
                    null,
                    75,
                    55,
                    32,
                    81,
                    52,
                    65,
                    29,
                    58,
                    61,
                    59,
                    53,
                    54,
                    56,
                    60,
                    51,
                    50,
                    46,
                    48,
                    58,
                    64,
                    47,
                    71,
                    81,
                    67,
                    54,
                    79,
                    61,
                    54,
                    58,
                    85,
                    58,
                    75,
                    54,
                    69,
                    40,
                    77,
                    76,
                    66,
                    59,
                    47,
                    69,
                    52,
                    95,
                    84,
                    76,
                    61,
                    60,
                    55,
                    58,
                    79,
                    46,
                    57,
                    81,
                    70,
                    77,
                    67,
                    51,
                    69,
                    null,
                    57,
                    52,
                    57,
                    52,
                    98,
                    74,
                    77,
                    78,
                    71,
                    56,
                    91,
                    85,
                    81,
                    39,
                    75,
                    75,
                    79,
                    75,
                    72,
                    55,
                    57,
                    67,
                    61,
                    73,
                    73,
                    70,
                    64,
                    74,
                    53,
                    74,
                    62,
                    66,
                    70,
                    70,
                    76,
                    36,
                    77,
                    76,
                    92,
                    34,
                    49,
                    64,
                    69,
                    77,
                    59,
                    77,
                    60,
                    63,
                    69,
                    71,
                    53,
                    64,
                    76,
                    78,
                    74,
                    69,
                    88,
                    66,
                    45,
                    51,
                    83,
                    77,
                    70,
                    45,
                    74,
                    86,
                    58,
                    91,
                    78,
                    66,
                    55,
                    88,
                    61,
                    76,
                    79,
                    68,
                    77,
                    57,
                    48,
                    65,
                    null,
                    58,
                    63,
                    61,
                    61,
                    68,
                    63,
                    55,
                    67,
                    66,
                    88,
                    72,
                    84,
                    84,
                    61,
                    54,
                    53,
                    54,
                    85,
                    63,
                    66,
                    43,
                    41,
                    73,
                    91,
                    78,
                    73,
                    53,
                    68,
                    62,
                    66,
                    40,
                    61,
                    61,
                    55,
                    45,
                    49,
                    67,
                    44,
                    null,
                    58,
                    70,
                    20,
                    null,
                    45,
                    71,
                    88,
                    82,
                    65,
                    55,
                    99,
                    75,
                    69,
                    null,
                    null,
                    69,
                    77,
                    56,
                    72,
                    75,
                    78,
                    47,
                    89,
                    69,
                    70,
                    62,
                    56,
                    77,
                    74,
                    61,
                    79,
                    56,
                    57,
                    65,
                    87,
                    86,
                    40,
                    52,
                    73,
                    57,
                    63,
                    85,
                    55,
                    71,
                    72,
                    52,
                    61,
                    69,
                    61,
                    64,
                    67,
                    78,
                    83,
                    76,
                    64,
                    80,
                    73,
                    75,
                    48,
                    62,
                    78,
                    54,
                    68,
                    43,
                    60,
                    76,
                    99,
                    44,
                    52,
                    71,
                    60,
                    52,
                    73,
                    91,
                    87,
                    52,
                    84,
                    96,
                    43,
                    66,
                    55,
                    67,
                    65,
                    63,
                    72,
                    77,
                    67,
                    55,
                    73,
                    46,
                    50,
                    66,
                    78,
                    65,
                    55,
                    55,
                    59,
                    57,
                    58,
                    54,
                    57,
                    55,
                    52,
                    null,
                    72,
                    91,
                    70,
                    71,
                    86,
                    52,
                    62,
                    82,
                    64,
                    59,
                    50,
                    53,
                    78,
                    65,
                    60,
                    59,
                    89,
                    64,
                    78,
                    65,
                    62,
                    67,
                    66,
                    56,
                    72,
                    80,
                    49,
                    40,
                    57,
                    48,
                    47,
                    71,
                    null,
                    62,
                    82,
                    67,
                    82,
                    60,
                    49,
                    54,
                    null,
                    67,
                    72,
                    41,
                    70,
                    65,
                    43,
                    80,
                    60,
                    66,
                    76,
                    62,
                    40,
                    41,
                    65,
                    41,
                    49,
                    73,
                    53,
                    75,
                    70,
                    68,
                    73,
                    55,
                    56,
                    74,
                    50,
                    54,
                    69,
                    66,
                    64,
                    68,
                    80,
                    53,
                    73,
                    57,
                    72,
                    49,
                    57,
                    80,
                    94,
                    49,
                    77,
                    62,
                    66,
                    44,
                    52,
                    71,
                    69,
                    88,
                    85,
                    51,
                    68,
                    47,
                    58,
                    62,
                    64,
                    55,
                    60,
                    77,
                    57,
                    77,
                    50,
                    57,
                    40,
                    58,
                    61,
                    64,
                    73,
                    63,
                    73,
                    59,
                    47,
                    75,
                    69,
                    48,
                    69,
                    53,
                    46,
                    36,
                    87,
                    71,
                    66,
                    30,
                    67,
                    69,
                    77,
                    76,
                    83,
                    37,
                    82,
                    46,
                    57,
                    57,
                    73,
                    48,
                    46,
                    59,
                    74,
                    56,
                    53,
                    87,
                    55,
                    82,
                    71,
                    67,
                    56,
                    52,
                    null,
                    57,
                    null,
                    74,
                    60,
                    57,
                    67,
                    63,
                    53,
                    null,
                    73,
                    68,
                    90,
                    65,
                    59,
                    81,
                    39,
                    81,
                    55,
                    64,
                    63,
                    72,
                    64,
                    77,
                    45,
                    60,
                    null,
                    85,
                    61,
                    56,
                    69,
                    62,
                    89,
                    55,
                    74,
                    65,
                    84,
                    72,
                    80,
                    66,
                    53,
                    81,
                    null,
                    68,
                    60,
                    95,
                    73,
                    63,
                    70,
                    60,
                    64,
                    76,
                    90,
                    57,
                    67,
                    91,
                    80,
                    72,
                    88,
                    65,
                    68,
                    71,
                    43,
                    51,
                    75,
                    79,
                    57,
                    49,
                    59,
                    58,
                    78,
                    74,
                    67,
                    42,
                    62,
                    62,
                    68,
                    60,
                    59,
                    78,
                    78,
                    86,
                    77,
                    80,
                    86,
                    58,
                    63,
                    72,
                    57,
                    68,
                    46,
                    45,
                    52,
                    67,
                    33,
                    43,
                    47,
                    69,
                    67,
                    75,
                    74,
                    77,
                    51,
                    39,
                    78,
                    77,
                    70,
                    null,
                    72,
                    53,
                    61,
                    80,
                    46,
                    76,
                    70,
                    null,
                    58,
                    57,
                    75,
                    68,
                    60,
                    64,
                    73,
                    83,
                    62,
                    67,
                    46,
                    53,
                    69,
                    35,
                    62,
                    51,
                    75,
                    72,
                    56,
                    52,
                    50,
                    82,
                    60,
                    70,
                    67,
                    51,
                    85,
                    57,
                    50,
                    77,
                    61,
                    null,
                    79,
                    83,
                    53,
                    53,
                    47,
                    74,
                    75,
                    81,
                    68,
                    67,
                    73,
                    83,
                    49,
                    73,
                    66,
                    64,
                    68,
                    90,
                    71,
                    72,
                    52,
                    62,
                    21,
                    19,
                    59,
                    37,
                    42,
                    53,
                    87,
                    48,
                    70,
                    78,
                    54,
                    59,
                    54,
                    null,
                    30,
                    85,
                    47,
                    60,
                    74,
                    73,
                    75,
                    56,
                    73,
                    59,
                    60,
                    63,
                    76,
                    87,
                    67,
                    64,
                    58,
                    89,
                    53,
                    75,
                    69,
                    63,
                    82,
                    59,
                    72,
                    76,
                    80,
                    49,
                    49,
                    58,
                    74,
                    49,
                    53,
                    59,
                    60,
                    60,
                    71,
                    83,
                    71,
                    56,
                    66,
                    53,
                    54,
                    50,
                    89,
                    47,
                    38,
                    87,
                    62,
                    55,
                    64,
                    82,
                    65,
                    69,
                    68,
                    67,
                    51,
                    53,
                    49,
                    78,
                    74,
                    54,
                    45,
                    78,
                    73,
                    88,
                    72,
                    58,
                    70,
                    89,
                    69,
                    60,
                    59,
                    65,
                    null,
                    69,
                    82,
                    73,
                    76,
                    74,
                    68,
                    70,
                    45,
                    66,
                    57,
                    46,
                    51,
                    75,
                    80,
                    57,
                    74,
                    77,
                    69,
                    66,
                    58,
                    63,
                    74,
                    58,
                    54,
                    44,
                    68,
                    49,
                    55,
                    59,
                    44,
                    61,
                    63,
                    72,
                    74,
                    57,
                    67,
                    null,
                    51,
                    70,
                    57,
                    36,
                    67,
                    66,
                    82,
                    76,
                    85,
                    57,
                    58,
                    53,
                    49,
                    59,
                    64,
                    63,
                    40,
                    52,
                    62,
                    55,
                    48,
                    75,
                    58,
                    52,
                    82,
                    62,
                    68,
                    61,
                    26,
                    27,
                    68,
                    70,
                    53,
                    79,
                    79,
                    85,
                    46,
                    65,
                    61,
                    68,
                    60,
                    70,
                    49,
                    55,
                    70,
                    47,
                    49,
                    60,
                    94,
                    69,
                    78,
                    87,
                    58,
                    67,
                    54,
                    53,
                    69,
                    73,
                    52,
                    70,
                    61,
                    97,
                    57,
                    67,
                    62,
                    78,
                    95,
                    73,
                    68,
                    76,
                    56,
                    60,
                    63,
                    50,
                    59,
                    71,
                    66,
                    90,
                    66,
                    80,
                    59,
                    77,
                    79,
                    88,
                    48,
                    70,
                    78,
                    79,
                    63,
                    74,
                    73,
                    null,
                    null,
                    80,
                    49,
                    48,
                    55,
                    66,
                    39,
                    63,
                    52,
                    56,
                    53,
                    62,
                    40,
                    64,
                    73,
                    82,
                    64,
                    79,
                    72,
                    65,
                    56,
                    74,
                    39,
                    null,
                    40,
                    null,
                    79,
                    50,
                    63,
                    67,
                    79,
                    63,
                    75,
                    52,
                    54,
                    61,
                    71,
                    87,
                    47,
                    null,
                    50,
                    62,
                    61,
                    null,
                    43,
                    null,
                    66,
                    83,
                    80,
                    52,
                    40,
                    75,
                    79,
                    71,
                    53,
                    52,
                    64,
                    55,
                    74,
                    83,
                    65,
                    97,
                    65,
                    75,
                    44,
                    55,
                    53,
                    64,
                    80,
                    44,
                    79,
                    45,
                    65,
                    81,
                    40,
                    58,
                    74,
                    68,
                    56,
                    59,
                    51,
                    76,
                    42,
                    77,
                    65,
                    70,
                    76,
                    71,
                    67,
                    69,
                    60,
                    72,
                    69,
                    97,
                    null,
                    48,
                    52,
                    53,
                    69,
                    60,
                    70,
                    79,
                    90,
                    69,
                    82,
                    82,
                    66,
                    68,
                    55,
                    82,
                    57,
                    null,
                    59,
                    49,
                    57,
                    58,
                    60,
                    56,
                    38,
                    50,
                    57,
                    65,
                    93,
                    35,
                    66,
                    79,
                    50,
                    61,
                    85,
                    61,
                    58,
                    97,
                    48,
                    46,
                    52,
                    57,
                    95,
                    60,
                    58,
                    68,
                    76,
                    26,
                    84,
                    37,
                    80,
                    68,
                    53,
                    43,
                    59,
                    58,
                    63,
                    52,
                    60,
                    62,
                    57,
                    60,
                    62,
                    65,
                    57,
                    63,
                    53,
                    85,
                    64,
                    76,
                    72,
                    55,
                    64,
                    41,
                    83,
                    60,
                    70,
                    90,
                    66,
                    70,
                    50,
                    71,
                    40,
                    58,
                    76,
                    62,
                    50,
                    64,
                    52,
                    77,
                    76,
                    54,
                    60,
                    86,
                    52,
                    55,
                    59,
                    67,
                    74,
                    72,
                    45,
                    87,
                    45,
                    65,
                    59,
                    36,
                    70,
                    null,
                    57,
                    72,
                    61,
                    64,
                    56,
                    62,
                    101,
                    57,
                    60,
                    55,
                    58,
                    65,
                    82,
                    69,
                    70,
                    42,
                    60,
                    55,
                    73,
                    73,
                    61,
                    58,
                    46,
                    71,
                    68,
                    45,
                    58,
                    66,
                    61,
                    null,
                    81,
                    57,
                    63,
                    null,
                    58,
                    60,
                    67,
                    59,
                    80,
                    55,
                    null,
                    87,
                    38,
                    67,
                    72,
                    65,
                    55,
                    75,
                    49,
                    60,
                    77,
                    77,
                    81,
                    66,
                    48,
                    70,
                    70,
                    null,
                    50,
                    56,
                    54,
                    59,
                    63,
                    64,
                    69,
                    66,
                    44,
                    77,
                    89,
                    63,
                    54,
                    55,
                    47,
                    83,
                    50,
                    74,
                    57,
                    60,
                    53,
                    54,
                    52,
                    56,
                    49,
                    null,
                    52,
                    63,
                    70,
                    60,
                    50,
                    41,
                    66,
                    55,
                    57,
                    62,
                    59,
                    86,
                    46,
                    36,
                    39,
                    78,
                    63,
                    54,
                    54,
                    82,
                    69,
                    71,
                    71,
                    52,
                    85,
                    60,
                    84,
                    65,
                    70,
                    56,
                    66,
                    51,
                    30,
                    65,
                    49,
                    56,
                    63,
                    72,
                    67,
                    42,
                    75,
                    73,
                    43,
                    46,
                    58,
                    68,
                    76,
                    66,
                    55,
                    42,
                    57,
                    56,
                    55,
                    null,
                    null,
                    86,
                    63,
                    45,
                    53,
                    59,
                    43,
                    59,
                    59,
                    60,
                    68,
                    63,
                    73,
                    71,
                    68,
                    99,
                    60,
                    60,
                    57,
                    66,
                    85,
                    82,
                    68,
                    50,
                    65,
                    56,
                    48,
                    58,
                    82,
                    43,
                    57,
                    82,
                    90,
                    57,
                    76,
                    59,
                    null,
                    59,
                    52,
                    62,
                    null,
                    78,
                    81,
                    80,
                    52,
                    43,
                    43,
                    40,
                    73,
                    49,
                    52,
                    51,
                    51,
                    82,
                    58,
                    77,
                    61,
                    70,
                    59,
                    78,
                    75,
                    60,
                    81,
                    54,
                    63,
                    65,
                    57,
                    null,
                    61,
                    54,
                    87,
                    67,
                    41,
                    41,
                    67,
                    77,
                    52,
                    58,
                    60,
                    58,
                    60,
                    78,
                    61,
                    60,
                    46,
                    37,
                    60,
                    47,
                    66,
                    56,
                    58,
                    63,
                    66,
                    67,
                    84,
                    51,
                    42,
                    52,
                    68,
                    61,
                    56,
                    58,
                    28,
                    72,
                    61,
                    80,
                    null,
                    60,
                    82,
                    45,
                    40,
                    61,
                    55,
                    47,
                    73,
                    55,
                    58,
                    null,
                    61,
                    null,
                    72,
                    87,
                    65,
                    88,
                    63,
                    53,
                    56,
                    79,
                    69,
                    66,
                    82,
                    74,
                    70,
                    60,
                    47,
                    null,
                    null,
                    34,
                    63,
                    57,
                    null,
                    null,
                    78,
                    52,
                    61,
                    76,
                    74,
                    71,
                    36,
                    57,
                    53,
                    59,
                    66,
                    51,
                    88,
                    60,
                    58,
                    64,
                    62,
                    74,
                    73,
                    78,
                    82,
                    62,
                    87,
                    61,
                    47,
                    49,
                    68,
                    52,
                    60,
                    46,
                    68,
                    68,
                    70,
                    56,
                    81,
                    54,
                    69,
                    50,
                    62,
                    60,
                    58,
                    76,
                    50,
                    42,
                    53,
                    58,
                    67,
                    79,
                    41,
                    73,
                    49,
                    59,
                    61,
                    45,
                    52,
                    77,
                    51,
                    76,
                    58,
                    59,
                    71,
                    82,
                    35,
                    46,
                    73,
                    47,
                    81,
                    53,
                    82,
                    54,
                    68,
                    61,
                    72,
                    83,
                    68,
                    53,
                    81,
                    51,
                    40,
                    58,
                    51,
                    48,
                    50,
                    49,
                    57,
                    68,
                    44,
                    76,
                    44,
                    43,
                    40,
                    33,
                    98,
                    76,
                    70,
                    75,
                    null,
                    64,
                    45,
                    59,
                    49,
                    55,
                    65,
                    72,
                    57,
                    64,
                    67,
                    56,
                    63,
                    50,
                    58,
                    68,
                    66,
                    56,
                    60,
                    79,
                    52,
                    56,
                    55,
                    66,
                    79,
                    46,
                    70,
                    59,
                    45,
                    68,
                    70,
                    38,
                    56,
                    93,
                    75,
                    53,
                    79,
                    53,
                    68,
                    48,
                    60,
                    55,
                    74,
                    78,
                    82,
                    57,
                    73,
                    45,
                    69,
                    74,
                    59,
                    52,
                    36,
                    null,
                    56,
                    51,
                    78,
                    77,
                    53,
                    null,
                    74,
                    76,
                    69,
                    68,
                    73,
                    60,
                    53,
                    51,
                    70,
                    59,
                    77,
                    82,
                    75,
                    70,
                    54,
                    53,
                    77,
                    72,
                    60,
                    51,
                    35,
                    54,
                    59,
                    53,
                    63,
                    51,
                    80,
                    60,
                    71,
                    66
                  ],
                  "xaxis": "x",
                  "yaxis": "y"
                }
              ],
              "layout": {
                "barmode": "relative",
                "legend": {
                  "tracegroupgap": 0
                },
                "margin": {
                  "t": 60
                },
                "template": {
                  "data": {
                    "bar": [
                      {
                        "error_x": {
                          "color": "#2a3f5f"
                        },
                        "error_y": {
                          "color": "#2a3f5f"
                        },
                        "marker": {
                          "line": {
                            "color": "#E5ECF6",
                            "width": 0.5
                          },
                          "pattern": {
                            "fillmode": "overlay",
                            "size": 10,
                            "solidity": 0.2
                          }
                        },
                        "type": "bar"
                      }
                    ],
                    "barpolar": [
                      {
                        "marker": {
                          "line": {
                            "color": "#E5ECF6",
                            "width": 0.5
                          },
                          "pattern": {
                            "fillmode": "overlay",
                            "size": 10,
                            "solidity": 0.2
                          }
                        },
                        "type": "barpolar"
                      }
                    ],
                    "carpet": [
                      {
                        "aaxis": {
                          "endlinecolor": "#2a3f5f",
                          "gridcolor": "white",
                          "linecolor": "white",
                          "minorgridcolor": "white",
                          "startlinecolor": "#2a3f5f"
                        },
                        "baxis": {
                          "endlinecolor": "#2a3f5f",
                          "gridcolor": "white",
                          "linecolor": "white",
                          "minorgridcolor": "white",
                          "startlinecolor": "#2a3f5f"
                        },
                        "type": "carpet"
                      }
                    ],
                    "choropleth": [
                      {
                        "colorbar": {
                          "outlinewidth": 0,
                          "ticks": ""
                        },
                        "type": "choropleth"
                      }
                    ],
                    "contour": [
                      {
                        "colorbar": {
                          "outlinewidth": 0,
                          "ticks": ""
                        },
                        "colorscale": [
                          [
                            0,
                            "#0d0887"
                          ],
                          [
                            0.1111111111111111,
                            "#46039f"
                          ],
                          [
                            0.2222222222222222,
                            "#7201a8"
                          ],
                          [
                            0.3333333333333333,
                            "#9c179e"
                          ],
                          [
                            0.4444444444444444,
                            "#bd3786"
                          ],
                          [
                            0.5555555555555556,
                            "#d8576b"
                          ],
                          [
                            0.6666666666666666,
                            "#ed7953"
                          ],
                          [
                            0.7777777777777778,
                            "#fb9f3a"
                          ],
                          [
                            0.8888888888888888,
                            "#fdca26"
                          ],
                          [
                            1,
                            "#f0f921"
                          ]
                        ],
                        "type": "contour"
                      }
                    ],
                    "contourcarpet": [
                      {
                        "colorbar": {
                          "outlinewidth": 0,
                          "ticks": ""
                        },
                        "type": "contourcarpet"
                      }
                    ],
                    "heatmap": [
                      {
                        "colorbar": {
                          "outlinewidth": 0,
                          "ticks": ""
                        },
                        "colorscale": [
                          [
                            0,
                            "#0d0887"
                          ],
                          [
                            0.1111111111111111,
                            "#46039f"
                          ],
                          [
                            0.2222222222222222,
                            "#7201a8"
                          ],
                          [
                            0.3333333333333333,
                            "#9c179e"
                          ],
                          [
                            0.4444444444444444,
                            "#bd3786"
                          ],
                          [
                            0.5555555555555556,
                            "#d8576b"
                          ],
                          [
                            0.6666666666666666,
                            "#ed7953"
                          ],
                          [
                            0.7777777777777778,
                            "#fb9f3a"
                          ],
                          [
                            0.8888888888888888,
                            "#fdca26"
                          ],
                          [
                            1,
                            "#f0f921"
                          ]
                        ],
                        "type": "heatmap"
                      }
                    ],
                    "heatmapgl": [
                      {
                        "colorbar": {
                          "outlinewidth": 0,
                          "ticks": ""
                        },
                        "colorscale": [
                          [
                            0,
                            "#0d0887"
                          ],
                          [
                            0.1111111111111111,
                            "#46039f"
                          ],
                          [
                            0.2222222222222222,
                            "#7201a8"
                          ],
                          [
                            0.3333333333333333,
                            "#9c179e"
                          ],
                          [
                            0.4444444444444444,
                            "#bd3786"
                          ],
                          [
                            0.5555555555555556,
                            "#d8576b"
                          ],
                          [
                            0.6666666666666666,
                            "#ed7953"
                          ],
                          [
                            0.7777777777777778,
                            "#fb9f3a"
                          ],
                          [
                            0.8888888888888888,
                            "#fdca26"
                          ],
                          [
                            1,
                            "#f0f921"
                          ]
                        ],
                        "type": "heatmapgl"
                      }
                    ],
                    "histogram": [
                      {
                        "marker": {
                          "pattern": {
                            "fillmode": "overlay",
                            "size": 10,
                            "solidity": 0.2
                          }
                        },
                        "type": "histogram"
                      }
                    ],
                    "histogram2d": [
                      {
                        "colorbar": {
                          "outlinewidth": 0,
                          "ticks": ""
                        },
                        "colorscale": [
                          [
                            0,
                            "#0d0887"
                          ],
                          [
                            0.1111111111111111,
                            "#46039f"
                          ],
                          [
                            0.2222222222222222,
                            "#7201a8"
                          ],
                          [
                            0.3333333333333333,
                            "#9c179e"
                          ],
                          [
                            0.4444444444444444,
                            "#bd3786"
                          ],
                          [
                            0.5555555555555556,
                            "#d8576b"
                          ],
                          [
                            0.6666666666666666,
                            "#ed7953"
                          ],
                          [
                            0.7777777777777778,
                            "#fb9f3a"
                          ],
                          [
                            0.8888888888888888,
                            "#fdca26"
                          ],
                          [
                            1,
                            "#f0f921"
                          ]
                        ],
                        "type": "histogram2d"
                      }
                    ],
                    "histogram2dcontour": [
                      {
                        "colorbar": {
                          "outlinewidth": 0,
                          "ticks": ""
                        },
                        "colorscale": [
                          [
                            0,
                            "#0d0887"
                          ],
                          [
                            0.1111111111111111,
                            "#46039f"
                          ],
                          [
                            0.2222222222222222,
                            "#7201a8"
                          ],
                          [
                            0.3333333333333333,
                            "#9c179e"
                          ],
                          [
                            0.4444444444444444,
                            "#bd3786"
                          ],
                          [
                            0.5555555555555556,
                            "#d8576b"
                          ],
                          [
                            0.6666666666666666,
                            "#ed7953"
                          ],
                          [
                            0.7777777777777778,
                            "#fb9f3a"
                          ],
                          [
                            0.8888888888888888,
                            "#fdca26"
                          ],
                          [
                            1,
                            "#f0f921"
                          ]
                        ],
                        "type": "histogram2dcontour"
                      }
                    ],
                    "mesh3d": [
                      {
                        "colorbar": {
                          "outlinewidth": 0,
                          "ticks": ""
                        },
                        "type": "mesh3d"
                      }
                    ],
                    "parcoords": [
                      {
                        "line": {
                          "colorbar": {
                            "outlinewidth": 0,
                            "ticks": ""
                          }
                        },
                        "type": "parcoords"
                      }
                    ],
                    "pie": [
                      {
                        "automargin": true,
                        "type": "pie"
                      }
                    ],
                    "scatter": [
                      {
                        "fillpattern": {
                          "fillmode": "overlay",
                          "size": 10,
                          "solidity": 0.2
                        },
                        "type": "scatter"
                      }
                    ],
                    "scatter3d": [
                      {
                        "line": {
                          "colorbar": {
                            "outlinewidth": 0,
                            "ticks": ""
                          }
                        },
                        "marker": {
                          "colorbar": {
                            "outlinewidth": 0,
                            "ticks": ""
                          }
                        },
                        "type": "scatter3d"
                      }
                    ],
                    "scattercarpet": [
                      {
                        "marker": {
                          "colorbar": {
                            "outlinewidth": 0,
                            "ticks": ""
                          }
                        },
                        "type": "scattercarpet"
                      }
                    ],
                    "scattergeo": [
                      {
                        "marker": {
                          "colorbar": {
                            "outlinewidth": 0,
                            "ticks": ""
                          }
                        },
                        "type": "scattergeo"
                      }
                    ],
                    "scattergl": [
                      {
                        "marker": {
                          "colorbar": {
                            "outlinewidth": 0,
                            "ticks": ""
                          }
                        },
                        "type": "scattergl"
                      }
                    ],
                    "scattermapbox": [
                      {
                        "marker": {
                          "colorbar": {
                            "outlinewidth": 0,
                            "ticks": ""
                          }
                        },
                        "type": "scattermapbox"
                      }
                    ],
                    "scatterpolar": [
                      {
                        "marker": {
                          "colorbar": {
                            "outlinewidth": 0,
                            "ticks": ""
                          }
                        },
                        "type": "scatterpolar"
                      }
                    ],
                    "scatterpolargl": [
                      {
                        "marker": {
                          "colorbar": {
                            "outlinewidth": 0,
                            "ticks": ""
                          }
                        },
                        "type": "scatterpolargl"
                      }
                    ],
                    "scatterternary": [
                      {
                        "marker": {
                          "colorbar": {
                            "outlinewidth": 0,
                            "ticks": ""
                          }
                        },
                        "type": "scatterternary"
                      }
                    ],
                    "surface": [
                      {
                        "colorbar": {
                          "outlinewidth": 0,
                          "ticks": ""
                        },
                        "colorscale": [
                          [
                            0,
                            "#0d0887"
                          ],
                          [
                            0.1111111111111111,
                            "#46039f"
                          ],
                          [
                            0.2222222222222222,
                            "#7201a8"
                          ],
                          [
                            0.3333333333333333,
                            "#9c179e"
                          ],
                          [
                            0.4444444444444444,
                            "#bd3786"
                          ],
                          [
                            0.5555555555555556,
                            "#d8576b"
                          ],
                          [
                            0.6666666666666666,
                            "#ed7953"
                          ],
                          [
                            0.7777777777777778,
                            "#fb9f3a"
                          ],
                          [
                            0.8888888888888888,
                            "#fdca26"
                          ],
                          [
                            1,
                            "#f0f921"
                          ]
                        ],
                        "type": "surface"
                      }
                    ],
                    "table": [
                      {
                        "cells": {
                          "fill": {
                            "color": "#EBF0F8"
                          },
                          "line": {
                            "color": "white"
                          }
                        },
                        "header": {
                          "fill": {
                            "color": "#C8D4E3"
                          },
                          "line": {
                            "color": "white"
                          }
                        },
                        "type": "table"
                      }
                    ]
                  },
                  "layout": {
                    "annotationdefaults": {
                      "arrowcolor": "#2a3f5f",
                      "arrowhead": 0,
                      "arrowwidth": 1
                    },
                    "autotypenumbers": "strict",
                    "coloraxis": {
                      "colorbar": {
                        "outlinewidth": 0,
                        "ticks": ""
                      }
                    },
                    "colorscale": {
                      "diverging": [
                        [
                          0,
                          "#8e0152"
                        ],
                        [
                          0.1,
                          "#c51b7d"
                        ],
                        [
                          0.2,
                          "#de77ae"
                        ],
                        [
                          0.3,
                          "#f1b6da"
                        ],
                        [
                          0.4,
                          "#fde0ef"
                        ],
                        [
                          0.5,
                          "#f7f7f7"
                        ],
                        [
                          0.6,
                          "#e6f5d0"
                        ],
                        [
                          0.7,
                          "#b8e186"
                        ],
                        [
                          0.8,
                          "#7fbc41"
                        ],
                        [
                          0.9,
                          "#4d9221"
                        ],
                        [
                          1,
                          "#276419"
                        ]
                      ],
                      "sequential": [
                        [
                          0,
                          "#0d0887"
                        ],
                        [
                          0.1111111111111111,
                          "#46039f"
                        ],
                        [
                          0.2222222222222222,
                          "#7201a8"
                        ],
                        [
                          0.3333333333333333,
                          "#9c179e"
                        ],
                        [
                          0.4444444444444444,
                          "#bd3786"
                        ],
                        [
                          0.5555555555555556,
                          "#d8576b"
                        ],
                        [
                          0.6666666666666666,
                          "#ed7953"
                        ],
                        [
                          0.7777777777777778,
                          "#fb9f3a"
                        ],
                        [
                          0.8888888888888888,
                          "#fdca26"
                        ],
                        [
                          1,
                          "#f0f921"
                        ]
                      ],
                      "sequentialminus": [
                        [
                          0,
                          "#0d0887"
                        ],
                        [
                          0.1111111111111111,
                          "#46039f"
                        ],
                        [
                          0.2222222222222222,
                          "#7201a8"
                        ],
                        [
                          0.3333333333333333,
                          "#9c179e"
                        ],
                        [
                          0.4444444444444444,
                          "#bd3786"
                        ],
                        [
                          0.5555555555555556,
                          "#d8576b"
                        ],
                        [
                          0.6666666666666666,
                          "#ed7953"
                        ],
                        [
                          0.7777777777777778,
                          "#fb9f3a"
                        ],
                        [
                          0.8888888888888888,
                          "#fdca26"
                        ],
                        [
                          1,
                          "#f0f921"
                        ]
                      ]
                    },
                    "colorway": [
                      "#636efa",
                      "#EF553B",
                      "#00cc96",
                      "#ab63fa",
                      "#FFA15A",
                      "#19d3f3",
                      "#FF6692",
                      "#B6E880",
                      "#FF97FF",
                      "#FECB52"
                    ],
                    "font": {
                      "color": "#2a3f5f"
                    },
                    "geo": {
                      "bgcolor": "white",
                      "lakecolor": "white",
                      "landcolor": "#E5ECF6",
                      "showlakes": true,
                      "showland": true,
                      "subunitcolor": "white"
                    },
                    "hoverlabel": {
                      "align": "left"
                    },
                    "hovermode": "closest",
                    "mapbox": {
                      "style": "light"
                    },
                    "paper_bgcolor": "white",
                    "plot_bgcolor": "#E5ECF6",
                    "polar": {
                      "angularaxis": {
                        "gridcolor": "white",
                        "linecolor": "white",
                        "ticks": ""
                      },
                      "bgcolor": "#E5ECF6",
                      "radialaxis": {
                        "gridcolor": "white",
                        "linecolor": "white",
                        "ticks": ""
                      }
                    },
                    "scene": {
                      "xaxis": {
                        "backgroundcolor": "#E5ECF6",
                        "gridcolor": "white",
                        "gridwidth": 2,
                        "linecolor": "white",
                        "showbackground": true,
                        "ticks": "",
                        "zerolinecolor": "white"
                      },
                      "yaxis": {
                        "backgroundcolor": "#E5ECF6",
                        "gridcolor": "white",
                        "gridwidth": 2,
                        "linecolor": "white",
                        "showbackground": true,
                        "ticks": "",
                        "zerolinecolor": "white"
                      },
                      "zaxis": {
                        "backgroundcolor": "#E5ECF6",
                        "gridcolor": "white",
                        "gridwidth": 2,
                        "linecolor": "white",
                        "showbackground": true,
                        "ticks": "",
                        "zerolinecolor": "white"
                      }
                    },
                    "shapedefaults": {
                      "line": {
                        "color": "#2a3f5f"
                      }
                    },
                    "ternary": {
                      "aaxis": {
                        "gridcolor": "white",
                        "linecolor": "white",
                        "ticks": ""
                      },
                      "baxis": {
                        "gridcolor": "white",
                        "linecolor": "white",
                        "ticks": ""
                      },
                      "bgcolor": "#E5ECF6",
                      "caxis": {
                        "gridcolor": "white",
                        "linecolor": "white",
                        "ticks": ""
                      }
                    },
                    "title": {
                      "x": 0.05
                    },
                    "xaxis": {
                      "automargin": true,
                      "gridcolor": "white",
                      "linecolor": "white",
                      "ticks": "",
                      "title": {
                        "standoff": 15
                      },
                      "zerolinecolor": "white",
                      "zerolinewidth": 2
                    },
                    "yaxis": {
                      "automargin": true,
                      "gridcolor": "white",
                      "linecolor": "white",
                      "ticks": "",
                      "title": {
                        "standoff": 15
                      },
                      "zerolinecolor": "white",
                      "zerolinewidth": 2
                    }
                  }
                },
                "xaxis": {
                  "anchor": "y",
                  "domain": [
                    0,
                    1
                  ],
                  "title": {
                    "text": "age"
                  }
                },
                "yaxis": {
                  "anchor": "x",
                  "domain": [
                    0,
                    1
                  ],
                  "title": {
                    "text": "count"
                  }
                }
              }
            }
          },
          "metadata": {},
          "output_type": "display_data"
        }
      ],
      "source": [
        "fig = px.histogram(df, x=\"age\", text_auto=True)\n",
        "fig.update_traces(textfont_size=12, textangle=0, textposition=\"outside\")\n",
        "fig.show()"
      ]
    },
    {
      "cell_type": "code",
      "execution_count": 16,
      "metadata": {
        "colab": {
          "base_uri": "https://localhost:8080/",
          "height": 424
        },
        "id": "RoPQurh90qw8",
        "outputId": "3819d037-6f9a-4a2c-b3f6-87b662cdd8e2"
      },
      "outputs": [
        {
          "data": {
            "text/html": [
              "<div>\n",
              "<style scoped>\n",
              "    .dataframe tbody tr th:only-of-type {\n",
              "        vertical-align: middle;\n",
              "    }\n",
              "\n",
              "    .dataframe tbody tr th {\n",
              "        vertical-align: top;\n",
              "    }\n",
              "\n",
              "    .dataframe thead th {\n",
              "        text-align: right;\n",
              "    }\n",
              "</style>\n",
              "<table border=\"1\" class=\"dataframe\">\n",
              "  <thead>\n",
              "    <tr style=\"text-align: right;\">\n",
              "      <th></th>\n",
              "      <th>city</th>\n",
              "      <th>count</th>\n",
              "    </tr>\n",
              "  </thead>\n",
              "  <tbody>\n",
              "    <tr>\n",
              "      <th>0</th>\n",
              "      <td>New York, New York</td>\n",
              "      <td>98</td>\n",
              "    </tr>\n",
              "    <tr>\n",
              "      <th>1</th>\n",
              "      <td>Beijing, China</td>\n",
              "      <td>68</td>\n",
              "    </tr>\n",
              "    <tr>\n",
              "      <th>2</th>\n",
              "      <td>Hong Kong, Hong Kong</td>\n",
              "      <td>67</td>\n",
              "    </tr>\n",
              "    <tr>\n",
              "      <th>3</th>\n",
              "      <td>Shanghai, China</td>\n",
              "      <td>63</td>\n",
              "    </tr>\n",
              "    <tr>\n",
              "      <th>4</th>\n",
              "      <td>London, United Kingdom</td>\n",
              "      <td>60</td>\n",
              "    </tr>\n",
              "    <tr>\n",
              "      <th>...</th>\n",
              "      <td>...</td>\n",
              "      <td>...</td>\n",
              "    </tr>\n",
              "    <tr>\n",
              "      <th>767</th>\n",
              "      <td>Montpellier, France</td>\n",
              "      <td>1</td>\n",
              "    </tr>\n",
              "    <tr>\n",
              "      <th>768</th>\n",
              "      <td>Santa Clara, California</td>\n",
              "      <td>1</td>\n",
              "    </tr>\n",
              "    <tr>\n",
              "      <th>769</th>\n",
              "      <td>Stuttgart, Germany</td>\n",
              "      <td>1</td>\n",
              "    </tr>\n",
              "    <tr>\n",
              "      <th>770</th>\n",
              "      <td>Indianapolis, Indiana</td>\n",
              "      <td>1</td>\n",
              "    </tr>\n",
              "    <tr>\n",
              "      <th>771</th>\n",
              "      <td>Makati, Philippines</td>\n",
              "      <td>1</td>\n",
              "    </tr>\n",
              "  </tbody>\n",
              "</table>\n",
              "<p>772 rows × 2 columns</p>\n",
              "</div>"
            ],
            "text/plain": [
              "                        city  count\n",
              "0         New York, New York     98\n",
              "1             Beijing, China     68\n",
              "2       Hong Kong, Hong Kong     67\n",
              "3            Shanghai, China     63\n",
              "4     London, United Kingdom     60\n",
              "..                       ...    ...\n",
              "767      Montpellier, France      1\n",
              "768  Santa Clara, California      1\n",
              "769       Stuttgart, Germany      1\n",
              "770    Indianapolis, Indiana      1\n",
              "771      Makati, Philippines      1\n",
              "\n",
              "[772 rows x 2 columns]"
            ]
          },
          "execution_count": 16,
          "metadata": {},
          "output_type": "execute_result"
        }
      ],
      "source": [
        "city_series = df['Residence'].value_counts();\n",
        "\n",
        "# creating city dataframe\n",
        "\n",
        "city_df = pd.DataFrame({'city': city_series.index, 'count': city_series.values})\n",
        "\n",
        "city_df\n"
      ]
    },
    {
      "cell_type": "code",
      "execution_count": 17,
      "metadata": {
        "colab": {
          "base_uri": "https://localhost:8080/"
        },
        "id": "eQqGYvC8u8CK",
        "outputId": "58800a20-1dd6-4682-eb9d-fb4a10e6bddb"
      },
      "outputs": [
        {
          "ename": "ModuleNotFoundError",
          "evalue": "No module named 'geopy'",
          "output_type": "error",
          "traceback": [
            "\u001b[0;31m---------------------------------------------------------------------------\u001b[0m",
            "\u001b[0;31mModuleNotFoundError\u001b[0m                       Traceback (most recent call last)",
            "Input \u001b[0;32mIn [17]\u001b[0m, in \u001b[0;36m<cell line: 1>\u001b[0;34m()\u001b[0m\n\u001b[0;32m----> 1\u001b[0m \u001b[38;5;28;01mfrom\u001b[39;00m \u001b[38;5;21;01mgeopy\u001b[39;00m\u001b[38;5;21;01m.\u001b[39;00m\u001b[38;5;21;01mgeocoders\u001b[39;00m \u001b[38;5;28;01mimport\u001b[39;00m Nominatim\n\u001b[1;32m      2\u001b[0m geolocator \u001b[38;5;241m=\u001b[39m Nominatim(user_agent\u001b[38;5;241m=\u001b[39m\u001b[38;5;124m\"\u001b[39m\u001b[38;5;124mmy_geocoder\u001b[39m\u001b[38;5;124m\"\u001b[39m)\n\u001b[1;32m      4\u001b[0m \u001b[38;5;66;03m# Example city names\u001b[39;00m\n",
            "\u001b[0;31mModuleNotFoundError\u001b[0m: No module named 'geopy'"
          ]
        }
      ],
      "source": [
        "from geopy.geocoders import Nominatim\n",
        "geolocator = Nominatim(user_agent=\"my_geocoder\")\n",
        "\n",
        "# Example city names\n",
        "cities = ['New York', 'London', 'Tokyo']\n",
        "\n",
        "# Initialize lists to store latitude and longitude coordinates\n",
        "latitudes = []\n",
        "longitudes = []\n",
        "\n",
        "# Iterate over each city\n",
        "for city in cities:\n",
        "    # Perform geocoding for the city\n",
        "    location = geolocator.geocode(city)\n",
        "\n",
        "    # If location is found, append latitude and longitude to the lists\n",
        "    if location:\n",
        "        latitudes.append(location.latitude)\n",
        "        longitudes.append(location.longitude)\n",
        "    else:\n",
        "        # If location is not found, append None to the lists\n",
        "        latitudes.append(None)\n",
        "        longitudes.append(None)\n",
        "\n",
        "for city, lat, lon in zip(cities, latitudes, longitudes):\n",
        "    print(f\"{city}: Latitude={lat}, Longitude={lon}\")"
      ]
    },
    {
      "cell_type": "code",
      "execution_count": null,
      "metadata": {
        "colab": {
          "base_uri": "https://localhost:8080/",
          "height": 542
        },
        "id": "Mmhfhm7BvOnX",
        "outputId": "8bb065c5-3ca9-401d-dce0-c2cb29501ac9"
      },
      "outputs": [
        {
          "data": {
            "text/html": [
              "<html>\n",
              "<head><meta charset=\"utf-8\" /></head>\n",
              "<body>\n",
              "    <div>            <script src=\"https://cdnjs.cloudflare.com/ajax/libs/mathjax/2.7.5/MathJax.js?config=TeX-AMS-MML_SVG\"></script><script type=\"text/javascript\">if (window.MathJax && window.MathJax.Hub && window.MathJax.Hub.Config) {window.MathJax.Hub.Config({SVG: {font: \"STIX-Web\"}});}</script>                <script type=\"text/javascript\">window.PlotlyConfig = {MathJaxConfig: 'local'};</script>\n",
              "        <script charset=\"utf-8\" src=\"https://cdn.plot.ly/plotly-2.24.1.min.js\"></script>                <div id=\"04057011-bc73-44d0-9265-acfd8db3e989\" class=\"plotly-graph-div\" style=\"height:525px; width:100%;\"></div>            <script type=\"text/javascript\">                                    window.PLOTLYENV=window.PLOTLYENV || {};                                    if (document.getElementById(\"04057011-bc73-44d0-9265-acfd8db3e989\")) {                    Plotly.newPlot(                        \"04057011-bc73-44d0-9265-acfd8db3e989\",                        [{\"geo\":\"geo\",\"hovertemplate\":\"lat=%{lat}\\u003cbr\\u003elon=%{lon}\\u003cextra\\u003e\\u003c\\u002fextra\\u003e\",\"lat\":[40.7127281,51.4893335,35.6821936],\"legendgroup\":\"\",\"lon\":[-74.0060152,-0.14405508452768728,139.762221],\"marker\":{\"color\":\"#636efa\",\"symbol\":\"circle\"},\"mode\":\"markers\",\"name\":\"\",\"showlegend\":false,\"type\":\"scattergeo\"}],                        {\"template\":{\"data\":{\"histogram2dcontour\":[{\"type\":\"histogram2dcontour\",\"colorbar\":{\"outlinewidth\":0,\"ticks\":\"\"},\"colorscale\":[[0.0,\"#0d0887\"],[0.1111111111111111,\"#46039f\"],[0.2222222222222222,\"#7201a8\"],[0.3333333333333333,\"#9c179e\"],[0.4444444444444444,\"#bd3786\"],[0.5555555555555556,\"#d8576b\"],[0.6666666666666666,\"#ed7953\"],[0.7777777777777778,\"#fb9f3a\"],[0.8888888888888888,\"#fdca26\"],[1.0,\"#f0f921\"]]}],\"choropleth\":[{\"type\":\"choropleth\",\"colorbar\":{\"outlinewidth\":0,\"ticks\":\"\"}}],\"histogram2d\":[{\"type\":\"histogram2d\",\"colorbar\":{\"outlinewidth\":0,\"ticks\":\"\"},\"colorscale\":[[0.0,\"#0d0887\"],[0.1111111111111111,\"#46039f\"],[0.2222222222222222,\"#7201a8\"],[0.3333333333333333,\"#9c179e\"],[0.4444444444444444,\"#bd3786\"],[0.5555555555555556,\"#d8576b\"],[0.6666666666666666,\"#ed7953\"],[0.7777777777777778,\"#fb9f3a\"],[0.8888888888888888,\"#fdca26\"],[1.0,\"#f0f921\"]]}],\"heatmap\":[{\"type\":\"heatmap\",\"colorbar\":{\"outlinewidth\":0,\"ticks\":\"\"},\"colorscale\":[[0.0,\"#0d0887\"],[0.1111111111111111,\"#46039f\"],[0.2222222222222222,\"#7201a8\"],[0.3333333333333333,\"#9c179e\"],[0.4444444444444444,\"#bd3786\"],[0.5555555555555556,\"#d8576b\"],[0.6666666666666666,\"#ed7953\"],[0.7777777777777778,\"#fb9f3a\"],[0.8888888888888888,\"#fdca26\"],[1.0,\"#f0f921\"]]}],\"heatmapgl\":[{\"type\":\"heatmapgl\",\"colorbar\":{\"outlinewidth\":0,\"ticks\":\"\"},\"colorscale\":[[0.0,\"#0d0887\"],[0.1111111111111111,\"#46039f\"],[0.2222222222222222,\"#7201a8\"],[0.3333333333333333,\"#9c179e\"],[0.4444444444444444,\"#bd3786\"],[0.5555555555555556,\"#d8576b\"],[0.6666666666666666,\"#ed7953\"],[0.7777777777777778,\"#fb9f3a\"],[0.8888888888888888,\"#fdca26\"],[1.0,\"#f0f921\"]]}],\"contourcarpet\":[{\"type\":\"contourcarpet\",\"colorbar\":{\"outlinewidth\":0,\"ticks\":\"\"}}],\"contour\":[{\"type\":\"contour\",\"colorbar\":{\"outlinewidth\":0,\"ticks\":\"\"},\"colorscale\":[[0.0,\"#0d0887\"],[0.1111111111111111,\"#46039f\"],[0.2222222222222222,\"#7201a8\"],[0.3333333333333333,\"#9c179e\"],[0.4444444444444444,\"#bd3786\"],[0.5555555555555556,\"#d8576b\"],[0.6666666666666666,\"#ed7953\"],[0.7777777777777778,\"#fb9f3a\"],[0.8888888888888888,\"#fdca26\"],[1.0,\"#f0f921\"]]}],\"surface\":[{\"type\":\"surface\",\"colorbar\":{\"outlinewidth\":0,\"ticks\":\"\"},\"colorscale\":[[0.0,\"#0d0887\"],[0.1111111111111111,\"#46039f\"],[0.2222222222222222,\"#7201a8\"],[0.3333333333333333,\"#9c179e\"],[0.4444444444444444,\"#bd3786\"],[0.5555555555555556,\"#d8576b\"],[0.6666666666666666,\"#ed7953\"],[0.7777777777777778,\"#fb9f3a\"],[0.8888888888888888,\"#fdca26\"],[1.0,\"#f0f921\"]]}],\"mesh3d\":[{\"type\":\"mesh3d\",\"colorbar\":{\"outlinewidth\":0,\"ticks\":\"\"}}],\"scatter\":[{\"fillpattern\":{\"fillmode\":\"overlay\",\"size\":10,\"solidity\":0.2},\"type\":\"scatter\"}],\"parcoords\":[{\"type\":\"parcoords\",\"line\":{\"colorbar\":{\"outlinewidth\":0,\"ticks\":\"\"}}}],\"scatterpolargl\":[{\"type\":\"scatterpolargl\",\"marker\":{\"colorbar\":{\"outlinewidth\":0,\"ticks\":\"\"}}}],\"bar\":[{\"error_x\":{\"color\":\"#2a3f5f\"},\"error_y\":{\"color\":\"#2a3f5f\"},\"marker\":{\"line\":{\"color\":\"#E5ECF6\",\"width\":0.5},\"pattern\":{\"fillmode\":\"overlay\",\"size\":10,\"solidity\":0.2}},\"type\":\"bar\"}],\"scattergeo\":[{\"type\":\"scattergeo\",\"marker\":{\"colorbar\":{\"outlinewidth\":0,\"ticks\":\"\"}}}],\"scatterpolar\":[{\"type\":\"scatterpolar\",\"marker\":{\"colorbar\":{\"outlinewidth\":0,\"ticks\":\"\"}}}],\"histogram\":[{\"marker\":{\"pattern\":{\"fillmode\":\"overlay\",\"size\":10,\"solidity\":0.2}},\"type\":\"histogram\"}],\"scattergl\":[{\"type\":\"scattergl\",\"marker\":{\"colorbar\":{\"outlinewidth\":0,\"ticks\":\"\"}}}],\"scatter3d\":[{\"type\":\"scatter3d\",\"line\":{\"colorbar\":{\"outlinewidth\":0,\"ticks\":\"\"}},\"marker\":{\"colorbar\":{\"outlinewidth\":0,\"ticks\":\"\"}}}],\"scattermapbox\":[{\"type\":\"scattermapbox\",\"marker\":{\"colorbar\":{\"outlinewidth\":0,\"ticks\":\"\"}}}],\"scatterternary\":[{\"type\":\"scatterternary\",\"marker\":{\"colorbar\":{\"outlinewidth\":0,\"ticks\":\"\"}}}],\"scattercarpet\":[{\"type\":\"scattercarpet\",\"marker\":{\"colorbar\":{\"outlinewidth\":0,\"ticks\":\"\"}}}],\"carpet\":[{\"aaxis\":{\"endlinecolor\":\"#2a3f5f\",\"gridcolor\":\"white\",\"linecolor\":\"white\",\"minorgridcolor\":\"white\",\"startlinecolor\":\"#2a3f5f\"},\"baxis\":{\"endlinecolor\":\"#2a3f5f\",\"gridcolor\":\"white\",\"linecolor\":\"white\",\"minorgridcolor\":\"white\",\"startlinecolor\":\"#2a3f5f\"},\"type\":\"carpet\"}],\"table\":[{\"cells\":{\"fill\":{\"color\":\"#EBF0F8\"},\"line\":{\"color\":\"white\"}},\"header\":{\"fill\":{\"color\":\"#C8D4E3\"},\"line\":{\"color\":\"white\"}},\"type\":\"table\"}],\"barpolar\":[{\"marker\":{\"line\":{\"color\":\"#E5ECF6\",\"width\":0.5},\"pattern\":{\"fillmode\":\"overlay\",\"size\":10,\"solidity\":0.2}},\"type\":\"barpolar\"}],\"pie\":[{\"automargin\":true,\"type\":\"pie\"}]},\"layout\":{\"autotypenumbers\":\"strict\",\"colorway\":[\"#636efa\",\"#EF553B\",\"#00cc96\",\"#ab63fa\",\"#FFA15A\",\"#19d3f3\",\"#FF6692\",\"#B6E880\",\"#FF97FF\",\"#FECB52\"],\"font\":{\"color\":\"#2a3f5f\"},\"hovermode\":\"closest\",\"hoverlabel\":{\"align\":\"left\"},\"paper_bgcolor\":\"white\",\"plot_bgcolor\":\"#E5ECF6\",\"polar\":{\"bgcolor\":\"#E5ECF6\",\"angularaxis\":{\"gridcolor\":\"white\",\"linecolor\":\"white\",\"ticks\":\"\"},\"radialaxis\":{\"gridcolor\":\"white\",\"linecolor\":\"white\",\"ticks\":\"\"}},\"ternary\":{\"bgcolor\":\"#E5ECF6\",\"aaxis\":{\"gridcolor\":\"white\",\"linecolor\":\"white\",\"ticks\":\"\"},\"baxis\":{\"gridcolor\":\"white\",\"linecolor\":\"white\",\"ticks\":\"\"},\"caxis\":{\"gridcolor\":\"white\",\"linecolor\":\"white\",\"ticks\":\"\"}},\"coloraxis\":{\"colorbar\":{\"outlinewidth\":0,\"ticks\":\"\"}},\"colorscale\":{\"sequential\":[[0.0,\"#0d0887\"],[0.1111111111111111,\"#46039f\"],[0.2222222222222222,\"#7201a8\"],[0.3333333333333333,\"#9c179e\"],[0.4444444444444444,\"#bd3786\"],[0.5555555555555556,\"#d8576b\"],[0.6666666666666666,\"#ed7953\"],[0.7777777777777778,\"#fb9f3a\"],[0.8888888888888888,\"#fdca26\"],[1.0,\"#f0f921\"]],\"sequentialminus\":[[0.0,\"#0d0887\"],[0.1111111111111111,\"#46039f\"],[0.2222222222222222,\"#7201a8\"],[0.3333333333333333,\"#9c179e\"],[0.4444444444444444,\"#bd3786\"],[0.5555555555555556,\"#d8576b\"],[0.6666666666666666,\"#ed7953\"],[0.7777777777777778,\"#fb9f3a\"],[0.8888888888888888,\"#fdca26\"],[1.0,\"#f0f921\"]],\"diverging\":[[0,\"#8e0152\"],[0.1,\"#c51b7d\"],[0.2,\"#de77ae\"],[0.3,\"#f1b6da\"],[0.4,\"#fde0ef\"],[0.5,\"#f7f7f7\"],[0.6,\"#e6f5d0\"],[0.7,\"#b8e186\"],[0.8,\"#7fbc41\"],[0.9,\"#4d9221\"],[1,\"#276419\"]]},\"xaxis\":{\"gridcolor\":\"white\",\"linecolor\":\"white\",\"ticks\":\"\",\"title\":{\"standoff\":15},\"zerolinecolor\":\"white\",\"automargin\":true,\"zerolinewidth\":2},\"yaxis\":{\"gridcolor\":\"white\",\"linecolor\":\"white\",\"ticks\":\"\",\"title\":{\"standoff\":15},\"zerolinecolor\":\"white\",\"automargin\":true,\"zerolinewidth\":2},\"scene\":{\"xaxis\":{\"backgroundcolor\":\"#E5ECF6\",\"gridcolor\":\"white\",\"linecolor\":\"white\",\"showbackground\":true,\"ticks\":\"\",\"zerolinecolor\":\"white\",\"gridwidth\":2},\"yaxis\":{\"backgroundcolor\":\"#E5ECF6\",\"gridcolor\":\"white\",\"linecolor\":\"white\",\"showbackground\":true,\"ticks\":\"\",\"zerolinecolor\":\"white\",\"gridwidth\":2},\"zaxis\":{\"backgroundcolor\":\"#E5ECF6\",\"gridcolor\":\"white\",\"linecolor\":\"white\",\"showbackground\":true,\"ticks\":\"\",\"zerolinecolor\":\"white\",\"gridwidth\":2}},\"shapedefaults\":{\"line\":{\"color\":\"#2a3f5f\"}},\"annotationdefaults\":{\"arrowcolor\":\"#2a3f5f\",\"arrowhead\":0,\"arrowwidth\":1},\"geo\":{\"bgcolor\":\"white\",\"landcolor\":\"#E5ECF6\",\"subunitcolor\":\"white\",\"showland\":true,\"showlakes\":true,\"lakecolor\":\"white\"},\"title\":{\"x\":0.05},\"mapbox\":{\"style\":\"light\"}}},\"geo\":{\"domain\":{\"x\":[0.0,1.0],\"y\":[0.0,1.0]},\"center\":{}},\"legend\":{\"tracegroupgap\":0},\"margin\":{\"t\":60}},                        {\"responsive\": true}                    ).then(function(){\n",
              "                            \n",
              "var gd = document.getElementById('04057011-bc73-44d0-9265-acfd8db3e989');\n",
              "var x = new MutationObserver(function (mutations, observer) {{\n",
              "        var display = window.getComputedStyle(gd).display;\n",
              "        if (!display || display === 'none') {{\n",
              "            console.log([gd, 'removed!']);\n",
              "            Plotly.purge(gd);\n",
              "            observer.disconnect();\n",
              "        }}\n",
              "}});\n",
              "\n",
              "// Listen for the removal of the full notebook cells\n",
              "var notebookContainer = gd.closest('#notebook-container');\n",
              "if (notebookContainer) {{\n",
              "    x.observe(notebookContainer, {childList: true});\n",
              "}}\n",
              "\n",
              "// Listen for the clearing of the current output cell\n",
              "var outputEl = gd.closest('.output');\n",
              "if (outputEl) {{\n",
              "    x.observe(outputEl, {childList: true});\n",
              "}}\n",
              "\n",
              "                        })                };                            </script>        </div>\n",
              "</body>\n",
              "</html>"
            ]
          },
          "metadata": {},
          "output_type": "display_data"
        }
      ],
      "source": [
        "fig = px.scatter_geo(cities, lat=latitudes, lon=longitudes)\n",
        "\n",
        "fig.show()"
      ]
    },
    {
      "cell_type": "code",
      "execution_count": null,
      "metadata": {
        "colab": {
          "base_uri": "https://localhost:8080/",
          "height": 542
        },
        "id": "KVAftKQksRiI",
        "outputId": "90e9c67a-7208-40a7-bf6d-8304457e7f1f"
      },
      "outputs": [
        {
          "data": {
            "text/html": [
              "<html>\n",
              "<head><meta charset=\"utf-8\" /></head>\n",
              "<body>\n",
              "    <div>            <script src=\"https://cdnjs.cloudflare.com/ajax/libs/mathjax/2.7.5/MathJax.js?config=TeX-AMS-MML_SVG\"></script><script type=\"text/javascript\">if (window.MathJax && window.MathJax.Hub && window.MathJax.Hub.Config) {window.MathJax.Hub.Config({SVG: {font: \"STIX-Web\"}});}</script>                <script type=\"text/javascript\">window.PlotlyConfig = {MathJaxConfig: 'local'};</script>\n",
              "        <script charset=\"utf-8\" src=\"https://cdn.plot.ly/plotly-2.24.1.min.js\"></script>                <div id=\"fd54d3a3-3e73-49e1-87be-e32484a94d64\" class=\"plotly-graph-div\" style=\"height:525px; width:100%;\"></div>            <script type=\"text/javascript\">                                    window.PLOTLYENV=window.PLOTLYENV || {};                                    if (document.getElementById(\"fd54d3a3-3e73-49e1-87be-e32484a94d64\")) {                    Plotly.newPlot(                        \"fd54d3a3-3e73-49e1-87be-e32484a94d64\",                        [{\"geo\":\"geo\",\"hovertemplate\":\"count=%{marker.size}\\u003cbr\\u003ecity=%{location}\\u003cextra\\u003e\\u003c\\u002fextra\\u003e\",\"legendgroup\":\"\",\"locationmode\":\"country names\",\"locations\":[\"New York, New York\",\"Beijing, China\",\"Hong Kong, Hong Kong\",\"Shanghai, China\",\"London, United Kingdom\",\"Moscow, Russia\",\"Mumbai, India\",\"Shenzhen, China\",\"Singapore, Singapore\",\"Delhi, India\",\"San Francisco, California\",\"Hangzhou, China\",\"Los Angeles, California\",\"Taipei, Taiwan\",\"Bangkok, Thailand\",\"Guangzhou, China\",\"Seoul, South Korea\",\"Tokyo, Japan\",\"Milan, Italy\",\"Istanbul, Turkey\",\"Stockholm, Sweden\",\"Palm Beach, Florida\",\"Paris, France\",\"Ningbo, China\",\"Dallas, Texas\",\"Jakarta, Indonesia\",\"Bangalore, India\",\"Sao Paulo, Brazil\",\"Atlanta, Georgia\",\"Tel Aviv, Israel\",\"Chengdu, China\",\"Melbourne, Australia\",\"Palo Alto, California\",\"Sydney, Australia\",\"Changsha, China\",\"Chicago, Illinois\",\"Manila, Philippines\",\"Madrid, Spain\",\"Dubai, United Arab Emirates\",\"Houston, Texas\",\"Munich, Germany\",\"Austin, Texas\",\"Montreal, Canada\",\"Geneva, Switzerland\",\"Xiamen, China\",\"Mexico City, Mexico\",\"Las Vegas, Nevada\",\"Toronto, Canada\",\"Atherton, California\",\"Rio de Janeiro, Brazil\",\"Miami, Florida\",\"Beverly Hills, California\",\"Hamburg, Germany\",\"Boston, Massachusetts\",\"Zurich, Switzerland\",\"Monaco, Monaco\",\"Greenwich, Connecticut\",\"Ningde, China\",\"Hyderabad, India\",\"Suzhou, China\",\"Miami Beach, Florida\",\"Fort Worth, Texas\",\"Foshan, China\",\"Chennai, India\",\"Ahmedabad, India\",\"Melsungen, Germany\",\"Nanjing, China\",\"Berlin, Germany\",\"Hefei, China\",\"Naples, Florida\",\"Prague, Czech Republic\",\"Pune, India\",\"Quanzhou, China\",\"Santiago, Chile\",\"Lianyungang, China\",\"Helsinki, Finland\",\"Changzhou, China\",\"Seattle, Washington\",\"Kuala Lumpur, Malaysia\",\"Monte Carlo, Monaco\",\"Zug, Switzerland\",\"Wuxi, China\",\"St. Louis, Missouri\",\"Oslo, Norway\",\"Almaty, Kazakhstan\",\"Lugano, Switzerland\",\"Dongguan, China\",\"Vancouver, Canada\",\"Gstaad, Switzerland\",\"Amsterdam, Netherlands\",\"Delray Beach, Florida\",\"Los Altos, California\",\"Vienna, Austria\",\"Denver, Colorado\",\"Phoenix, Arizona\",\"Wuhan, China\",\"Rome, Italy\",\"Perth, Australia\",\"Tampa, Florida\",\"S\\u00e3o Paulo, Brazil\",\"Medina, Washington\",\"Newport Beach, California\",\"San Antonio, Texas\",\"Cairo, Egypt\",\"Billund, Denmark\",\"Paradise Valley, Arizona\",\"Woodside, California\",\"Surabaya, Indonesia\",\"Shangyu, China\",\"Los Altos Hills, California\",\"Kiev, Ukraine\",\"Jiaxing, China\",\"Buenos Aires, Argentina\",\"Kazan, Russia\",\"Jackson, Wyoming\",\"Brisbane, Australia\",\"Fuzhou, China\",\"Wenzhou, China\",\"Kolkata, India\",\"Berkeley, California\",\"Provo, Utah\",\"Ho Chi Minh City, Vietnam\",\"Hobe Sound, Florida\",\"Ankara, Turkey\",\"Zhengzhou, China\",\"Irvine, California\",\"Cary, North Carolina\",\"Laguna Beach, California\",\"Valencia, Spain\",\"Grand Rapids, Michigan\",\"Rondonopolis, Brazil\",\"Tianjin, China\",\"Boca Raton, Florida\",\"Franklin, Tennessee\",\"Dublin, Ireland\",\"Shantou, China\",\"Lyon, France\",\"Racine, Wisconsin\",\"Saint Petersburg, Russia\",\"Langfang, China\",\"Bielefeld, Germany\",\"Switzerland\",\"Treviso, Italy\",\"Ottawa, Canada\",\"McLean, Virginia\",\"Reno, Nevada\",\"Yantai, China\",\"Hanoi, Vietnam\",\"Lucerne, Switzerland\",\"Shaoxing, China\",\"Basel, Switzerland\",\"Laval, France\",\"Osaka, Japan\",\"Nantong, China\",\"Cleveland, Ohio\",\"Lagos, Nigeria\",\"Marseille, France\",\"Heidelberg, Germany\",\"Brookline, Massachusetts\",\"Chongqing, China\",\"Nashville, Tennessee\",\"Oklahoma City, Oklahoma\",\"Milton, Massachusetts\",\"Zhongshan, China\",\"Aspen, Colorado\",\"Herzogenaurach, Germany\",\"Midland, Texas\",\"Beirut, Lebanon\",\"Newton, Massachusetts\",\"Taiwan\",\"Malaysia\",\"Fisher Island, Florida\",\"Tongxiang, China\",\"United Kingdom\",\"Wilson, Wyoming\",\"Yokohama City, Japan\",\"Charleston, South Carolina\",\"Abu Dhabi, United Arab Emirates\",\"Saint Petersburg, Florida\",\"Nagpur, India\",\"Monaco\",\"Bloomfield Hills, Michigan\",\"Germany\",\"Casablanca, Morocco\",\"Potomac, Maryland\",\"Lake Forest, Illinois\",\"Knoxville, Tennessee\",\"Henderson, Nevada\",\"Jiaozuo, China\",\"Hillsborough, California\",\"Doha, Qatar\",\"Lima, Peru\",\"Athens, Greece\",\"Coral Gables, Florida\",\"Gold Coast, Australia\",\"Tonghua, China\",\"Tainan, Taiwan\",\"Taichung, Taiwan\",\"Fayetteville, Arkansas\",\"Nantes, France\",\"Yinchuan, China\",\"Urumqi, China\",\"Barcelona, Spain\",\"Tegernsee, Germany\",\"Bergamo, Italy\",\"San Diego, California\",\"Bryn Mawr, Pennsylvania\",\"Weifang, China\",\"Electra, Texas\",\"Herzliya, Israel\",\"Kudus, Indonesia\",\"Battenberg, Germany\",\"Cape Town, South Africa\",\"Yuxi, China\",\"Tulsa, Oklahoma\",\"Oyster Bay, New York\",\"Kobe, Japan\",\"Kunming, China\",\"Bal Harbour, Florida\",\"Suqian, China\",\"Ulm, Germany\",\"Dusseldorf, Germany\",\"Bratislava, Slovakia\",\"Bentonville, Arkansas\",\"Israel\",\"Wujiang, China\",\"Pleasanton, California\",\"Menlo Park, California\",\"Portola Valley, California\",\"Stoke-on-Trent, United Kingdom\",\"Fort Lauderdale, Florida\",\"Mexico\",\"La Coruna, Spain\",\"Xi'an, China\",\"Hunts Point, Washington\",\"Omaha, Nebraska\",\"Chevy Chase, Maryland\",\"Hsinchu, Taiwan\",\"Malibu, California\",\"Gladwyne, Pennsylvania\",\"Qingdao, China\",\"Johannesburg, South Africa\",\"Hattiesburg, Mississippi\",\"Windsor, Canada\",\"Nanyang, China\",\"Weihai, China\",\"Bacau, Romania\",\"Taoyuan, Taiwan\",\"Winnetka, Illinois\",\"Wilen bei Wollerau, Switzerland\",\"Clearwater, Florida\",\"Grand Cayman, Cayman Islands\",\"Missoula, Montana\",\"Highland Park, Illinois\",\"Bethesda, Maryland\",\"Darien, Connecticut\",\"Gloucestershire, United Kingdom\",\"Linhai, China\",\"Marburg, Germany\",\"Chestnut Hill, Massachusetts\",\"Cisco, Texas\",\"Limassol, Cyprus\",\"Philadelphia, Pennsylvania\",\"Bermuda\",\"Westmount, Canada\",\"Saint John, Canada\",\"Jinjiang, China\",\"North Palm Beach, Florida\",\"Rheda-Wiedenbr\\u00fcck, Germany\",\"Chiba, Japan\",\"Sao Luis, Brazil\",\"Yongzhou, China\",\"Gaildorf, Germany\",\"Manantiales, Uruguay\",\"Rostov-on-Don, Russia\",\"Allendorf, Germany\",\"Panzhihua, China\",\"Annapolis, Maryland\",\"Japan\",\"Kathmandu, Nepal\",\"Changchun, China\",\"Turin, Italy\",\"Porto Alegre, Brazil\",\"La Jolla, California\",\"Daytona Beach, Florida\",\"Tawau, Sabah, Malaysia\",\"Cremona, Italy\",\"Indonesia\",\"Blaricum, Netherlands\",\"Stanford, California\",\"Lanzhou, China\",\"Key Largo, Florida\",\"Cupertino, California\",\"Bayannur, China\",\"Princeton, New Jersey\",\"Gorinchem, Netherlands\",\"Peyia, Cyprus\",\"Yixing, China\",\"Old Lyme, Connecticut\",\"Kochi, India\",\"San Carlos, California\",\"Nakano, Tokyo, Japan\",\"Sewickley, Pennsylvania\",\"Florida\",\"Yunfu, China\",\"Kingscourt, Ireland\",\"Gurgaon, India\",\"Paphos, Cyprus\",\"Easton, Pennsylvania\",\"Durham, North Carolina\",\"Huzhou, China\",\"El Paso, Texas\",\"Surfers Paradise, Australia\",\"Taicang, China\",\"Montabaur, Germany\",\"Grants Pass, Oregon\",\"East Lyme, Connecticut\",\"Aventura, Florida\",\"Pottsville, Pennsylvania\",\"Canada\",\"El Cerrito, California\",\"Edmond, Oklahoma\",\"Liuan, China\",\"San Juan Islands, Washington\",\"Gaomi, China\",\"Grebenhain, Germany\",\"Weinheim, Germany\",\"Nanping, China\",\"Ormond Beach, Florida\",\"Paradise Island, Bahamas\",\"Arcadia, California\",\"Krefeld, Germany\",\"Reggio Emilia, Italy\",\"Irkutsk, Russia\",\"Fukuoka, Japan\",\"Copenhagen, Denmark\",\"Alpine, New Jersey\",\"St. Brelade, Jersey, United Kingdom\",\"Monsey, New York\",\"Indian Hills, Colorado\",\"Santa Monica, California\",\"Jinhua, China\",\"Wollerau, Switzerland\",\"Beit Yanay, Israel\",\"Landshut, Germany\",\"Zhuhai, China\",\"North Salem, New York\",\"Chaozhou, China\",\"Norwich, New York\",\"Ypsilanti, Michigan\",\"Bucharest, Romania\",\"Darmstadt, Germany\",\"Warsaw, Poland\",\"Sioux Falls, South Dakota\",\"Park City, Utah\",\"Stellenbosch, South Africa\",\"Landsberg am Lech, Germany\",\"Linyi, China\",\"Landsberg, Germany\",\"Jupiter, Florida\",\"Rhinebeck, New York\",\"Turks and Caicos Islands, Turks and Caicos Islands\",\"Yunlin, Taiwan\",\"Cesena, Italy\",\"Aberdeen, United Kingdom\",\"Cuiaba, Brazil\",\"St. Wendel, Germany\",\"Quzhou, China\",\"Potsdam, Germany\",\"Surat, India\",\"Cardiff, United Kingdom\",\"Sant'' Elpidio A Mare, Italy\",\"Nyack, New York\",\"Palma de Majorca, Spain\",\"Jaipur, India\",\"Jinan, China\",\"Wuhu, China\",\"Chelyabinsk, Russia\",\"Virginia\",\"Nevada\",\"Ruzhou, China\",\"Meishan, China\",\"Laizhou, China\",\"Cieszyn, Poland\",\"Rottendorf, Germany\",\"Tervuren, Belgium\",\"Fuxin, China\",\"Dezhou, China\",\"Aurangabad, India\",\"Locust Valley, New York\",\"Segrate, Italy\",\"Monkton, Maryland\",\"Mevaseret Zion, Israel\",\"Baroda, India\",\"Rechterfeld, Germany\",\"Matadepera, Spain\",\"Shunde, China\",\"Hungary\",\"Birmingham, United Kingdom\",\"Lipperswil, Switzerland\",\"Zhangzhou, China\",\"Urumchi, China\",\"Jacksonville, Florida\",\"Bnei Atarot, Israel\",\"Chang Hwa County, Taiwan\",\"Erevan, Armenia\",\"Huaibei city, China\",\"Baarn, Netherlands\",\"Tombolo, Italy\",\"Deinze, Belgium\",\"Mount Kisco, New York\",\"Abbeville, Alabama\",\"Cleveland, Tennessee\",\"Murmansk, Russia\",\"Lower Merion, Pennsylvania\",\"Minnetonka, Minnesota\",\"Felcs\\u00fat, Hungary\",\"Englewood, Colorado\",\"Orono, Minnesota\",\"Rochester, New York\",\"Plymouth, Minnesota\",\"Boulder, Colorado\",\"South Korea\",\"Dnipro, Ukraine\",\"Iphofen, Germany\",\"Hidden Hills, California\",\"Bnei Brak, Israel\",\"Lens, Switzerland\",\"Belvedere, California\",\"Hengshui, China\",\"Paoli, Pennsylvania\",\"Zhuzhou, China\",\"Detmold, Germany\",\"Dar es Salaam, Tanzania\",\"Budapest, Hungary\",\"Campodoro, Italy\",\"London, Suffolk, United Kingdom\",\"Selangor, Malaysia\",\"Herzliya Pituach, Israel\",\"Starnberg, Germany\",\"Liaocheng, China\",\"Yorktown Heights, New York\",\"Xianyang, China\",\"Luohe, China\",\"Logan, Utah\",\"Cincinnati, Ohio\",\"Karlstad, Sweden\",\"Kaohsiung, Taiwan\",\"Joinville, Brazil\",\"Leping, China\",\"Wels, Austria\",\"Yangzhou, China\",\"Nottinghamshire, United Kingdom\",\"Wien, Austria\",\"Manalapan, Florida\",\"St. Paul, Minnesota\",\"Montagnola, Switzerland\",\"Boucherville, Canada\",\"Jiujiang, China\",\"Straelen, Germany\",\"Kitzbuhel, Austria\",\"error\",\"Lexington, Massachusetts\",\"Liberty, New York\",\"Pujols, France\",\"Gallatin, Tennessee\",\"Leshan, China\",\"Saitama, Japan\",\"Chattanooga, Tennessee\",\"Santo Andre, Brazil\",\"Audubon, Pennsylvania\",\"Kemerovo, Russia\",\"Vadodara, India\",\"Wotton-under-Edge, United Kingdom\",\"Lutherville-Timonium, Maryland\",\"Helsingborg, Sweden\",\"Chifeng, China\",\"Burlington, Canada\",\"Xuancheng, China\",\"Kearney, Nebraska\",\"Ludhiana, India\",\"Surgut, Russia\",\"Aberdyfi, United Kingdom\",\"Andorra\",\"Sagaponack, New York\",\"Canberra, Australia\",\"Kfar Shmaryahu, Israel\",\"Windermere, Florida\",\"Bedford, New York\",\"Tolleson, Arizona\",\"Manama, Bahrain\",\"Crocetta del Montello, Italy\",\"Spilamberto, Italy\",\"Kunshan, China\",\"Schwieberdingen, Germany\",\"Wellington, New Zealand\",\"Vaduz, Liechtenstein\",\"Fort Collins, Colorado\",\"Zhaoyuan, China\",\"Oak Brook, Illinois\",\"Southampton, New York\",\"Passau, Germany\",\"Visbek, Germany\",\"Changshu, China\",\"Islamorada, Florida\",\"Isle of Man, United Kingdom\",\"Vettre, Norway\",\"Ezulwini, Eswatini (Swaziland)\",\"Youngstown, Ohio\",\"Lille, France\",\"San Anselmo, California\",\"Mainz, Germany\",\"Tbilisi, Georgia\",\"Binningen, Switzerland\",\"Venice, Italy\",\"East Hampton, New York\",\"Modena, Italy\",\"Redding, California\",\"Palisades, New York\",\"Branford, Connecticut\",\"Sands Point, New York\",\"Greece\",\"Jona, Switzerland\",\"Donetsk, Ukraine\",\"Humlebaek, Denmark\",\"New Albany, Ohio\",\"Albany, Bahamas\",\"Austria\",\"Kielce, Poland\",\"Bogota, Colombia\",\"Gothenberg, Sweden\",\"Hertfordshire, United Kingdom\",\"Krotoszyn,, Poland\",\"Koenigstein, Germany\",\"Bingham Farms, Michigan\",\"Coatesville, Pennsylvania\",\"East Aurora, New York\",\"Putian, China\",\"Kirkkonummi, Finland\",\"Plantation, Florida\",\"Glendora, California\",\"Glencoe, Illinois\",\"Leawood, Kansas\",\"Burlingame, California\",\"Erie, Pennsylvania\",\"Latvia\",\"Rancho Santa Fe, California\",\"Verkhniaya Pyshma, Russia\",\"Edmonton, Canada\",\"A Coru\\u00f1a, Spain\",\"Virginia Beach, Virginia\",\"Zermatt, Switzerland\",\"Wynnewood, Pennsylvania\",\"Liestal, Switzerland\",\"Cockeysville, Maryland\",\"Trondheim, Norway\",\"Walldorf, Germany\",\"Memphis, Tennessee\",\"Algiers, Algeria\",\"Fushun, China\",\"Longkou, China\",\"Croton-on-Hudson, New York\",\"Sao paulo, Brazil\",\"New Orleans, Louisiana\",\"Grijo, Portugal\",\"Crans Montana, Switzerland\",\"Newport Coast, California\",\"Saratoga, California\",\"Tashkent, Uzbekistan\",\"Hisar, India\",\"Eau Claire, Wisconsin\",\"Crans-Montana, Switzerland\",\"Mulheim an der Ruhr, Germany\",\"San Jose, California\",\"Baoding, China\",\"Afton, Wisconsin\",\"Hampton, Georgia\",\"Frauenfeld, Switzerland\",\"Bloomington, Indiana\",\"Incline Village, Nevada\",\"Magnitogorsk, Russia\",\"Martigny, Switzerland\",\"Haiger, Germany\",\"Indian Creek, Florida\",\"Franklin, Michigan\",\"Frankfurt, Germany\",\"Ras Al Khaimah, United Arab Emirates\",\"Bad Homburg, Germany\",\"East Setauket, New York\",\"Haverford, Pennsylvania\",\"Kuenzelsau, Germany\",\"Salzburg, Austria\",\"Hong Kong\",\"The Plains, Virginia\",\"Brussels, Belgium\",\"Schindellegi, Switzerland\",\"Neckarsulm, Germany\",\"Hillsboro, Oregon\",\"Wichita, Kansas\",\"Lanai, Hawaii\",\"Keene, New Hampshire\",\"Xingtai, China\",\"Alexandria, Virginia\",\"Aarhus, Denmark\",\"Rolling Hills, California\",\"Katonah, New York\",\"Feldmeilen, Switzerland\",\"Fiesole, Italy\",\"Scarsdale, New York\",\"Millburn, New Jersey\",\"Portage, Michigan\",\"Lighthouse Point, Florida\",\"Huizhou, China\",\"Port Washington, New York\",\"Redlands, California\",\"Lausanne, Switzerland\",\"Lexington, Kentucky\",\"Madison, Wisconsin\",\"Adel, Iowa\",\"Elizabeth, Colorado\",\"Santa Barbara, California\",\"Saddle River, New Jersey\",\"Verbier, Switzerland\",\"Thurgau, Switzerland\",\"Springfield, Missouri\",\"Binzhou, China\",\"New South Wales, Australia\",\"St. Gallen, Switzerland\",\"Auckland, New Zealand\",\"Honolulu, Hawaii\",\"Moscow region, Russia\",\"Newmarket, United Kingdom\",\"Surrey, United Kingdom\",\"Ruschlikon, Switzerland\",\"Weiningen, Switzerland\",\"Petaling Jaya, Malaysia\",\"Salt Lake City, Utah\",\"Belle Vernon, Pennsylvania\",\"Phnom Penh, Cambodia\",\"San Marcos, Texas\",\"Temple, Texas\",\"Yingkou, China\",\"Muscat, Oman\",\"Esporles, Spain\",\"St. Petersburg, Russia\",\"Pacific Palisades, California\",\"Gr\\u00e4felfing, Germany\",\"Gothenburg, Sweden\",\"Mankato, Minnesota\",\"Pittsburgh, Pennsylvania\",\"Nur-Sultan, Kazakhstan\",\"Kverva, Norway\",\"Xinxiang, China\",\"Cochin, India\",\"Jiangyin, China\",\"Leipzig, Germany\",\"Ohningen, Germany\",\"Luzerne, Switzerland\",\"Sarasota, Florida\",\"Greensboro, North Carolina\",\"Taixing, China\",\"G\\u00f6teborg, Sweden\",\"Grimisuat, Switzerland\",\"Brunswick, Germany\",\"Tempe, Arizona\",\"Zhuji, China\",\"St. John, U.S. Virgin Islands\",\"Luancheng, China\",\"The Woodlands, Texas\",\"Danyang, China\",\"Rheinfelden, Switzerland\",\"Lake Worth, Florida\",\"Montecito, California\",\"Hurden, Switzerland\",\"Manaus, Brazil\",\"Ventura, California\",\"Brookville, Ohio\",\"St. Peter Port, Guernsey\",\"Portland, Oregon\",\"Marin County, California\",\"foshan, China\",\"Taizhou, China\",\"Bristol, United Kingdom\",\"North York, Canada\",\"Espelkamp, Germany\",\"Singapore\",\"Shenyang, China\",\"Neustadt an der Waldnaab, Germany\",\"Vorden, Netherlands\",\"Zhangjiagang, China\",\"Marbella, Spain\",\"Venice, California\",\"Burgdorf, Switzerland\",\"Yanzhou, China\",\"Graz, Austria\",\"Curitiba, Brazil\",\"Paralimni, Cyprus\",\"Weston, Massachusetts\",\"Scarborough, Maine\",\"Springdale, Arkansas\",\"Tarrytown, New York\",\"Nicasio, California\",\"Duderstadt, Germany\",\"Jeju-do, South Korea\",\"Idaho Falls, Idaho\",\"Bassano del Grappa, Italy\",\"Anzere, Switzerland\",\"Yekaterinburg, Russia\",\"Eindhoven, Netherlands\",\"Northeim, Germany\",\"Como, Italy\",\"Lower-Saxony, Germany\",\"Davos, Switzerland\",\"Xian, China\",\"Luxembourg, Luxembourg\",\"Muttontown, New York\",\"Vienna, Virginia\",\"Cernusco Lombardone, Italy\",\"Springfield, Illinois\",\"New York City, New York\",\"Short Hills, New Jersey\",\"Florence, Italy\",\"Necker Island, British Virgin Islands\",\"Netanya, Israel\",\"Kyoto, Japan\",\"Merseyside, United Kingdom\",\"Coconut Grove, Florida\",\"Westlake, Texas\",\"Shijiazhuang, China\",\"Steamboat Springs, Colorado\",\"Bozeman, Montana\",\"Carmel, Indiana\",\"George Town, Cayman Islands\",\"Birchwood, Wisconsin\",\"Livingston, Montana\",\"Bruchsal, Germany\",\"Konstancin, Poland\",\"Haridwar, India\",\"Scottsdale, Arizona\",\"Providence, Rhode Island\",\"Brusque, Brazil\",\"Kanton Schwyz, Switzerland\",\"Sao Jose dos Pinhais, Brazil\",\"Santa Cruz, California\",\"Newbury Park, California\",\"Wilen, Switzerland\",\"Stoke-On-Trent, United Kingdom\",\"Fuqing, China\",\"Daye, China\",\"Wiesloch, Germany\",\"Little Rock, Arkansas\",\"Bologna, Italy\",\"Bremen, Germany\",\"Birmingham, Michigan\",\"Xinyu, China\",\"Krasnodar, Russia\",\"Little Jackson Hole, Wyoming\",\"torino, Italy\",\"Solomeo, Italy\",\"Ponzano Veneto, Italy\",\"St. Petersburg, Florida\",\"Larchmont, New York\",\"Hokkaido, Japan\",\"Sag Harbor, New York\",\"Oakville, Canada\",\"K\\u00fcsnacht, Switzerland\",\"Brownsville, Texas\",\"Montpellier, France\",\"Santa Clara, California\",\"Stuttgart, Germany\",\"Indianapolis, Indiana\",\"Makati, Philippines\"],\"marker\":{\"color\":\"#636efa\",\"size\":[98,68,67,63,60,60,55,54,45,37,36,34,33,30,28,28,27,24,23,22,21,21,21,20,20,18,17,17,16,15,15,15,14,14,14,13,13,13,13,13,12,12,11,11,11,11,11,11,10,10,10,10,10,10,9,9,9,9,8,8,8,8,8,8,8,8,7,7,7,7,7,7,7,6,6,6,6,6,6,6,6,6,6,6,6,6,5,5,5,5,5,5,5,5,5,5,5,5,4,4,4,4,4,4,4,4,4,4,4,4,4,4,4,4,4,4,4,4,3,3,3,3,3,3,3,3,3,3,3,3,3,3,3,3,3,3,3,3,3,3,3,3,3,3,3,3,3,3,3,3,3,3,3,3,3,3,3,3,3,3,3,3,2,2,2,2,2,2,2,2,2,2,2,2,2,2,2,2,2,2,2,2,2,2,2,2,2,2,2,2,2,2,2,2,2,2,2,2,2,2,2,2,2,2,2,2,2,2,2,2,2,2,2,2,2,2,2,2,2,2,2,2,2,2,2,2,2,2,2,2,2,2,2,2,2,2,2,2,2,2,2,2,2,2,2,2,2,2,2,2,2,2,2,2,2,2,2,2,2,2,2,2,2,2,2,2,2,2,2,1,1,1,1,1,1,1,1,1,1,1,1,1,1,1,1,1,1,1,1,1,1,1,1,1,1,1,1,1,1,1,1,1,1,1,1,1,1,1,1,1,1,1,1,1,1,1,1,1,1,1,1,1,1,1,1,1,1,1,1,1,1,1,1,1,1,1,1,1,1,1,1,1,1,1,1,1,1,1,1,1,1,1,1,1,1,1,1,1,1,1,1,1,1,1,1,1,1,1,1,1,1,1,1,1,1,1,1,1,1,1,1,1,1,1,1,1,1,1,1,1,1,1,1,1,1,1,1,1,1,1,1,1,1,1,1,1,1,1,1,1,1,1,1,1,1,1,1,1,1,1,1,1,1,1,1,1,1,1,1,1,1,1,1,1,1,1,1,1,1,1,1,1,1,1,1,1,1,1,1,1,1,1,1,1,1,1,1,1,1,1,1,1,1,1,1,1,1,1,1,1,1,1,1,1,1,1,1,1,1,1,1,1,1,1,1,1,1,1,1,1,1,1,1,1,1,1,1,1,1,1,1,1,1,1,1,1,1,1,1,1,1,1,1,1,1,1,1,1,1,1,1,1,1,1,1,1,1,1,1,1,1,1,1,1,1,1,1,1,1,1,1,1,1,1,1,1,1,1,1,1,1,1,1,1,1,1,1,1,1,1,1,1,1,1,1,1,1,1,1,1,1,1,1,1,1,1,1,1,1,1,1,1,1,1,1,1,1,1,1,1,1,1,1,1,1,1,1,1,1,1,1,1,1,1,1,1,1,1,1,1,1,1,1,1,1,1,1,1,1,1,1,1,1,1,1,1,1,1,1,1,1,1,1,1,1,1,1,1,1,1,1,1,1,1,1,1,1,1,1,1,1,1,1,1,1,1,1,1,1,1,1,1,1,1,1,1,1,1,1,1,1,1,1,1,1,1,1,1,1,1,1,1,1,1,1,1,1,1,1,1,1,1,1,1,1,1,1,1,1,1,1,1,1,1,1,1,1,1,1,1,1,1,1,1,1,1,1,1,1,1,1,1,1,1,1,1,1,1,1,1,1,1,1,1,1,1,1,1,1,1,1,1,1,1,1,1,1,1,1,1,1,1,1,1,1,1,1,1,1,1,1,1,1,1,1,1,1,1,1,1,1,1],\"sizemode\":\"area\",\"sizeref\":0.245,\"symbol\":\"circle\"},\"mode\":\"markers\",\"name\":\"\",\"showlegend\":false,\"type\":\"scattergeo\"}],                        {\"template\":{\"data\":{\"histogram2dcontour\":[{\"type\":\"histogram2dcontour\",\"colorbar\":{\"outlinewidth\":0,\"ticks\":\"\"},\"colorscale\":[[0.0,\"#0d0887\"],[0.1111111111111111,\"#46039f\"],[0.2222222222222222,\"#7201a8\"],[0.3333333333333333,\"#9c179e\"],[0.4444444444444444,\"#bd3786\"],[0.5555555555555556,\"#d8576b\"],[0.6666666666666666,\"#ed7953\"],[0.7777777777777778,\"#fb9f3a\"],[0.8888888888888888,\"#fdca26\"],[1.0,\"#f0f921\"]]}],\"choropleth\":[{\"type\":\"choropleth\",\"colorbar\":{\"outlinewidth\":0,\"ticks\":\"\"}}],\"histogram2d\":[{\"type\":\"histogram2d\",\"colorbar\":{\"outlinewidth\":0,\"ticks\":\"\"},\"colorscale\":[[0.0,\"#0d0887\"],[0.1111111111111111,\"#46039f\"],[0.2222222222222222,\"#7201a8\"],[0.3333333333333333,\"#9c179e\"],[0.4444444444444444,\"#bd3786\"],[0.5555555555555556,\"#d8576b\"],[0.6666666666666666,\"#ed7953\"],[0.7777777777777778,\"#fb9f3a\"],[0.8888888888888888,\"#fdca26\"],[1.0,\"#f0f921\"]]}],\"heatmap\":[{\"type\":\"heatmap\",\"colorbar\":{\"outlinewidth\":0,\"ticks\":\"\"},\"colorscale\":[[0.0,\"#0d0887\"],[0.1111111111111111,\"#46039f\"],[0.2222222222222222,\"#7201a8\"],[0.3333333333333333,\"#9c179e\"],[0.4444444444444444,\"#bd3786\"],[0.5555555555555556,\"#d8576b\"],[0.6666666666666666,\"#ed7953\"],[0.7777777777777778,\"#fb9f3a\"],[0.8888888888888888,\"#fdca26\"],[1.0,\"#f0f921\"]]}],\"heatmapgl\":[{\"type\":\"heatmapgl\",\"colorbar\":{\"outlinewidth\":0,\"ticks\":\"\"},\"colorscale\":[[0.0,\"#0d0887\"],[0.1111111111111111,\"#46039f\"],[0.2222222222222222,\"#7201a8\"],[0.3333333333333333,\"#9c179e\"],[0.4444444444444444,\"#bd3786\"],[0.5555555555555556,\"#d8576b\"],[0.6666666666666666,\"#ed7953\"],[0.7777777777777778,\"#fb9f3a\"],[0.8888888888888888,\"#fdca26\"],[1.0,\"#f0f921\"]]}],\"contourcarpet\":[{\"type\":\"contourcarpet\",\"colorbar\":{\"outlinewidth\":0,\"ticks\":\"\"}}],\"contour\":[{\"type\":\"contour\",\"colorbar\":{\"outlinewidth\":0,\"ticks\":\"\"},\"colorscale\":[[0.0,\"#0d0887\"],[0.1111111111111111,\"#46039f\"],[0.2222222222222222,\"#7201a8\"],[0.3333333333333333,\"#9c179e\"],[0.4444444444444444,\"#bd3786\"],[0.5555555555555556,\"#d8576b\"],[0.6666666666666666,\"#ed7953\"],[0.7777777777777778,\"#fb9f3a\"],[0.8888888888888888,\"#fdca26\"],[1.0,\"#f0f921\"]]}],\"surface\":[{\"type\":\"surface\",\"colorbar\":{\"outlinewidth\":0,\"ticks\":\"\"},\"colorscale\":[[0.0,\"#0d0887\"],[0.1111111111111111,\"#46039f\"],[0.2222222222222222,\"#7201a8\"],[0.3333333333333333,\"#9c179e\"],[0.4444444444444444,\"#bd3786\"],[0.5555555555555556,\"#d8576b\"],[0.6666666666666666,\"#ed7953\"],[0.7777777777777778,\"#fb9f3a\"],[0.8888888888888888,\"#fdca26\"],[1.0,\"#f0f921\"]]}],\"mesh3d\":[{\"type\":\"mesh3d\",\"colorbar\":{\"outlinewidth\":0,\"ticks\":\"\"}}],\"scatter\":[{\"fillpattern\":{\"fillmode\":\"overlay\",\"size\":10,\"solidity\":0.2},\"type\":\"scatter\"}],\"parcoords\":[{\"type\":\"parcoords\",\"line\":{\"colorbar\":{\"outlinewidth\":0,\"ticks\":\"\"}}}],\"scatterpolargl\":[{\"type\":\"scatterpolargl\",\"marker\":{\"colorbar\":{\"outlinewidth\":0,\"ticks\":\"\"}}}],\"bar\":[{\"error_x\":{\"color\":\"#2a3f5f\"},\"error_y\":{\"color\":\"#2a3f5f\"},\"marker\":{\"line\":{\"color\":\"#E5ECF6\",\"width\":0.5},\"pattern\":{\"fillmode\":\"overlay\",\"size\":10,\"solidity\":0.2}},\"type\":\"bar\"}],\"scattergeo\":[{\"type\":\"scattergeo\",\"marker\":{\"colorbar\":{\"outlinewidth\":0,\"ticks\":\"\"}}}],\"scatterpolar\":[{\"type\":\"scatterpolar\",\"marker\":{\"colorbar\":{\"outlinewidth\":0,\"ticks\":\"\"}}}],\"histogram\":[{\"marker\":{\"pattern\":{\"fillmode\":\"overlay\",\"size\":10,\"solidity\":0.2}},\"type\":\"histogram\"}],\"scattergl\":[{\"type\":\"scattergl\",\"marker\":{\"colorbar\":{\"outlinewidth\":0,\"ticks\":\"\"}}}],\"scatter3d\":[{\"type\":\"scatter3d\",\"line\":{\"colorbar\":{\"outlinewidth\":0,\"ticks\":\"\"}},\"marker\":{\"colorbar\":{\"outlinewidth\":0,\"ticks\":\"\"}}}],\"scattermapbox\":[{\"type\":\"scattermapbox\",\"marker\":{\"colorbar\":{\"outlinewidth\":0,\"ticks\":\"\"}}}],\"scatterternary\":[{\"type\":\"scatterternary\",\"marker\":{\"colorbar\":{\"outlinewidth\":0,\"ticks\":\"\"}}}],\"scattercarpet\":[{\"type\":\"scattercarpet\",\"marker\":{\"colorbar\":{\"outlinewidth\":0,\"ticks\":\"\"}}}],\"carpet\":[{\"aaxis\":{\"endlinecolor\":\"#2a3f5f\",\"gridcolor\":\"white\",\"linecolor\":\"white\",\"minorgridcolor\":\"white\",\"startlinecolor\":\"#2a3f5f\"},\"baxis\":{\"endlinecolor\":\"#2a3f5f\",\"gridcolor\":\"white\",\"linecolor\":\"white\",\"minorgridcolor\":\"white\",\"startlinecolor\":\"#2a3f5f\"},\"type\":\"carpet\"}],\"table\":[{\"cells\":{\"fill\":{\"color\":\"#EBF0F8\"},\"line\":{\"color\":\"white\"}},\"header\":{\"fill\":{\"color\":\"#C8D4E3\"},\"line\":{\"color\":\"white\"}},\"type\":\"table\"}],\"barpolar\":[{\"marker\":{\"line\":{\"color\":\"#E5ECF6\",\"width\":0.5},\"pattern\":{\"fillmode\":\"overlay\",\"size\":10,\"solidity\":0.2}},\"type\":\"barpolar\"}],\"pie\":[{\"automargin\":true,\"type\":\"pie\"}]},\"layout\":{\"autotypenumbers\":\"strict\",\"colorway\":[\"#636efa\",\"#EF553B\",\"#00cc96\",\"#ab63fa\",\"#FFA15A\",\"#19d3f3\",\"#FF6692\",\"#B6E880\",\"#FF97FF\",\"#FECB52\"],\"font\":{\"color\":\"#2a3f5f\"},\"hovermode\":\"closest\",\"hoverlabel\":{\"align\":\"left\"},\"paper_bgcolor\":\"white\",\"plot_bgcolor\":\"#E5ECF6\",\"polar\":{\"bgcolor\":\"#E5ECF6\",\"angularaxis\":{\"gridcolor\":\"white\",\"linecolor\":\"white\",\"ticks\":\"\"},\"radialaxis\":{\"gridcolor\":\"white\",\"linecolor\":\"white\",\"ticks\":\"\"}},\"ternary\":{\"bgcolor\":\"#E5ECF6\",\"aaxis\":{\"gridcolor\":\"white\",\"linecolor\":\"white\",\"ticks\":\"\"},\"baxis\":{\"gridcolor\":\"white\",\"linecolor\":\"white\",\"ticks\":\"\"},\"caxis\":{\"gridcolor\":\"white\",\"linecolor\":\"white\",\"ticks\":\"\"}},\"coloraxis\":{\"colorbar\":{\"outlinewidth\":0,\"ticks\":\"\"}},\"colorscale\":{\"sequential\":[[0.0,\"#0d0887\"],[0.1111111111111111,\"#46039f\"],[0.2222222222222222,\"#7201a8\"],[0.3333333333333333,\"#9c179e\"],[0.4444444444444444,\"#bd3786\"],[0.5555555555555556,\"#d8576b\"],[0.6666666666666666,\"#ed7953\"],[0.7777777777777778,\"#fb9f3a\"],[0.8888888888888888,\"#fdca26\"],[1.0,\"#f0f921\"]],\"sequentialminus\":[[0.0,\"#0d0887\"],[0.1111111111111111,\"#46039f\"],[0.2222222222222222,\"#7201a8\"],[0.3333333333333333,\"#9c179e\"],[0.4444444444444444,\"#bd3786\"],[0.5555555555555556,\"#d8576b\"],[0.6666666666666666,\"#ed7953\"],[0.7777777777777778,\"#fb9f3a\"],[0.8888888888888888,\"#fdca26\"],[1.0,\"#f0f921\"]],\"diverging\":[[0,\"#8e0152\"],[0.1,\"#c51b7d\"],[0.2,\"#de77ae\"],[0.3,\"#f1b6da\"],[0.4,\"#fde0ef\"],[0.5,\"#f7f7f7\"],[0.6,\"#e6f5d0\"],[0.7,\"#b8e186\"],[0.8,\"#7fbc41\"],[0.9,\"#4d9221\"],[1,\"#276419\"]]},\"xaxis\":{\"gridcolor\":\"white\",\"linecolor\":\"white\",\"ticks\":\"\",\"title\":{\"standoff\":15},\"zerolinecolor\":\"white\",\"automargin\":true,\"zerolinewidth\":2},\"yaxis\":{\"gridcolor\":\"white\",\"linecolor\":\"white\",\"ticks\":\"\",\"title\":{\"standoff\":15},\"zerolinecolor\":\"white\",\"automargin\":true,\"zerolinewidth\":2},\"scene\":{\"xaxis\":{\"backgroundcolor\":\"#E5ECF6\",\"gridcolor\":\"white\",\"linecolor\":\"white\",\"showbackground\":true,\"ticks\":\"\",\"zerolinecolor\":\"white\",\"gridwidth\":2},\"yaxis\":{\"backgroundcolor\":\"#E5ECF6\",\"gridcolor\":\"white\",\"linecolor\":\"white\",\"showbackground\":true,\"ticks\":\"\",\"zerolinecolor\":\"white\",\"gridwidth\":2},\"zaxis\":{\"backgroundcolor\":\"#E5ECF6\",\"gridcolor\":\"white\",\"linecolor\":\"white\",\"showbackground\":true,\"ticks\":\"\",\"zerolinecolor\":\"white\",\"gridwidth\":2}},\"shapedefaults\":{\"line\":{\"color\":\"#2a3f5f\"}},\"annotationdefaults\":{\"arrowcolor\":\"#2a3f5f\",\"arrowhead\":0,\"arrowwidth\":1},\"geo\":{\"bgcolor\":\"white\",\"landcolor\":\"#E5ECF6\",\"subunitcolor\":\"white\",\"showland\":true,\"showlakes\":true,\"lakecolor\":\"white\"},\"title\":{\"x\":0.05},\"mapbox\":{\"style\":\"light\"}}},\"geo\":{\"domain\":{\"x\":[0.0,1.0],\"y\":[0.0,1.0]},\"center\":{}},\"legend\":{\"tracegroupgap\":0,\"itemsizing\":\"constant\"},\"margin\":{\"t\":60}},                        {\"responsive\": true}                    ).then(function(){\n",
              "                            \n",
              "var gd = document.getElementById('fd54d3a3-3e73-49e1-87be-e32484a94d64');\n",
              "var x = new MutationObserver(function (mutations, observer) {{\n",
              "        var display = window.getComputedStyle(gd).display;\n",
              "        if (!display || display === 'none') {{\n",
              "            console.log([gd, 'removed!']);\n",
              "            Plotly.purge(gd);\n",
              "            observer.disconnect();\n",
              "        }}\n",
              "}});\n",
              "\n",
              "// Listen for the removal of the full notebook cells\n",
              "var notebookContainer = gd.closest('#notebook-container');\n",
              "if (notebookContainer) {{\n",
              "    x.observe(notebookContainer, {childList: true});\n",
              "}}\n",
              "\n",
              "// Listen for the clearing of the current output cell\n",
              "var outputEl = gd.closest('.output');\n",
              "if (outputEl) {{\n",
              "    x.observe(outputEl, {childList: true});\n",
              "}}\n",
              "\n",
              "                        })                };                            </script>        </div>\n",
              "</body>\n",
              "</html>"
            ]
          },
          "metadata": {},
          "output_type": "display_data"
        }
      ],
      "source": [
        "fig = px.scatter_geo(city_df, locations=city_df['city'], locationmode='country names', size=city_df['count']  )\n",
        "\n",
        "fig.show()"
      ]
    },
    {
      "cell_type": "code",
      "execution_count": 35,
      "metadata": {
        "colab": {
          "base_uri": "https://localhost:8080/",
          "height": 833
        },
        "id": "UIj2VOV6wkU6",
        "outputId": "0199de98-76c5-457f-8739-2b5a97576c9e"
      },
      "outputs": [
        {
          "data": {
            "text/html": [
              "<div>\n",
              "<style scoped>\n",
              "    .dataframe tbody tr th:only-of-type {\n",
              "        vertical-align: middle;\n",
              "    }\n",
              "\n",
              "    .dataframe tbody tr th {\n",
              "        vertical-align: top;\n",
              "    }\n",
              "\n",
              "    .dataframe thead th {\n",
              "        text-align: right;\n",
              "    }\n",
              "</style>\n",
              "<table border=\"1\" class=\"dataframe\">\n",
              "  <thead>\n",
              "    <tr style=\"text-align: right;\">\n",
              "      <th></th>\n",
              "      <th>Country</th>\n",
              "      <th>Count</th>\n",
              "    </tr>\n",
              "  </thead>\n",
              "  <tbody>\n",
              "  </tbody>\n",
              "</table>\n",
              "</div>"
            ],
            "text/plain": [
              "Empty DataFrame\n",
              "Columns: [Country, Count]\n",
              "Index: []"
            ]
          },
          "execution_count": 35,
          "metadata": {},
          "output_type": "execute_result"
        }
      ],
      "source": [
        "selfmade = df[df['Self Made'] == 1]\n",
        "\n",
        "# counts of self made billionaires in each country\n",
        "\n",
        "selfmade_counts = selfmade['Citizenship'].value_counts()\n",
        "\n",
        "# Create a DataFrame for the counts\n",
        "selfmade_counts_df = pd.DataFrame({'Country': selfmade_counts.index, 'Count': selfmade_counts.values})\n",
        "\n",
        "selfmade_counts_df = selfmade_counts_df.nlargest(25, 'Count')\n",
        "\n",
        "selfmade_counts_df"
      ]
    },
    {
      "cell_type": "code",
      "execution_count": 19,
      "metadata": {
        "colab": {
          "base_uri": "https://localhost:8080/",
          "height": 542
        },
        "id": "vshb2VbBz4yg",
        "outputId": "9234a4e4-4f26-4fd9-ca46-29096fc1e13d"
      },
      "outputs": [
        {
          "data": {
            "application/vnd.plotly.v1+json": {
              "config": {
                "plotlyServerURL": "https://plot.ly"
              },
              "data": [
                {
                  "alignmentgroup": "True",
                  "hovertemplate": "Country=%{x}<br>Count of Billionaires=%{y}<extra></extra>",
                  "legendgroup": "",
                  "marker": {
                    "color": "#636efa",
                    "pattern": {
                      "shape": ""
                    }
                  },
                  "name": "",
                  "offsetgroup": "",
                  "orientation": "v",
                  "showlegend": false,
                  "textposition": "outside",
                  "texttemplate": "%{y}",
                  "type": "bar",
                  "x": [],
                  "xaxis": "x",
                  "y": [],
                  "yaxis": "y"
                }
              ],
              "layout": {
                "barmode": "relative",
                "legend": {
                  "tracegroupgap": 0
                },
                "template": {
                  "data": {
                    "bar": [
                      {
                        "error_x": {
                          "color": "#2a3f5f"
                        },
                        "error_y": {
                          "color": "#2a3f5f"
                        },
                        "marker": {
                          "line": {
                            "color": "#E5ECF6",
                            "width": 0.5
                          },
                          "pattern": {
                            "fillmode": "overlay",
                            "size": 10,
                            "solidity": 0.2
                          }
                        },
                        "type": "bar"
                      }
                    ],
                    "barpolar": [
                      {
                        "marker": {
                          "line": {
                            "color": "#E5ECF6",
                            "width": 0.5
                          },
                          "pattern": {
                            "fillmode": "overlay",
                            "size": 10,
                            "solidity": 0.2
                          }
                        },
                        "type": "barpolar"
                      }
                    ],
                    "carpet": [
                      {
                        "aaxis": {
                          "endlinecolor": "#2a3f5f",
                          "gridcolor": "white",
                          "linecolor": "white",
                          "minorgridcolor": "white",
                          "startlinecolor": "#2a3f5f"
                        },
                        "baxis": {
                          "endlinecolor": "#2a3f5f",
                          "gridcolor": "white",
                          "linecolor": "white",
                          "minorgridcolor": "white",
                          "startlinecolor": "#2a3f5f"
                        },
                        "type": "carpet"
                      }
                    ],
                    "choropleth": [
                      {
                        "colorbar": {
                          "outlinewidth": 0,
                          "ticks": ""
                        },
                        "type": "choropleth"
                      }
                    ],
                    "contour": [
                      {
                        "colorbar": {
                          "outlinewidth": 0,
                          "ticks": ""
                        },
                        "colorscale": [
                          [
                            0,
                            "#0d0887"
                          ],
                          [
                            0.1111111111111111,
                            "#46039f"
                          ],
                          [
                            0.2222222222222222,
                            "#7201a8"
                          ],
                          [
                            0.3333333333333333,
                            "#9c179e"
                          ],
                          [
                            0.4444444444444444,
                            "#bd3786"
                          ],
                          [
                            0.5555555555555556,
                            "#d8576b"
                          ],
                          [
                            0.6666666666666666,
                            "#ed7953"
                          ],
                          [
                            0.7777777777777778,
                            "#fb9f3a"
                          ],
                          [
                            0.8888888888888888,
                            "#fdca26"
                          ],
                          [
                            1,
                            "#f0f921"
                          ]
                        ],
                        "type": "contour"
                      }
                    ],
                    "contourcarpet": [
                      {
                        "colorbar": {
                          "outlinewidth": 0,
                          "ticks": ""
                        },
                        "type": "contourcarpet"
                      }
                    ],
                    "heatmap": [
                      {
                        "colorbar": {
                          "outlinewidth": 0,
                          "ticks": ""
                        },
                        "colorscale": [
                          [
                            0,
                            "#0d0887"
                          ],
                          [
                            0.1111111111111111,
                            "#46039f"
                          ],
                          [
                            0.2222222222222222,
                            "#7201a8"
                          ],
                          [
                            0.3333333333333333,
                            "#9c179e"
                          ],
                          [
                            0.4444444444444444,
                            "#bd3786"
                          ],
                          [
                            0.5555555555555556,
                            "#d8576b"
                          ],
                          [
                            0.6666666666666666,
                            "#ed7953"
                          ],
                          [
                            0.7777777777777778,
                            "#fb9f3a"
                          ],
                          [
                            0.8888888888888888,
                            "#fdca26"
                          ],
                          [
                            1,
                            "#f0f921"
                          ]
                        ],
                        "type": "heatmap"
                      }
                    ],
                    "heatmapgl": [
                      {
                        "colorbar": {
                          "outlinewidth": 0,
                          "ticks": ""
                        },
                        "colorscale": [
                          [
                            0,
                            "#0d0887"
                          ],
                          [
                            0.1111111111111111,
                            "#46039f"
                          ],
                          [
                            0.2222222222222222,
                            "#7201a8"
                          ],
                          [
                            0.3333333333333333,
                            "#9c179e"
                          ],
                          [
                            0.4444444444444444,
                            "#bd3786"
                          ],
                          [
                            0.5555555555555556,
                            "#d8576b"
                          ],
                          [
                            0.6666666666666666,
                            "#ed7953"
                          ],
                          [
                            0.7777777777777778,
                            "#fb9f3a"
                          ],
                          [
                            0.8888888888888888,
                            "#fdca26"
                          ],
                          [
                            1,
                            "#f0f921"
                          ]
                        ],
                        "type": "heatmapgl"
                      }
                    ],
                    "histogram": [
                      {
                        "marker": {
                          "pattern": {
                            "fillmode": "overlay",
                            "size": 10,
                            "solidity": 0.2
                          }
                        },
                        "type": "histogram"
                      }
                    ],
                    "histogram2d": [
                      {
                        "colorbar": {
                          "outlinewidth": 0,
                          "ticks": ""
                        },
                        "colorscale": [
                          [
                            0,
                            "#0d0887"
                          ],
                          [
                            0.1111111111111111,
                            "#46039f"
                          ],
                          [
                            0.2222222222222222,
                            "#7201a8"
                          ],
                          [
                            0.3333333333333333,
                            "#9c179e"
                          ],
                          [
                            0.4444444444444444,
                            "#bd3786"
                          ],
                          [
                            0.5555555555555556,
                            "#d8576b"
                          ],
                          [
                            0.6666666666666666,
                            "#ed7953"
                          ],
                          [
                            0.7777777777777778,
                            "#fb9f3a"
                          ],
                          [
                            0.8888888888888888,
                            "#fdca26"
                          ],
                          [
                            1,
                            "#f0f921"
                          ]
                        ],
                        "type": "histogram2d"
                      }
                    ],
                    "histogram2dcontour": [
                      {
                        "colorbar": {
                          "outlinewidth": 0,
                          "ticks": ""
                        },
                        "colorscale": [
                          [
                            0,
                            "#0d0887"
                          ],
                          [
                            0.1111111111111111,
                            "#46039f"
                          ],
                          [
                            0.2222222222222222,
                            "#7201a8"
                          ],
                          [
                            0.3333333333333333,
                            "#9c179e"
                          ],
                          [
                            0.4444444444444444,
                            "#bd3786"
                          ],
                          [
                            0.5555555555555556,
                            "#d8576b"
                          ],
                          [
                            0.6666666666666666,
                            "#ed7953"
                          ],
                          [
                            0.7777777777777778,
                            "#fb9f3a"
                          ],
                          [
                            0.8888888888888888,
                            "#fdca26"
                          ],
                          [
                            1,
                            "#f0f921"
                          ]
                        ],
                        "type": "histogram2dcontour"
                      }
                    ],
                    "mesh3d": [
                      {
                        "colorbar": {
                          "outlinewidth": 0,
                          "ticks": ""
                        },
                        "type": "mesh3d"
                      }
                    ],
                    "parcoords": [
                      {
                        "line": {
                          "colorbar": {
                            "outlinewidth": 0,
                            "ticks": ""
                          }
                        },
                        "type": "parcoords"
                      }
                    ],
                    "pie": [
                      {
                        "automargin": true,
                        "type": "pie"
                      }
                    ],
                    "scatter": [
                      {
                        "fillpattern": {
                          "fillmode": "overlay",
                          "size": 10,
                          "solidity": 0.2
                        },
                        "type": "scatter"
                      }
                    ],
                    "scatter3d": [
                      {
                        "line": {
                          "colorbar": {
                            "outlinewidth": 0,
                            "ticks": ""
                          }
                        },
                        "marker": {
                          "colorbar": {
                            "outlinewidth": 0,
                            "ticks": ""
                          }
                        },
                        "type": "scatter3d"
                      }
                    ],
                    "scattercarpet": [
                      {
                        "marker": {
                          "colorbar": {
                            "outlinewidth": 0,
                            "ticks": ""
                          }
                        },
                        "type": "scattercarpet"
                      }
                    ],
                    "scattergeo": [
                      {
                        "marker": {
                          "colorbar": {
                            "outlinewidth": 0,
                            "ticks": ""
                          }
                        },
                        "type": "scattergeo"
                      }
                    ],
                    "scattergl": [
                      {
                        "marker": {
                          "colorbar": {
                            "outlinewidth": 0,
                            "ticks": ""
                          }
                        },
                        "type": "scattergl"
                      }
                    ],
                    "scattermapbox": [
                      {
                        "marker": {
                          "colorbar": {
                            "outlinewidth": 0,
                            "ticks": ""
                          }
                        },
                        "type": "scattermapbox"
                      }
                    ],
                    "scatterpolar": [
                      {
                        "marker": {
                          "colorbar": {
                            "outlinewidth": 0,
                            "ticks": ""
                          }
                        },
                        "type": "scatterpolar"
                      }
                    ],
                    "scatterpolargl": [
                      {
                        "marker": {
                          "colorbar": {
                            "outlinewidth": 0,
                            "ticks": ""
                          }
                        },
                        "type": "scatterpolargl"
                      }
                    ],
                    "scatterternary": [
                      {
                        "marker": {
                          "colorbar": {
                            "outlinewidth": 0,
                            "ticks": ""
                          }
                        },
                        "type": "scatterternary"
                      }
                    ],
                    "surface": [
                      {
                        "colorbar": {
                          "outlinewidth": 0,
                          "ticks": ""
                        },
                        "colorscale": [
                          [
                            0,
                            "#0d0887"
                          ],
                          [
                            0.1111111111111111,
                            "#46039f"
                          ],
                          [
                            0.2222222222222222,
                            "#7201a8"
                          ],
                          [
                            0.3333333333333333,
                            "#9c179e"
                          ],
                          [
                            0.4444444444444444,
                            "#bd3786"
                          ],
                          [
                            0.5555555555555556,
                            "#d8576b"
                          ],
                          [
                            0.6666666666666666,
                            "#ed7953"
                          ],
                          [
                            0.7777777777777778,
                            "#fb9f3a"
                          ],
                          [
                            0.8888888888888888,
                            "#fdca26"
                          ],
                          [
                            1,
                            "#f0f921"
                          ]
                        ],
                        "type": "surface"
                      }
                    ],
                    "table": [
                      {
                        "cells": {
                          "fill": {
                            "color": "#EBF0F8"
                          },
                          "line": {
                            "color": "white"
                          }
                        },
                        "header": {
                          "fill": {
                            "color": "#C8D4E3"
                          },
                          "line": {
                            "color": "white"
                          }
                        },
                        "type": "table"
                      }
                    ]
                  },
                  "layout": {
                    "annotationdefaults": {
                      "arrowcolor": "#2a3f5f",
                      "arrowhead": 0,
                      "arrowwidth": 1
                    },
                    "autotypenumbers": "strict",
                    "coloraxis": {
                      "colorbar": {
                        "outlinewidth": 0,
                        "ticks": ""
                      }
                    },
                    "colorscale": {
                      "diverging": [
                        [
                          0,
                          "#8e0152"
                        ],
                        [
                          0.1,
                          "#c51b7d"
                        ],
                        [
                          0.2,
                          "#de77ae"
                        ],
                        [
                          0.3,
                          "#f1b6da"
                        ],
                        [
                          0.4,
                          "#fde0ef"
                        ],
                        [
                          0.5,
                          "#f7f7f7"
                        ],
                        [
                          0.6,
                          "#e6f5d0"
                        ],
                        [
                          0.7,
                          "#b8e186"
                        ],
                        [
                          0.8,
                          "#7fbc41"
                        ],
                        [
                          0.9,
                          "#4d9221"
                        ],
                        [
                          1,
                          "#276419"
                        ]
                      ],
                      "sequential": [
                        [
                          0,
                          "#0d0887"
                        ],
                        [
                          0.1111111111111111,
                          "#46039f"
                        ],
                        [
                          0.2222222222222222,
                          "#7201a8"
                        ],
                        [
                          0.3333333333333333,
                          "#9c179e"
                        ],
                        [
                          0.4444444444444444,
                          "#bd3786"
                        ],
                        [
                          0.5555555555555556,
                          "#d8576b"
                        ],
                        [
                          0.6666666666666666,
                          "#ed7953"
                        ],
                        [
                          0.7777777777777778,
                          "#fb9f3a"
                        ],
                        [
                          0.8888888888888888,
                          "#fdca26"
                        ],
                        [
                          1,
                          "#f0f921"
                        ]
                      ],
                      "sequentialminus": [
                        [
                          0,
                          "#0d0887"
                        ],
                        [
                          0.1111111111111111,
                          "#46039f"
                        ],
                        [
                          0.2222222222222222,
                          "#7201a8"
                        ],
                        [
                          0.3333333333333333,
                          "#9c179e"
                        ],
                        [
                          0.4444444444444444,
                          "#bd3786"
                        ],
                        [
                          0.5555555555555556,
                          "#d8576b"
                        ],
                        [
                          0.6666666666666666,
                          "#ed7953"
                        ],
                        [
                          0.7777777777777778,
                          "#fb9f3a"
                        ],
                        [
                          0.8888888888888888,
                          "#fdca26"
                        ],
                        [
                          1,
                          "#f0f921"
                        ]
                      ]
                    },
                    "colorway": [
                      "#636efa",
                      "#EF553B",
                      "#00cc96",
                      "#ab63fa",
                      "#FFA15A",
                      "#19d3f3",
                      "#FF6692",
                      "#B6E880",
                      "#FF97FF",
                      "#FECB52"
                    ],
                    "font": {
                      "color": "#2a3f5f"
                    },
                    "geo": {
                      "bgcolor": "white",
                      "lakecolor": "white",
                      "landcolor": "#E5ECF6",
                      "showlakes": true,
                      "showland": true,
                      "subunitcolor": "white"
                    },
                    "hoverlabel": {
                      "align": "left"
                    },
                    "hovermode": "closest",
                    "mapbox": {
                      "style": "light"
                    },
                    "paper_bgcolor": "white",
                    "plot_bgcolor": "#E5ECF6",
                    "polar": {
                      "angularaxis": {
                        "gridcolor": "white",
                        "linecolor": "white",
                        "ticks": ""
                      },
                      "bgcolor": "#E5ECF6",
                      "radialaxis": {
                        "gridcolor": "white",
                        "linecolor": "white",
                        "ticks": ""
                      }
                    },
                    "scene": {
                      "xaxis": {
                        "backgroundcolor": "#E5ECF6",
                        "gridcolor": "white",
                        "gridwidth": 2,
                        "linecolor": "white",
                        "showbackground": true,
                        "ticks": "",
                        "zerolinecolor": "white"
                      },
                      "yaxis": {
                        "backgroundcolor": "#E5ECF6",
                        "gridcolor": "white",
                        "gridwidth": 2,
                        "linecolor": "white",
                        "showbackground": true,
                        "ticks": "",
                        "zerolinecolor": "white"
                      },
                      "zaxis": {
                        "backgroundcolor": "#E5ECF6",
                        "gridcolor": "white",
                        "gridwidth": 2,
                        "linecolor": "white",
                        "showbackground": true,
                        "ticks": "",
                        "zerolinecolor": "white"
                      }
                    },
                    "shapedefaults": {
                      "line": {
                        "color": "#2a3f5f"
                      }
                    },
                    "ternary": {
                      "aaxis": {
                        "gridcolor": "white",
                        "linecolor": "white",
                        "ticks": ""
                      },
                      "baxis": {
                        "gridcolor": "white",
                        "linecolor": "white",
                        "ticks": ""
                      },
                      "bgcolor": "#E5ECF6",
                      "caxis": {
                        "gridcolor": "white",
                        "linecolor": "white",
                        "ticks": ""
                      }
                    },
                    "title": {
                      "x": 0.05
                    },
                    "xaxis": {
                      "automargin": true,
                      "gridcolor": "white",
                      "linecolor": "white",
                      "ticks": "",
                      "title": {
                        "standoff": 15
                      },
                      "zerolinecolor": "white",
                      "zerolinewidth": 2
                    },
                    "yaxis": {
                      "automargin": true,
                      "gridcolor": "white",
                      "linecolor": "white",
                      "ticks": "",
                      "title": {
                        "standoff": 15
                      },
                      "zerolinecolor": "white",
                      "zerolinewidth": 2
                    }
                  }
                },
                "title": {
                  "text": "Counts of Self-Made Billionaires by Country"
                },
                "xaxis": {
                  "anchor": "y",
                  "domain": [
                    0,
                    1
                  ],
                  "title": {
                    "text": "Country"
                  }
                },
                "yaxis": {
                  "anchor": "x",
                  "domain": [
                    0,
                    1
                  ],
                  "title": {
                    "text": "Count of Billionaires"
                  }
                }
              }
            }
          },
          "metadata": {},
          "output_type": "display_data"
        }
      ],
      "source": [
        "fig = px.bar(selfmade_counts_df, x='Country', y='Count',\n",
        "             title='Counts of Self-Made Billionaires by Country',\n",
        "             labels={'Country': 'Country', 'Count': 'Count of Billionaires'},\n",
        "             text_auto=True)\n",
        "\n",
        "fig.update_traces(textposition= 'outside')\n",
        "fig.show()"
      ]
    },
    {
      "cell_type": "code",
      "execution_count": 21,
      "metadata": {
        "colab": {
          "base_uri": "https://localhost:8080/",
          "height": 895
        },
        "id": "RzUC29Gg1wCV",
        "outputId": "84ca692f-4b0c-4758-91d8-a5e6ae0e180e"
      },
      "outputs": [
        {
          "data": {
            "text/html": [
              "<div>\n",
              "<style scoped>\n",
              "    .dataframe tbody tr th:only-of-type {\n",
              "        vertical-align: middle;\n",
              "    }\n",
              "\n",
              "    .dataframe tbody tr th {\n",
              "        vertical-align: top;\n",
              "    }\n",
              "\n",
              "    .dataframe thead th {\n",
              "        text-align: right;\n",
              "    }\n",
              "</style>\n",
              "<table border=\"1\" class=\"dataframe\">\n",
              "  <thead>\n",
              "    <tr style=\"text-align: right;\">\n",
              "      <th></th>\n",
              "      <th>rank</th>\n",
              "      <th>name</th>\n",
              "      <th>forbes_id</th>\n",
              "      <th>net_worth</th>\n",
              "      <th>age</th>\n",
              "      <th>age_range</th>\n",
              "      <th>country</th>\n",
              "      <th>source</th>\n",
              "      <th>industry</th>\n",
              "      <th>Age</th>\n",
              "      <th>...</th>\n",
              "      <th>Residence</th>\n",
              "      <th>Citizenship</th>\n",
              "      <th>Marital Status</th>\n",
              "      <th>Children</th>\n",
              "      <th>Education</th>\n",
              "      <th>Bachelor</th>\n",
              "      <th>Master</th>\n",
              "      <th>Doctorate</th>\n",
              "      <th>Drop Out</th>\n",
              "      <th>Self Made</th>\n",
              "    </tr>\n",
              "  </thead>\n",
              "  <tbody>\n",
              "  </tbody>\n",
              "</table>\n",
              "<p>0 rows × 23 columns</p>\n",
              "</div>"
            ],
            "text/plain": [
              "Empty DataFrame\n",
              "Columns: [rank, name, forbes_id, net_worth, age, age_range, country, source, industry, Age, Source of Wealth, Self-Made Score, Philanthropy Score, Residence, Citizenship, Marital Status, Children, Education, Bachelor, Master, Doctorate, Drop Out, Self Made]\n",
              "Index: []\n",
              "\n",
              "[0 rows x 23 columns]"
            ]
          },
          "execution_count": 21,
          "metadata": {},
          "output_type": "execute_result"
        }
      ],
      "source": [
        "selfmade"
      ]
    },
    {
      "cell_type": "markdown",
      "metadata": {
        "id": "5UN9lFyg2EBB"
      },
      "source": [
        "In india self made vs generational wealth"
      ]
    },
    {
      "cell_type": "code",
      "execution_count": 22,
      "metadata": {
        "colab": {
          "base_uri": "https://localhost:8080/",
          "height": 895
        },
        "id": "UUvIim162DwO",
        "outputId": "9a16e922-a6ed-4a04-dcdd-d8146225944a"
      },
      "outputs": [
        {
          "data": {
            "text/html": [
              "<div>\n",
              "<style scoped>\n",
              "    .dataframe tbody tr th:only-of-type {\n",
              "        vertical-align: middle;\n",
              "    }\n",
              "\n",
              "    .dataframe tbody tr th {\n",
              "        vertical-align: top;\n",
              "    }\n",
              "\n",
              "    .dataframe thead th {\n",
              "        text-align: right;\n",
              "    }\n",
              "</style>\n",
              "<table border=\"1\" class=\"dataframe\">\n",
              "  <thead>\n",
              "    <tr style=\"text-align: right;\">\n",
              "      <th></th>\n",
              "      <th>rank</th>\n",
              "      <th>name</th>\n",
              "      <th>forbes_id</th>\n",
              "      <th>net_worth</th>\n",
              "      <th>age</th>\n",
              "      <th>age_range</th>\n",
              "      <th>country</th>\n",
              "      <th>source</th>\n",
              "      <th>industry</th>\n",
              "      <th>Age</th>\n",
              "      <th>...</th>\n",
              "      <th>Residence</th>\n",
              "      <th>Citizenship</th>\n",
              "      <th>Marital Status</th>\n",
              "      <th>Children</th>\n",
              "      <th>Education</th>\n",
              "      <th>Bachelor</th>\n",
              "      <th>Master</th>\n",
              "      <th>Doctorate</th>\n",
              "      <th>Drop Out</th>\n",
              "      <th>Self Made</th>\n",
              "    </tr>\n",
              "  </thead>\n",
              "  <tbody>\n",
              "    <tr>\n",
              "      <th>8</th>\n",
              "      <td>9</td>\n",
              "      <td>Mukesh Ambani</td>\n",
              "      <td>mukesh-ambani</td>\n",
              "      <td>83.4</td>\n",
              "      <td>65.0</td>\n",
              "      <td>7</td>\n",
              "      <td>India</td>\n",
              "      <td>Diversified</td>\n",
              "      <td>Diversified</td>\n",
              "      <td>66.0</td>\n",
              "      <td>...</td>\n",
              "      <td>Mumbai, India</td>\n",
              "      <td>India</td>\n",
              "      <td>Married</td>\n",
              "      <td>3.0</td>\n",
              "      <td>Drop Out, Stanford University; Bachelor of Sci...</td>\n",
              "      <td>1.0</td>\n",
              "      <td>0.0</td>\n",
              "      <td>0.0</td>\n",
              "      <td>1.0</td>\n",
              "      <td>0</td>\n",
              "    </tr>\n",
              "    <tr>\n",
              "      <th>23</th>\n",
              "      <td>24</td>\n",
              "      <td>Gautam Adani</td>\n",
              "      <td>gautam-adani-1</td>\n",
              "      <td>47.2</td>\n",
              "      <td>60.0</td>\n",
              "      <td>6</td>\n",
              "      <td>India</td>\n",
              "      <td>Infrastructure, commodities</td>\n",
              "      <td>Diversified</td>\n",
              "      <td>61.0</td>\n",
              "      <td>...</td>\n",
              "      <td>Ahmedabad, India</td>\n",
              "      <td>India</td>\n",
              "      <td>Married</td>\n",
              "      <td>2.0</td>\n",
              "      <td>NaN</td>\n",
              "      <td>NaN</td>\n",
              "      <td>NaN</td>\n",
              "      <td>NaN</td>\n",
              "      <td>NaN</td>\n",
              "      <td>1</td>\n",
              "    </tr>\n",
              "    <tr>\n",
              "      <th>54</th>\n",
              "      <td>55</td>\n",
              "      <td>Shiv Nadar</td>\n",
              "      <td>shiv-nadar</td>\n",
              "      <td>25.6</td>\n",
              "      <td>77.0</td>\n",
              "      <td>8</td>\n",
              "      <td>India</td>\n",
              "      <td>software services</td>\n",
              "      <td>Technology</td>\n",
              "      <td>78.0</td>\n",
              "      <td>...</td>\n",
              "      <td>Delhi, India</td>\n",
              "      <td>India</td>\n",
              "      <td>Married</td>\n",
              "      <td>1.0</td>\n",
              "      <td>Bachelor of Arts/Science, PSG College of Techn...</td>\n",
              "      <td>1.0</td>\n",
              "      <td>0.0</td>\n",
              "      <td>0.0</td>\n",
              "      <td>0.0</td>\n",
              "      <td>1</td>\n",
              "    </tr>\n",
              "    <tr>\n",
              "      <th>67</th>\n",
              "      <td>68</td>\n",
              "      <td>Cyrus Poonawalla</td>\n",
              "      <td>cyrus-poonawalla</td>\n",
              "      <td>22.6</td>\n",
              "      <td>81.0</td>\n",
              "      <td>9</td>\n",
              "      <td>India</td>\n",
              "      <td>Vaccines</td>\n",
              "      <td>Healthcare</td>\n",
              "      <td>82.0</td>\n",
              "      <td>...</td>\n",
              "      <td>Pune, India</td>\n",
              "      <td>India</td>\n",
              "      <td>Widowed</td>\n",
              "      <td>1.0</td>\n",
              "      <td>Bachelor of Arts/Science, Pune University; Doc...</td>\n",
              "      <td>1.0</td>\n",
              "      <td>0.0</td>\n",
              "      <td>1.0</td>\n",
              "      <td>0.0</td>\n",
              "      <td>0</td>\n",
              "    </tr>\n",
              "    <tr>\n",
              "      <th>92</th>\n",
              "      <td>93</td>\n",
              "      <td>Lakshmi Mittal</td>\n",
              "      <td>lakshmi-mittal</td>\n",
              "      <td>17.7</td>\n",
              "      <td>72.0</td>\n",
              "      <td>8</td>\n",
              "      <td>India</td>\n",
              "      <td>Steel</td>\n",
              "      <td>Metals &amp; Mining</td>\n",
              "      <td>73.0</td>\n",
              "      <td>...</td>\n",
              "      <td>London, United Kingdom</td>\n",
              "      <td>India</td>\n",
              "      <td>Married</td>\n",
              "      <td>2.0</td>\n",
              "      <td>Bachelor of Arts/Science, St Xavier's College ...</td>\n",
              "      <td>1.0</td>\n",
              "      <td>0.0</td>\n",
              "      <td>0.0</td>\n",
              "      <td>0.0</td>\n",
              "      <td>0</td>\n",
              "    </tr>\n",
              "    <tr>\n",
              "      <th>...</th>\n",
              "      <td>...</td>\n",
              "      <td>...</td>\n",
              "      <td>...</td>\n",
              "      <td>...</td>\n",
              "      <td>...</td>\n",
              "      <td>...</td>\n",
              "      <td>...</td>\n",
              "      <td>...</td>\n",
              "      <td>...</td>\n",
              "      <td>...</td>\n",
              "      <td>...</td>\n",
              "      <td>...</td>\n",
              "      <td>...</td>\n",
              "      <td>...</td>\n",
              "      <td>...</td>\n",
              "      <td>...</td>\n",
              "      <td>...</td>\n",
              "      <td>...</td>\n",
              "      <td>...</td>\n",
              "      <td>...</td>\n",
              "      <td>...</td>\n",
              "    </tr>\n",
              "    <tr>\n",
              "      <th>2498</th>\n",
              "      <td>2405</td>\n",
              "      <td>Rajesh Sharma</td>\n",
              "      <td>rajesh-sharma</td>\n",
              "      <td>1.1</td>\n",
              "      <td>53.0</td>\n",
              "      <td>6</td>\n",
              "      <td>India</td>\n",
              "      <td>Finance</td>\n",
              "      <td>Finance &amp; Investments</td>\n",
              "      <td>53.0</td>\n",
              "      <td>...</td>\n",
              "      <td>Mumbai, India</td>\n",
              "      <td>India</td>\n",
              "      <td>Married</td>\n",
              "      <td>3.0</td>\n",
              "      <td>Chartered Accountant, Institute of Chartered A...</td>\n",
              "      <td>0.0</td>\n",
              "      <td>0.0</td>\n",
              "      <td>0.0</td>\n",
              "      <td>0.0</td>\n",
              "      <td>0</td>\n",
              "    </tr>\n",
              "    <tr>\n",
              "      <th>2539</th>\n",
              "      <td>2540</td>\n",
              "      <td>Manohar Lal Agarwal</td>\n",
              "      <td>manohar-lal-agarwal</td>\n",
              "      <td>1.0</td>\n",
              "      <td>68.0</td>\n",
              "      <td>7</td>\n",
              "      <td>India</td>\n",
              "      <td>Snacks</td>\n",
              "      <td>Food &amp; Beverage</td>\n",
              "      <td>68.0</td>\n",
              "      <td>...</td>\n",
              "      <td>Delhi, India</td>\n",
              "      <td>India</td>\n",
              "      <td>Married</td>\n",
              "      <td>NaN</td>\n",
              "      <td>NaN</td>\n",
              "      <td>NaN</td>\n",
              "      <td>NaN</td>\n",
              "      <td>NaN</td>\n",
              "      <td>NaN</td>\n",
              "      <td>0</td>\n",
              "    </tr>\n",
              "    <tr>\n",
              "      <th>2557</th>\n",
              "      <td>2540</td>\n",
              "      <td>Kochouseph Chittilappilly</td>\n",
              "      <td>kochouseph-chittilappilly</td>\n",
              "      <td>1.0</td>\n",
              "      <td>72.0</td>\n",
              "      <td>8</td>\n",
              "      <td>India</td>\n",
              "      <td>Electrical appliances</td>\n",
              "      <td>Manufacturing</td>\n",
              "      <td>72.0</td>\n",
              "      <td>...</td>\n",
              "      <td>Kochi, India</td>\n",
              "      <td>India</td>\n",
              "      <td>Married</td>\n",
              "      <td>2.0</td>\n",
              "      <td>NaN</td>\n",
              "      <td>NaN</td>\n",
              "      <td>NaN</td>\n",
              "      <td>NaN</td>\n",
              "      <td>NaN</td>\n",
              "      <td>1</td>\n",
              "    </tr>\n",
              "    <tr>\n",
              "      <th>2580</th>\n",
              "      <td>2540</td>\n",
              "      <td>Inder Jaisinghani</td>\n",
              "      <td>inder-jaisinghani-1</td>\n",
              "      <td>1.0</td>\n",
              "      <td>70.0</td>\n",
              "      <td>7</td>\n",
              "      <td>India</td>\n",
              "      <td>Cables &amp; wires</td>\n",
              "      <td>Manufacturing</td>\n",
              "      <td>70.0</td>\n",
              "      <td>...</td>\n",
              "      <td>Mumbai, India</td>\n",
              "      <td>India</td>\n",
              "      <td>Married</td>\n",
              "      <td>2.0</td>\n",
              "      <td>NaN</td>\n",
              "      <td>NaN</td>\n",
              "      <td>NaN</td>\n",
              "      <td>NaN</td>\n",
              "      <td>NaN</td>\n",
              "      <td>1</td>\n",
              "    </tr>\n",
              "    <tr>\n",
              "      <th>2584</th>\n",
              "      <td>2540</td>\n",
              "      <td>Ashok Kajaria</td>\n",
              "      <td>ashok-kajaria</td>\n",
              "      <td>1.0</td>\n",
              "      <td>75.0</td>\n",
              "      <td>8</td>\n",
              "      <td>India</td>\n",
              "      <td>Tiles</td>\n",
              "      <td>Manufacturing</td>\n",
              "      <td>76.0</td>\n",
              "      <td>...</td>\n",
              "      <td>Delhi, India</td>\n",
              "      <td>India</td>\n",
              "      <td>Married</td>\n",
              "      <td>2.0</td>\n",
              "      <td>Bachelor of Science in Engineering, UCLA</td>\n",
              "      <td>1.0</td>\n",
              "      <td>0.0</td>\n",
              "      <td>0.0</td>\n",
              "      <td>0.0</td>\n",
              "      <td>1</td>\n",
              "    </tr>\n",
              "  </tbody>\n",
              "</table>\n",
              "<p>169 rows × 23 columns</p>\n",
              "</div>"
            ],
            "text/plain": [
              "      rank                       name                  forbes_id  net_worth  \\\n",
              "8        9              Mukesh Ambani              mukesh-ambani       83.4   \n",
              "23      24               Gautam Adani             gautam-adani-1       47.2   \n",
              "54      55                 Shiv Nadar                 shiv-nadar       25.6   \n",
              "67      68           Cyrus Poonawalla           cyrus-poonawalla       22.6   \n",
              "92      93             Lakshmi Mittal             lakshmi-mittal       17.7   \n",
              "...    ...                        ...                        ...        ...   \n",
              "2498  2405              Rajesh Sharma              rajesh-sharma        1.1   \n",
              "2539  2540        Manohar Lal Agarwal        manohar-lal-agarwal        1.0   \n",
              "2557  2540  Kochouseph Chittilappilly  kochouseph-chittilappilly        1.0   \n",
              "2580  2540          Inder Jaisinghani        inder-jaisinghani-1        1.0   \n",
              "2584  2540              Ashok Kajaria              ashok-kajaria        1.0   \n",
              "\n",
              "       age  age_range country                       source  \\\n",
              "8     65.0          7   India                  Diversified   \n",
              "23    60.0          6   India  Infrastructure, commodities   \n",
              "54    77.0          8   India            software services   \n",
              "67    81.0          9   India                     Vaccines   \n",
              "92    72.0          8   India                        Steel   \n",
              "...    ...        ...     ...                          ...   \n",
              "2498  53.0          6   India                      Finance   \n",
              "2539  68.0          7   India                       Snacks   \n",
              "2557  72.0          8   India        Electrical appliances   \n",
              "2580  70.0          7   India               Cables & wires   \n",
              "2584  75.0          8   India                        Tiles   \n",
              "\n",
              "                   industry   Age  ...               Residence  Citizenship  \\\n",
              "8               Diversified  66.0  ...           Mumbai, India        India   \n",
              "23              Diversified  61.0  ...        Ahmedabad, India        India   \n",
              "54               Technology  78.0  ...            Delhi, India        India   \n",
              "67               Healthcare  82.0  ...             Pune, India        India   \n",
              "92          Metals & Mining  73.0  ...  London, United Kingdom        India   \n",
              "...                     ...   ...  ...                     ...          ...   \n",
              "2498  Finance & Investments  53.0  ...           Mumbai, India        India   \n",
              "2539        Food & Beverage  68.0  ...            Delhi, India        India   \n",
              "2557          Manufacturing  72.0  ...            Kochi, India        India   \n",
              "2580          Manufacturing  70.0  ...           Mumbai, India        India   \n",
              "2584          Manufacturing  76.0  ...            Delhi, India        India   \n",
              "\n",
              "      Marital Status Children  \\\n",
              "8            Married      3.0   \n",
              "23           Married      2.0   \n",
              "54           Married      1.0   \n",
              "67           Widowed      1.0   \n",
              "92           Married      2.0   \n",
              "...              ...      ...   \n",
              "2498         Married      3.0   \n",
              "2539         Married      NaN   \n",
              "2557         Married      2.0   \n",
              "2580         Married      2.0   \n",
              "2584         Married      2.0   \n",
              "\n",
              "                                              Education Bachelor  Master  \\\n",
              "8     Drop Out, Stanford University; Bachelor of Sci...      1.0     0.0   \n",
              "23                                                  NaN      NaN     NaN   \n",
              "54    Bachelor of Arts/Science, PSG College of Techn...      1.0     0.0   \n",
              "67    Bachelor of Arts/Science, Pune University; Doc...      1.0     0.0   \n",
              "92    Bachelor of Arts/Science, St Xavier's College ...      1.0     0.0   \n",
              "...                                                 ...      ...     ...   \n",
              "2498  Chartered Accountant, Institute of Chartered A...      0.0     0.0   \n",
              "2539                                                NaN      NaN     NaN   \n",
              "2557                                                NaN      NaN     NaN   \n",
              "2580                                                NaN      NaN     NaN   \n",
              "2584           Bachelor of Science in Engineering, UCLA      1.0     0.0   \n",
              "\n",
              "     Doctorate  Drop Out  Self Made  \n",
              "8          0.0       1.0          0  \n",
              "23         NaN       NaN          1  \n",
              "54         0.0       0.0          1  \n",
              "67         1.0       0.0          0  \n",
              "92         0.0       0.0          0  \n",
              "...        ...       ...        ...  \n",
              "2498       0.0       0.0          0  \n",
              "2539       NaN       NaN          0  \n",
              "2557       NaN       NaN          1  \n",
              "2580       NaN       NaN          1  \n",
              "2584       0.0       0.0          1  \n",
              "\n",
              "[169 rows x 23 columns]"
            ]
          },
          "execution_count": 22,
          "metadata": {},
          "output_type": "execute_result"
        }
      ],
      "source": [
        "india_data = df[df['country'] == 'India']\n",
        "\n",
        "india_data"
      ]
    },
    {
      "cell_type": "code",
      "execution_count": 23,
      "metadata": {
        "colab": {
          "base_uri": "https://localhost:8080/",
          "height": 125
        },
        "id": "jJaGXiZT2p2Y",
        "outputId": "84130236-426b-467b-a5bc-56652b81cbcb"
      },
      "outputs": [
        {
          "data": {
            "text/html": [
              "<div>\n",
              "<style scoped>\n",
              "    .dataframe tbody tr th:only-of-type {\n",
              "        vertical-align: middle;\n",
              "    }\n",
              "\n",
              "    .dataframe tbody tr th {\n",
              "        vertical-align: top;\n",
              "    }\n",
              "\n",
              "    .dataframe thead th {\n",
              "        text-align: right;\n",
              "    }\n",
              "</style>\n",
              "<table border=\"1\" class=\"dataframe\">\n",
              "  <thead>\n",
              "    <tr style=\"text-align: right;\">\n",
              "      <th></th>\n",
              "      <th>Self made</th>\n",
              "      <th>Count</th>\n",
              "    </tr>\n",
              "  </thead>\n",
              "  <tbody>\n",
              "    <tr>\n",
              "      <th>0</th>\n",
              "      <td>Non Self Made</td>\n",
              "      <td>96</td>\n",
              "    </tr>\n",
              "    <tr>\n",
              "      <th>1</th>\n",
              "      <td>Self Made</td>\n",
              "      <td>73</td>\n",
              "    </tr>\n",
              "  </tbody>\n",
              "</table>\n",
              "</div>"
            ],
            "text/plain": [
              "       Self made  Count\n",
              "0  Non Self Made     96\n",
              "1      Self Made     73"
            ]
          },
          "execution_count": 23,
          "metadata": {},
          "output_type": "execute_result"
        }
      ],
      "source": [
        "indian_selfmade = pd.DataFrame({\n",
        "    'Self made': ['Non Self Made', 'Self Made'],\n",
        "    'Count': india_data['Self Made'].value_counts().values\n",
        "})\n",
        "\n",
        "indian_selfmade"
      ]
    },
    {
      "cell_type": "code",
      "execution_count": 24,
      "metadata": {
        "colab": {
          "base_uri": "https://localhost:8080/",
          "height": 542
        },
        "id": "xcfhEAV_3clK",
        "outputId": "f255d896-e01d-4bb2-a72b-715373125159"
      },
      "outputs": [
        {
          "data": {
            "application/vnd.plotly.v1+json": {
              "config": {
                "plotlyServerURL": "https://plot.ly"
              },
              "data": [
                {
                  "domain": {
                    "x": [
                      0,
                      1
                    ],
                    "y": [
                      0,
                      1
                    ]
                  },
                  "hovertemplate": "Self made=%{label}<br>Count=%{value}<extra></extra>",
                  "labels": [
                    "Non Self Made",
                    "Self Made"
                  ],
                  "legendgroup": "",
                  "name": "",
                  "showlegend": true,
                  "textinfo": "percent+label",
                  "textposition": "inside",
                  "type": "pie",
                  "values": [
                    96,
                    73
                  ]
                }
              ],
              "layout": {
                "legend": {
                  "tracegroupgap": 0
                },
                "template": {
                  "data": {
                    "bar": [
                      {
                        "error_x": {
                          "color": "#2a3f5f"
                        },
                        "error_y": {
                          "color": "#2a3f5f"
                        },
                        "marker": {
                          "line": {
                            "color": "#E5ECF6",
                            "width": 0.5
                          },
                          "pattern": {
                            "fillmode": "overlay",
                            "size": 10,
                            "solidity": 0.2
                          }
                        },
                        "type": "bar"
                      }
                    ],
                    "barpolar": [
                      {
                        "marker": {
                          "line": {
                            "color": "#E5ECF6",
                            "width": 0.5
                          },
                          "pattern": {
                            "fillmode": "overlay",
                            "size": 10,
                            "solidity": 0.2
                          }
                        },
                        "type": "barpolar"
                      }
                    ],
                    "carpet": [
                      {
                        "aaxis": {
                          "endlinecolor": "#2a3f5f",
                          "gridcolor": "white",
                          "linecolor": "white",
                          "minorgridcolor": "white",
                          "startlinecolor": "#2a3f5f"
                        },
                        "baxis": {
                          "endlinecolor": "#2a3f5f",
                          "gridcolor": "white",
                          "linecolor": "white",
                          "minorgridcolor": "white",
                          "startlinecolor": "#2a3f5f"
                        },
                        "type": "carpet"
                      }
                    ],
                    "choropleth": [
                      {
                        "colorbar": {
                          "outlinewidth": 0,
                          "ticks": ""
                        },
                        "type": "choropleth"
                      }
                    ],
                    "contour": [
                      {
                        "colorbar": {
                          "outlinewidth": 0,
                          "ticks": ""
                        },
                        "colorscale": [
                          [
                            0,
                            "#0d0887"
                          ],
                          [
                            0.1111111111111111,
                            "#46039f"
                          ],
                          [
                            0.2222222222222222,
                            "#7201a8"
                          ],
                          [
                            0.3333333333333333,
                            "#9c179e"
                          ],
                          [
                            0.4444444444444444,
                            "#bd3786"
                          ],
                          [
                            0.5555555555555556,
                            "#d8576b"
                          ],
                          [
                            0.6666666666666666,
                            "#ed7953"
                          ],
                          [
                            0.7777777777777778,
                            "#fb9f3a"
                          ],
                          [
                            0.8888888888888888,
                            "#fdca26"
                          ],
                          [
                            1,
                            "#f0f921"
                          ]
                        ],
                        "type": "contour"
                      }
                    ],
                    "contourcarpet": [
                      {
                        "colorbar": {
                          "outlinewidth": 0,
                          "ticks": ""
                        },
                        "type": "contourcarpet"
                      }
                    ],
                    "heatmap": [
                      {
                        "colorbar": {
                          "outlinewidth": 0,
                          "ticks": ""
                        },
                        "colorscale": [
                          [
                            0,
                            "#0d0887"
                          ],
                          [
                            0.1111111111111111,
                            "#46039f"
                          ],
                          [
                            0.2222222222222222,
                            "#7201a8"
                          ],
                          [
                            0.3333333333333333,
                            "#9c179e"
                          ],
                          [
                            0.4444444444444444,
                            "#bd3786"
                          ],
                          [
                            0.5555555555555556,
                            "#d8576b"
                          ],
                          [
                            0.6666666666666666,
                            "#ed7953"
                          ],
                          [
                            0.7777777777777778,
                            "#fb9f3a"
                          ],
                          [
                            0.8888888888888888,
                            "#fdca26"
                          ],
                          [
                            1,
                            "#f0f921"
                          ]
                        ],
                        "type": "heatmap"
                      }
                    ],
                    "heatmapgl": [
                      {
                        "colorbar": {
                          "outlinewidth": 0,
                          "ticks": ""
                        },
                        "colorscale": [
                          [
                            0,
                            "#0d0887"
                          ],
                          [
                            0.1111111111111111,
                            "#46039f"
                          ],
                          [
                            0.2222222222222222,
                            "#7201a8"
                          ],
                          [
                            0.3333333333333333,
                            "#9c179e"
                          ],
                          [
                            0.4444444444444444,
                            "#bd3786"
                          ],
                          [
                            0.5555555555555556,
                            "#d8576b"
                          ],
                          [
                            0.6666666666666666,
                            "#ed7953"
                          ],
                          [
                            0.7777777777777778,
                            "#fb9f3a"
                          ],
                          [
                            0.8888888888888888,
                            "#fdca26"
                          ],
                          [
                            1,
                            "#f0f921"
                          ]
                        ],
                        "type": "heatmapgl"
                      }
                    ],
                    "histogram": [
                      {
                        "marker": {
                          "pattern": {
                            "fillmode": "overlay",
                            "size": 10,
                            "solidity": 0.2
                          }
                        },
                        "type": "histogram"
                      }
                    ],
                    "histogram2d": [
                      {
                        "colorbar": {
                          "outlinewidth": 0,
                          "ticks": ""
                        },
                        "colorscale": [
                          [
                            0,
                            "#0d0887"
                          ],
                          [
                            0.1111111111111111,
                            "#46039f"
                          ],
                          [
                            0.2222222222222222,
                            "#7201a8"
                          ],
                          [
                            0.3333333333333333,
                            "#9c179e"
                          ],
                          [
                            0.4444444444444444,
                            "#bd3786"
                          ],
                          [
                            0.5555555555555556,
                            "#d8576b"
                          ],
                          [
                            0.6666666666666666,
                            "#ed7953"
                          ],
                          [
                            0.7777777777777778,
                            "#fb9f3a"
                          ],
                          [
                            0.8888888888888888,
                            "#fdca26"
                          ],
                          [
                            1,
                            "#f0f921"
                          ]
                        ],
                        "type": "histogram2d"
                      }
                    ],
                    "histogram2dcontour": [
                      {
                        "colorbar": {
                          "outlinewidth": 0,
                          "ticks": ""
                        },
                        "colorscale": [
                          [
                            0,
                            "#0d0887"
                          ],
                          [
                            0.1111111111111111,
                            "#46039f"
                          ],
                          [
                            0.2222222222222222,
                            "#7201a8"
                          ],
                          [
                            0.3333333333333333,
                            "#9c179e"
                          ],
                          [
                            0.4444444444444444,
                            "#bd3786"
                          ],
                          [
                            0.5555555555555556,
                            "#d8576b"
                          ],
                          [
                            0.6666666666666666,
                            "#ed7953"
                          ],
                          [
                            0.7777777777777778,
                            "#fb9f3a"
                          ],
                          [
                            0.8888888888888888,
                            "#fdca26"
                          ],
                          [
                            1,
                            "#f0f921"
                          ]
                        ],
                        "type": "histogram2dcontour"
                      }
                    ],
                    "mesh3d": [
                      {
                        "colorbar": {
                          "outlinewidth": 0,
                          "ticks": ""
                        },
                        "type": "mesh3d"
                      }
                    ],
                    "parcoords": [
                      {
                        "line": {
                          "colorbar": {
                            "outlinewidth": 0,
                            "ticks": ""
                          }
                        },
                        "type": "parcoords"
                      }
                    ],
                    "pie": [
                      {
                        "automargin": true,
                        "type": "pie"
                      }
                    ],
                    "scatter": [
                      {
                        "fillpattern": {
                          "fillmode": "overlay",
                          "size": 10,
                          "solidity": 0.2
                        },
                        "type": "scatter"
                      }
                    ],
                    "scatter3d": [
                      {
                        "line": {
                          "colorbar": {
                            "outlinewidth": 0,
                            "ticks": ""
                          }
                        },
                        "marker": {
                          "colorbar": {
                            "outlinewidth": 0,
                            "ticks": ""
                          }
                        },
                        "type": "scatter3d"
                      }
                    ],
                    "scattercarpet": [
                      {
                        "marker": {
                          "colorbar": {
                            "outlinewidth": 0,
                            "ticks": ""
                          }
                        },
                        "type": "scattercarpet"
                      }
                    ],
                    "scattergeo": [
                      {
                        "marker": {
                          "colorbar": {
                            "outlinewidth": 0,
                            "ticks": ""
                          }
                        },
                        "type": "scattergeo"
                      }
                    ],
                    "scattergl": [
                      {
                        "marker": {
                          "colorbar": {
                            "outlinewidth": 0,
                            "ticks": ""
                          }
                        },
                        "type": "scattergl"
                      }
                    ],
                    "scattermapbox": [
                      {
                        "marker": {
                          "colorbar": {
                            "outlinewidth": 0,
                            "ticks": ""
                          }
                        },
                        "type": "scattermapbox"
                      }
                    ],
                    "scatterpolar": [
                      {
                        "marker": {
                          "colorbar": {
                            "outlinewidth": 0,
                            "ticks": ""
                          }
                        },
                        "type": "scatterpolar"
                      }
                    ],
                    "scatterpolargl": [
                      {
                        "marker": {
                          "colorbar": {
                            "outlinewidth": 0,
                            "ticks": ""
                          }
                        },
                        "type": "scatterpolargl"
                      }
                    ],
                    "scatterternary": [
                      {
                        "marker": {
                          "colorbar": {
                            "outlinewidth": 0,
                            "ticks": ""
                          }
                        },
                        "type": "scatterternary"
                      }
                    ],
                    "surface": [
                      {
                        "colorbar": {
                          "outlinewidth": 0,
                          "ticks": ""
                        },
                        "colorscale": [
                          [
                            0,
                            "#0d0887"
                          ],
                          [
                            0.1111111111111111,
                            "#46039f"
                          ],
                          [
                            0.2222222222222222,
                            "#7201a8"
                          ],
                          [
                            0.3333333333333333,
                            "#9c179e"
                          ],
                          [
                            0.4444444444444444,
                            "#bd3786"
                          ],
                          [
                            0.5555555555555556,
                            "#d8576b"
                          ],
                          [
                            0.6666666666666666,
                            "#ed7953"
                          ],
                          [
                            0.7777777777777778,
                            "#fb9f3a"
                          ],
                          [
                            0.8888888888888888,
                            "#fdca26"
                          ],
                          [
                            1,
                            "#f0f921"
                          ]
                        ],
                        "type": "surface"
                      }
                    ],
                    "table": [
                      {
                        "cells": {
                          "fill": {
                            "color": "#EBF0F8"
                          },
                          "line": {
                            "color": "white"
                          }
                        },
                        "header": {
                          "fill": {
                            "color": "#C8D4E3"
                          },
                          "line": {
                            "color": "white"
                          }
                        },
                        "type": "table"
                      }
                    ]
                  },
                  "layout": {
                    "annotationdefaults": {
                      "arrowcolor": "#2a3f5f",
                      "arrowhead": 0,
                      "arrowwidth": 1
                    },
                    "autotypenumbers": "strict",
                    "coloraxis": {
                      "colorbar": {
                        "outlinewidth": 0,
                        "ticks": ""
                      }
                    },
                    "colorscale": {
                      "diverging": [
                        [
                          0,
                          "#8e0152"
                        ],
                        [
                          0.1,
                          "#c51b7d"
                        ],
                        [
                          0.2,
                          "#de77ae"
                        ],
                        [
                          0.3,
                          "#f1b6da"
                        ],
                        [
                          0.4,
                          "#fde0ef"
                        ],
                        [
                          0.5,
                          "#f7f7f7"
                        ],
                        [
                          0.6,
                          "#e6f5d0"
                        ],
                        [
                          0.7,
                          "#b8e186"
                        ],
                        [
                          0.8,
                          "#7fbc41"
                        ],
                        [
                          0.9,
                          "#4d9221"
                        ],
                        [
                          1,
                          "#276419"
                        ]
                      ],
                      "sequential": [
                        [
                          0,
                          "#0d0887"
                        ],
                        [
                          0.1111111111111111,
                          "#46039f"
                        ],
                        [
                          0.2222222222222222,
                          "#7201a8"
                        ],
                        [
                          0.3333333333333333,
                          "#9c179e"
                        ],
                        [
                          0.4444444444444444,
                          "#bd3786"
                        ],
                        [
                          0.5555555555555556,
                          "#d8576b"
                        ],
                        [
                          0.6666666666666666,
                          "#ed7953"
                        ],
                        [
                          0.7777777777777778,
                          "#fb9f3a"
                        ],
                        [
                          0.8888888888888888,
                          "#fdca26"
                        ],
                        [
                          1,
                          "#f0f921"
                        ]
                      ],
                      "sequentialminus": [
                        [
                          0,
                          "#0d0887"
                        ],
                        [
                          0.1111111111111111,
                          "#46039f"
                        ],
                        [
                          0.2222222222222222,
                          "#7201a8"
                        ],
                        [
                          0.3333333333333333,
                          "#9c179e"
                        ],
                        [
                          0.4444444444444444,
                          "#bd3786"
                        ],
                        [
                          0.5555555555555556,
                          "#d8576b"
                        ],
                        [
                          0.6666666666666666,
                          "#ed7953"
                        ],
                        [
                          0.7777777777777778,
                          "#fb9f3a"
                        ],
                        [
                          0.8888888888888888,
                          "#fdca26"
                        ],
                        [
                          1,
                          "#f0f921"
                        ]
                      ]
                    },
                    "colorway": [
                      "#636efa",
                      "#EF553B",
                      "#00cc96",
                      "#ab63fa",
                      "#FFA15A",
                      "#19d3f3",
                      "#FF6692",
                      "#B6E880",
                      "#FF97FF",
                      "#FECB52"
                    ],
                    "font": {
                      "color": "#2a3f5f"
                    },
                    "geo": {
                      "bgcolor": "white",
                      "lakecolor": "white",
                      "landcolor": "#E5ECF6",
                      "showlakes": true,
                      "showland": true,
                      "subunitcolor": "white"
                    },
                    "hoverlabel": {
                      "align": "left"
                    },
                    "hovermode": "closest",
                    "mapbox": {
                      "style": "light"
                    },
                    "paper_bgcolor": "white",
                    "plot_bgcolor": "#E5ECF6",
                    "polar": {
                      "angularaxis": {
                        "gridcolor": "white",
                        "linecolor": "white",
                        "ticks": ""
                      },
                      "bgcolor": "#E5ECF6",
                      "radialaxis": {
                        "gridcolor": "white",
                        "linecolor": "white",
                        "ticks": ""
                      }
                    },
                    "scene": {
                      "xaxis": {
                        "backgroundcolor": "#E5ECF6",
                        "gridcolor": "white",
                        "gridwidth": 2,
                        "linecolor": "white",
                        "showbackground": true,
                        "ticks": "",
                        "zerolinecolor": "white"
                      },
                      "yaxis": {
                        "backgroundcolor": "#E5ECF6",
                        "gridcolor": "white",
                        "gridwidth": 2,
                        "linecolor": "white",
                        "showbackground": true,
                        "ticks": "",
                        "zerolinecolor": "white"
                      },
                      "zaxis": {
                        "backgroundcolor": "#E5ECF6",
                        "gridcolor": "white",
                        "gridwidth": 2,
                        "linecolor": "white",
                        "showbackground": true,
                        "ticks": "",
                        "zerolinecolor": "white"
                      }
                    },
                    "shapedefaults": {
                      "line": {
                        "color": "#2a3f5f"
                      }
                    },
                    "ternary": {
                      "aaxis": {
                        "gridcolor": "white",
                        "linecolor": "white",
                        "ticks": ""
                      },
                      "baxis": {
                        "gridcolor": "white",
                        "linecolor": "white",
                        "ticks": ""
                      },
                      "bgcolor": "#E5ECF6",
                      "caxis": {
                        "gridcolor": "white",
                        "linecolor": "white",
                        "ticks": ""
                      }
                    },
                    "title": {
                      "x": 0.05
                    },
                    "xaxis": {
                      "automargin": true,
                      "gridcolor": "white",
                      "linecolor": "white",
                      "ticks": "",
                      "title": {
                        "standoff": 15
                      },
                      "zerolinecolor": "white",
                      "zerolinewidth": 2
                    },
                    "yaxis": {
                      "automargin": true,
                      "gridcolor": "white",
                      "linecolor": "white",
                      "ticks": "",
                      "title": {
                        "standoff": 15
                      },
                      "zerolinecolor": "white",
                      "zerolinewidth": 2
                    }
                  }
                },
                "title": {
                  "text": "Self Made vs Non Self Made billionaire in India"
                }
              }
            }
          },
          "metadata": {},
          "output_type": "display_data"
        }
      ],
      "source": [
        "fig = px.pie(indian_selfmade, values=indian_selfmade['Count'], names=indian_selfmade['Self made'], title='Self Made vs Non Self Made billionaire in India')\n",
        "fig.update_traces(textposition='inside', textinfo='percent+label')\n",
        "fig.show()"
      ]
    },
    {
      "cell_type": "markdown",
      "metadata": {
        "id": "jTMJI3i75IiY"
      },
      "source": [
        "Richest indians"
      ]
    },
    {
      "cell_type": "code",
      "execution_count": 25,
      "metadata": {
        "colab": {
          "base_uri": "https://localhost:8080/",
          "height": 677
        },
        "id": "ZAjjclzv48gc",
        "outputId": "be02cf00-8c64-43b9-8f94-a59bf8e5e54a"
      },
      "outputs": [
        {
          "data": {
            "text/html": [
              "<div>\n",
              "<style scoped>\n",
              "    .dataframe tbody tr th:only-of-type {\n",
              "        vertical-align: middle;\n",
              "    }\n",
              "\n",
              "    .dataframe tbody tr th {\n",
              "        vertical-align: top;\n",
              "    }\n",
              "\n",
              "    .dataframe thead th {\n",
              "        text-align: right;\n",
              "    }\n",
              "</style>\n",
              "<table border=\"1\" class=\"dataframe\">\n",
              "  <thead>\n",
              "    <tr style=\"text-align: right;\">\n",
              "      <th></th>\n",
              "      <th>Name</th>\n",
              "      <th>Net Worth</th>\n",
              "      <th>Self Made</th>\n",
              "    </tr>\n",
              "  </thead>\n",
              "  <tbody>\n",
              "    <tr>\n",
              "      <th>457</th>\n",
              "      <td>Vikram Lal &amp; family</td>\n",
              "      <td>5.6</td>\n",
              "      <td>0</td>\n",
              "    </tr>\n",
              "    <tr>\n",
              "      <th>429</th>\n",
              "      <td>Gopikishan Damani</td>\n",
              "      <td>6.0</td>\n",
              "      <td>1</td>\n",
              "    </tr>\n",
              "    <tr>\n",
              "      <th>422</th>\n",
              "      <td>Sunil Mittal</td>\n",
              "      <td>6.1</td>\n",
              "      <td>1</td>\n",
              "    </tr>\n",
              "    <tr>\n",
              "      <th>338</th>\n",
              "      <td>Rohiqa Cyrus Mistry</td>\n",
              "      <td>7.0</td>\n",
              "      <td>0</td>\n",
              "    </tr>\n",
              "    <tr>\n",
              "      <th>335</th>\n",
              "      <td>Ashwin Dani &amp; family</td>\n",
              "      <td>7.0</td>\n",
              "      <td>0</td>\n",
              "    </tr>\n",
              "    <tr>\n",
              "      <th>311</th>\n",
              "      <td>Benu Gopal Bangur</td>\n",
              "      <td>7.3</td>\n",
              "      <td>0</td>\n",
              "    </tr>\n",
              "    <tr>\n",
              "      <th>290</th>\n",
              "      <td>Hasmukh Chudgar &amp; family</td>\n",
              "      <td>7.6</td>\n",
              "      <td>1</td>\n",
              "    </tr>\n",
              "    <tr>\n",
              "      <th>252</th>\n",
              "      <td>Kushal Pal Singh</td>\n",
              "      <td>8.2</td>\n",
              "      <td>0</td>\n",
              "    </tr>\n",
              "    <tr>\n",
              "      <th>233</th>\n",
              "      <td>Ravi Jaipuria</td>\n",
              "      <td>8.6</td>\n",
              "      <td>0</td>\n",
              "    </tr>\n",
              "    <tr>\n",
              "      <th>211</th>\n",
              "      <td>Azim Premji</td>\n",
              "      <td>9.2</td>\n",
              "      <td>0</td>\n",
              "    </tr>\n",
              "    <tr>\n",
              "      <th>137</th>\n",
              "      <td>Uday Kotak</td>\n",
              "      <td>12.9</td>\n",
              "      <td>1</td>\n",
              "    </tr>\n",
              "    <tr>\n",
              "      <th>123</th>\n",
              "      <td>Kumar Birla</td>\n",
              "      <td>14.2</td>\n",
              "      <td>0</td>\n",
              "    </tr>\n",
              "    <tr>\n",
              "      <th>113</th>\n",
              "      <td>Radhakishan Damani</td>\n",
              "      <td>15.3</td>\n",
              "      <td>1</td>\n",
              "    </tr>\n",
              "    <tr>\n",
              "      <th>111</th>\n",
              "      <td>Dilip Shanghvi</td>\n",
              "      <td>15.6</td>\n",
              "      <td>1</td>\n",
              "    </tr>\n",
              "    <tr>\n",
              "      <th>95</th>\n",
              "      <td>Savitri Jindal &amp; family</td>\n",
              "      <td>17.5</td>\n",
              "      <td>0</td>\n",
              "    </tr>\n",
              "    <tr>\n",
              "      <th>92</th>\n",
              "      <td>Lakshmi Mittal</td>\n",
              "      <td>17.7</td>\n",
              "      <td>0</td>\n",
              "    </tr>\n",
              "    <tr>\n",
              "      <th>67</th>\n",
              "      <td>Cyrus Poonawalla</td>\n",
              "      <td>22.6</td>\n",
              "      <td>0</td>\n",
              "    </tr>\n",
              "    <tr>\n",
              "      <th>54</th>\n",
              "      <td>Shiv Nadar</td>\n",
              "      <td>25.6</td>\n",
              "      <td>1</td>\n",
              "    </tr>\n",
              "    <tr>\n",
              "      <th>23</th>\n",
              "      <td>Gautam Adani</td>\n",
              "      <td>47.2</td>\n",
              "      <td>1</td>\n",
              "    </tr>\n",
              "    <tr>\n",
              "      <th>8</th>\n",
              "      <td>Mukesh Ambani</td>\n",
              "      <td>83.4</td>\n",
              "      <td>0</td>\n",
              "    </tr>\n",
              "  </tbody>\n",
              "</table>\n",
              "</div>"
            ],
            "text/plain": [
              "                         Name  Net Worth Self Made\n",
              "457       Vikram Lal & family        5.6         0\n",
              "429         Gopikishan Damani        6.0         1\n",
              "422              Sunil Mittal        6.1         1\n",
              "338       Rohiqa Cyrus Mistry        7.0         0\n",
              "335      Ashwin Dani & family        7.0         0\n",
              "311         Benu Gopal Bangur        7.3         0\n",
              "290  Hasmukh Chudgar & family        7.6         1\n",
              "252          Kushal Pal Singh        8.2         0\n",
              "233             Ravi Jaipuria        8.6         0\n",
              "211               Azim Premji        9.2         0\n",
              "137                Uday Kotak       12.9         1\n",
              "123               Kumar Birla       14.2         0\n",
              "113        Radhakishan Damani       15.3         1\n",
              "111            Dilip Shanghvi       15.6         1\n",
              "95    Savitri Jindal & family       17.5         0\n",
              "92             Lakshmi Mittal       17.7         0\n",
              "67           Cyrus Poonawalla       22.6         0\n",
              "54                 Shiv Nadar       25.6         1\n",
              "23               Gautam Adani       47.2         1\n",
              "8               Mukesh Ambani       83.4         0"
            ]
          },
          "execution_count": 25,
          "metadata": {},
          "output_type": "execute_result"
        }
      ],
      "source": [
        "top_indians = pd.DataFrame({'Name': india_data['name'], 'Net Worth': india_data['net_worth'], 'Self Made': india_data['Self Made']}).nlargest(20, 'Net Worth').sort_values(by = 'Net Worth', ascending=True)\n",
        "\n",
        "top_indians"
      ]
    },
    {
      "cell_type": "code",
      "execution_count": 26,
      "metadata": {
        "colab": {
          "base_uri": "https://localhost:8080/",
          "height": 817
        },
        "id": "IaLC2mXK54rV",
        "outputId": "d6454790-406f-4761-dd41-8c52685ddd39"
      },
      "outputs": [
        {
          "data": {
            "application/vnd.plotly.v1+json": {
              "config": {
                "plotlyServerURL": "https://plot.ly"
              },
              "data": [
                {
                  "alignmentgroup": "True",
                  "hovertemplate": "Self Made=0<br>Net Worth=%{x}<br>Name=%{y}<extra></extra>",
                  "legendgroup": "0",
                  "marker": {
                    "color": "#636efa",
                    "pattern": {
                      "shape": ""
                    }
                  },
                  "name": "0",
                  "offsetgroup": "0",
                  "orientation": "h",
                  "showlegend": true,
                  "textposition": "outside",
                  "texttemplate": "%{x}",
                  "type": "bar",
                  "x": [
                    5.6,
                    7,
                    7,
                    7.3,
                    8.2,
                    8.6,
                    9.2,
                    14.2,
                    17.5,
                    17.7,
                    22.6,
                    83.4
                  ],
                  "xaxis": "x",
                  "y": [
                    "Vikram Lal & family",
                    "Rohiqa Cyrus Mistry",
                    "Ashwin Dani & family",
                    "Benu Gopal Bangur",
                    "Kushal Pal Singh",
                    "Ravi Jaipuria",
                    "Azim Premji",
                    "Kumar Birla",
                    "Savitri Jindal & family",
                    "Lakshmi Mittal",
                    "Cyrus Poonawalla",
                    "Mukesh Ambani"
                  ],
                  "yaxis": "y"
                },
                {
                  "alignmentgroup": "True",
                  "hovertemplate": "Self Made=1<br>Net Worth=%{x}<br>Name=%{y}<extra></extra>",
                  "legendgroup": "1",
                  "marker": {
                    "color": "#EF553B",
                    "pattern": {
                      "shape": ""
                    }
                  },
                  "name": "1",
                  "offsetgroup": "1",
                  "orientation": "h",
                  "showlegend": true,
                  "textposition": "outside",
                  "texttemplate": "%{x}",
                  "type": "bar",
                  "x": [
                    6,
                    6.1,
                    7.6,
                    12.9,
                    15.3,
                    15.6,
                    25.6,
                    47.2
                  ],
                  "xaxis": "x",
                  "y": [
                    "Gopikishan Damani",
                    "Sunil Mittal",
                    "Hasmukh Chudgar & family",
                    "Uday Kotak",
                    "Radhakishan Damani",
                    "Dilip Shanghvi",
                    "Shiv Nadar",
                    "Gautam Adani"
                  ],
                  "yaxis": "y"
                }
              ],
              "layout": {
                "barmode": "relative",
                "height": 800,
                "legend": {
                  "title": {
                    "text": "Self Made"
                  },
                  "tracegroupgap": 0
                },
                "template": {
                  "data": {
                    "bar": [
                      {
                        "error_x": {
                          "color": "#2a3f5f"
                        },
                        "error_y": {
                          "color": "#2a3f5f"
                        },
                        "marker": {
                          "line": {
                            "color": "#E5ECF6",
                            "width": 0.5
                          },
                          "pattern": {
                            "fillmode": "overlay",
                            "size": 10,
                            "solidity": 0.2
                          }
                        },
                        "type": "bar"
                      }
                    ],
                    "barpolar": [
                      {
                        "marker": {
                          "line": {
                            "color": "#E5ECF6",
                            "width": 0.5
                          },
                          "pattern": {
                            "fillmode": "overlay",
                            "size": 10,
                            "solidity": 0.2
                          }
                        },
                        "type": "barpolar"
                      }
                    ],
                    "carpet": [
                      {
                        "aaxis": {
                          "endlinecolor": "#2a3f5f",
                          "gridcolor": "white",
                          "linecolor": "white",
                          "minorgridcolor": "white",
                          "startlinecolor": "#2a3f5f"
                        },
                        "baxis": {
                          "endlinecolor": "#2a3f5f",
                          "gridcolor": "white",
                          "linecolor": "white",
                          "minorgridcolor": "white",
                          "startlinecolor": "#2a3f5f"
                        },
                        "type": "carpet"
                      }
                    ],
                    "choropleth": [
                      {
                        "colorbar": {
                          "outlinewidth": 0,
                          "ticks": ""
                        },
                        "type": "choropleth"
                      }
                    ],
                    "contour": [
                      {
                        "colorbar": {
                          "outlinewidth": 0,
                          "ticks": ""
                        },
                        "colorscale": [
                          [
                            0,
                            "#0d0887"
                          ],
                          [
                            0.1111111111111111,
                            "#46039f"
                          ],
                          [
                            0.2222222222222222,
                            "#7201a8"
                          ],
                          [
                            0.3333333333333333,
                            "#9c179e"
                          ],
                          [
                            0.4444444444444444,
                            "#bd3786"
                          ],
                          [
                            0.5555555555555556,
                            "#d8576b"
                          ],
                          [
                            0.6666666666666666,
                            "#ed7953"
                          ],
                          [
                            0.7777777777777778,
                            "#fb9f3a"
                          ],
                          [
                            0.8888888888888888,
                            "#fdca26"
                          ],
                          [
                            1,
                            "#f0f921"
                          ]
                        ],
                        "type": "contour"
                      }
                    ],
                    "contourcarpet": [
                      {
                        "colorbar": {
                          "outlinewidth": 0,
                          "ticks": ""
                        },
                        "type": "contourcarpet"
                      }
                    ],
                    "heatmap": [
                      {
                        "colorbar": {
                          "outlinewidth": 0,
                          "ticks": ""
                        },
                        "colorscale": [
                          [
                            0,
                            "#0d0887"
                          ],
                          [
                            0.1111111111111111,
                            "#46039f"
                          ],
                          [
                            0.2222222222222222,
                            "#7201a8"
                          ],
                          [
                            0.3333333333333333,
                            "#9c179e"
                          ],
                          [
                            0.4444444444444444,
                            "#bd3786"
                          ],
                          [
                            0.5555555555555556,
                            "#d8576b"
                          ],
                          [
                            0.6666666666666666,
                            "#ed7953"
                          ],
                          [
                            0.7777777777777778,
                            "#fb9f3a"
                          ],
                          [
                            0.8888888888888888,
                            "#fdca26"
                          ],
                          [
                            1,
                            "#f0f921"
                          ]
                        ],
                        "type": "heatmap"
                      }
                    ],
                    "heatmapgl": [
                      {
                        "colorbar": {
                          "outlinewidth": 0,
                          "ticks": ""
                        },
                        "colorscale": [
                          [
                            0,
                            "#0d0887"
                          ],
                          [
                            0.1111111111111111,
                            "#46039f"
                          ],
                          [
                            0.2222222222222222,
                            "#7201a8"
                          ],
                          [
                            0.3333333333333333,
                            "#9c179e"
                          ],
                          [
                            0.4444444444444444,
                            "#bd3786"
                          ],
                          [
                            0.5555555555555556,
                            "#d8576b"
                          ],
                          [
                            0.6666666666666666,
                            "#ed7953"
                          ],
                          [
                            0.7777777777777778,
                            "#fb9f3a"
                          ],
                          [
                            0.8888888888888888,
                            "#fdca26"
                          ],
                          [
                            1,
                            "#f0f921"
                          ]
                        ],
                        "type": "heatmapgl"
                      }
                    ],
                    "histogram": [
                      {
                        "marker": {
                          "pattern": {
                            "fillmode": "overlay",
                            "size": 10,
                            "solidity": 0.2
                          }
                        },
                        "type": "histogram"
                      }
                    ],
                    "histogram2d": [
                      {
                        "colorbar": {
                          "outlinewidth": 0,
                          "ticks": ""
                        },
                        "colorscale": [
                          [
                            0,
                            "#0d0887"
                          ],
                          [
                            0.1111111111111111,
                            "#46039f"
                          ],
                          [
                            0.2222222222222222,
                            "#7201a8"
                          ],
                          [
                            0.3333333333333333,
                            "#9c179e"
                          ],
                          [
                            0.4444444444444444,
                            "#bd3786"
                          ],
                          [
                            0.5555555555555556,
                            "#d8576b"
                          ],
                          [
                            0.6666666666666666,
                            "#ed7953"
                          ],
                          [
                            0.7777777777777778,
                            "#fb9f3a"
                          ],
                          [
                            0.8888888888888888,
                            "#fdca26"
                          ],
                          [
                            1,
                            "#f0f921"
                          ]
                        ],
                        "type": "histogram2d"
                      }
                    ],
                    "histogram2dcontour": [
                      {
                        "colorbar": {
                          "outlinewidth": 0,
                          "ticks": ""
                        },
                        "colorscale": [
                          [
                            0,
                            "#0d0887"
                          ],
                          [
                            0.1111111111111111,
                            "#46039f"
                          ],
                          [
                            0.2222222222222222,
                            "#7201a8"
                          ],
                          [
                            0.3333333333333333,
                            "#9c179e"
                          ],
                          [
                            0.4444444444444444,
                            "#bd3786"
                          ],
                          [
                            0.5555555555555556,
                            "#d8576b"
                          ],
                          [
                            0.6666666666666666,
                            "#ed7953"
                          ],
                          [
                            0.7777777777777778,
                            "#fb9f3a"
                          ],
                          [
                            0.8888888888888888,
                            "#fdca26"
                          ],
                          [
                            1,
                            "#f0f921"
                          ]
                        ],
                        "type": "histogram2dcontour"
                      }
                    ],
                    "mesh3d": [
                      {
                        "colorbar": {
                          "outlinewidth": 0,
                          "ticks": ""
                        },
                        "type": "mesh3d"
                      }
                    ],
                    "parcoords": [
                      {
                        "line": {
                          "colorbar": {
                            "outlinewidth": 0,
                            "ticks": ""
                          }
                        },
                        "type": "parcoords"
                      }
                    ],
                    "pie": [
                      {
                        "automargin": true,
                        "type": "pie"
                      }
                    ],
                    "scatter": [
                      {
                        "fillpattern": {
                          "fillmode": "overlay",
                          "size": 10,
                          "solidity": 0.2
                        },
                        "type": "scatter"
                      }
                    ],
                    "scatter3d": [
                      {
                        "line": {
                          "colorbar": {
                            "outlinewidth": 0,
                            "ticks": ""
                          }
                        },
                        "marker": {
                          "colorbar": {
                            "outlinewidth": 0,
                            "ticks": ""
                          }
                        },
                        "type": "scatter3d"
                      }
                    ],
                    "scattercarpet": [
                      {
                        "marker": {
                          "colorbar": {
                            "outlinewidth": 0,
                            "ticks": ""
                          }
                        },
                        "type": "scattercarpet"
                      }
                    ],
                    "scattergeo": [
                      {
                        "marker": {
                          "colorbar": {
                            "outlinewidth": 0,
                            "ticks": ""
                          }
                        },
                        "type": "scattergeo"
                      }
                    ],
                    "scattergl": [
                      {
                        "marker": {
                          "colorbar": {
                            "outlinewidth": 0,
                            "ticks": ""
                          }
                        },
                        "type": "scattergl"
                      }
                    ],
                    "scattermapbox": [
                      {
                        "marker": {
                          "colorbar": {
                            "outlinewidth": 0,
                            "ticks": ""
                          }
                        },
                        "type": "scattermapbox"
                      }
                    ],
                    "scatterpolar": [
                      {
                        "marker": {
                          "colorbar": {
                            "outlinewidth": 0,
                            "ticks": ""
                          }
                        },
                        "type": "scatterpolar"
                      }
                    ],
                    "scatterpolargl": [
                      {
                        "marker": {
                          "colorbar": {
                            "outlinewidth": 0,
                            "ticks": ""
                          }
                        },
                        "type": "scatterpolargl"
                      }
                    ],
                    "scatterternary": [
                      {
                        "marker": {
                          "colorbar": {
                            "outlinewidth": 0,
                            "ticks": ""
                          }
                        },
                        "type": "scatterternary"
                      }
                    ],
                    "surface": [
                      {
                        "colorbar": {
                          "outlinewidth": 0,
                          "ticks": ""
                        },
                        "colorscale": [
                          [
                            0,
                            "#0d0887"
                          ],
                          [
                            0.1111111111111111,
                            "#46039f"
                          ],
                          [
                            0.2222222222222222,
                            "#7201a8"
                          ],
                          [
                            0.3333333333333333,
                            "#9c179e"
                          ],
                          [
                            0.4444444444444444,
                            "#bd3786"
                          ],
                          [
                            0.5555555555555556,
                            "#d8576b"
                          ],
                          [
                            0.6666666666666666,
                            "#ed7953"
                          ],
                          [
                            0.7777777777777778,
                            "#fb9f3a"
                          ],
                          [
                            0.8888888888888888,
                            "#fdca26"
                          ],
                          [
                            1,
                            "#f0f921"
                          ]
                        ],
                        "type": "surface"
                      }
                    ],
                    "table": [
                      {
                        "cells": {
                          "fill": {
                            "color": "#EBF0F8"
                          },
                          "line": {
                            "color": "white"
                          }
                        },
                        "header": {
                          "fill": {
                            "color": "#C8D4E3"
                          },
                          "line": {
                            "color": "white"
                          }
                        },
                        "type": "table"
                      }
                    ]
                  },
                  "layout": {
                    "annotationdefaults": {
                      "arrowcolor": "#2a3f5f",
                      "arrowhead": 0,
                      "arrowwidth": 1
                    },
                    "autotypenumbers": "strict",
                    "coloraxis": {
                      "colorbar": {
                        "outlinewidth": 0,
                        "ticks": ""
                      }
                    },
                    "colorscale": {
                      "diverging": [
                        [
                          0,
                          "#8e0152"
                        ],
                        [
                          0.1,
                          "#c51b7d"
                        ],
                        [
                          0.2,
                          "#de77ae"
                        ],
                        [
                          0.3,
                          "#f1b6da"
                        ],
                        [
                          0.4,
                          "#fde0ef"
                        ],
                        [
                          0.5,
                          "#f7f7f7"
                        ],
                        [
                          0.6,
                          "#e6f5d0"
                        ],
                        [
                          0.7,
                          "#b8e186"
                        ],
                        [
                          0.8,
                          "#7fbc41"
                        ],
                        [
                          0.9,
                          "#4d9221"
                        ],
                        [
                          1,
                          "#276419"
                        ]
                      ],
                      "sequential": [
                        [
                          0,
                          "#0d0887"
                        ],
                        [
                          0.1111111111111111,
                          "#46039f"
                        ],
                        [
                          0.2222222222222222,
                          "#7201a8"
                        ],
                        [
                          0.3333333333333333,
                          "#9c179e"
                        ],
                        [
                          0.4444444444444444,
                          "#bd3786"
                        ],
                        [
                          0.5555555555555556,
                          "#d8576b"
                        ],
                        [
                          0.6666666666666666,
                          "#ed7953"
                        ],
                        [
                          0.7777777777777778,
                          "#fb9f3a"
                        ],
                        [
                          0.8888888888888888,
                          "#fdca26"
                        ],
                        [
                          1,
                          "#f0f921"
                        ]
                      ],
                      "sequentialminus": [
                        [
                          0,
                          "#0d0887"
                        ],
                        [
                          0.1111111111111111,
                          "#46039f"
                        ],
                        [
                          0.2222222222222222,
                          "#7201a8"
                        ],
                        [
                          0.3333333333333333,
                          "#9c179e"
                        ],
                        [
                          0.4444444444444444,
                          "#bd3786"
                        ],
                        [
                          0.5555555555555556,
                          "#d8576b"
                        ],
                        [
                          0.6666666666666666,
                          "#ed7953"
                        ],
                        [
                          0.7777777777777778,
                          "#fb9f3a"
                        ],
                        [
                          0.8888888888888888,
                          "#fdca26"
                        ],
                        [
                          1,
                          "#f0f921"
                        ]
                      ]
                    },
                    "colorway": [
                      "#636efa",
                      "#EF553B",
                      "#00cc96",
                      "#ab63fa",
                      "#FFA15A",
                      "#19d3f3",
                      "#FF6692",
                      "#B6E880",
                      "#FF97FF",
                      "#FECB52"
                    ],
                    "font": {
                      "color": "#2a3f5f"
                    },
                    "geo": {
                      "bgcolor": "white",
                      "lakecolor": "white",
                      "landcolor": "#E5ECF6",
                      "showlakes": true,
                      "showland": true,
                      "subunitcolor": "white"
                    },
                    "hoverlabel": {
                      "align": "left"
                    },
                    "hovermode": "closest",
                    "mapbox": {
                      "style": "light"
                    },
                    "paper_bgcolor": "white",
                    "plot_bgcolor": "#E5ECF6",
                    "polar": {
                      "angularaxis": {
                        "gridcolor": "white",
                        "linecolor": "white",
                        "ticks": ""
                      },
                      "bgcolor": "#E5ECF6",
                      "radialaxis": {
                        "gridcolor": "white",
                        "linecolor": "white",
                        "ticks": ""
                      }
                    },
                    "scene": {
                      "xaxis": {
                        "backgroundcolor": "#E5ECF6",
                        "gridcolor": "white",
                        "gridwidth": 2,
                        "linecolor": "white",
                        "showbackground": true,
                        "ticks": "",
                        "zerolinecolor": "white"
                      },
                      "yaxis": {
                        "backgroundcolor": "#E5ECF6",
                        "gridcolor": "white",
                        "gridwidth": 2,
                        "linecolor": "white",
                        "showbackground": true,
                        "ticks": "",
                        "zerolinecolor": "white"
                      },
                      "zaxis": {
                        "backgroundcolor": "#E5ECF6",
                        "gridcolor": "white",
                        "gridwidth": 2,
                        "linecolor": "white",
                        "showbackground": true,
                        "ticks": "",
                        "zerolinecolor": "white"
                      }
                    },
                    "shapedefaults": {
                      "line": {
                        "color": "#2a3f5f"
                      }
                    },
                    "ternary": {
                      "aaxis": {
                        "gridcolor": "white",
                        "linecolor": "white",
                        "ticks": ""
                      },
                      "baxis": {
                        "gridcolor": "white",
                        "linecolor": "white",
                        "ticks": ""
                      },
                      "bgcolor": "#E5ECF6",
                      "caxis": {
                        "gridcolor": "white",
                        "linecolor": "white",
                        "ticks": ""
                      }
                    },
                    "title": {
                      "x": 0.05
                    },
                    "xaxis": {
                      "automargin": true,
                      "gridcolor": "white",
                      "linecolor": "white",
                      "ticks": "",
                      "title": {
                        "standoff": 15
                      },
                      "zerolinecolor": "white",
                      "zerolinewidth": 2
                    },
                    "yaxis": {
                      "automargin": true,
                      "gridcolor": "white",
                      "linecolor": "white",
                      "ticks": "",
                      "title": {
                        "standoff": 15
                      },
                      "zerolinecolor": "white",
                      "zerolinewidth": 2
                    }
                  }
                },
                "title": {
                  "text": "Top 20 billionaires in India"
                },
                "xaxis": {
                  "anchor": "y",
                  "domain": [
                    0,
                    1
                  ],
                  "title": {
                    "text": "Net Worth"
                  }
                },
                "yaxis": {
                  "anchor": "x",
                  "domain": [
                    0,
                    1
                  ],
                  "title": {
                    "text": "Name"
                  }
                }
              }
            }
          },
          "metadata": {},
          "output_type": "display_data"
        }
      ],
      "source": [
        "fig = px.bar(top_indians,\n",
        "             y='Name',\n",
        "             x='Net Worth',\n",
        "             color='Self Made',\n",
        "             color_continuous_scale='temps',\n",
        "             text_auto=True,\n",
        "             title='Top 20 billionaires in India')\n",
        "fig.update_layout(height=800)\n",
        "fig.update_traces(textposition = 'outside')\n",
        "fig.show()"
      ]
    },
    {
      "cell_type": "markdown",
      "metadata": {
        "id": "AoHHnTld_FN_"
      },
      "source": [
        "number of billionaires in each industry"
      ]
    },
    {
      "cell_type": "code",
      "execution_count": null,
      "metadata": {
        "id": "qxb2CUIj_JFs"
      },
      "outputs": [],
      "source": []
    }
  ],
  "metadata": {
    "colab": {
      "provenance": []
    },
    "kernelspec": {
      "display_name": "Python 3",
      "name": "python3"
    },
    "language_info": {
      "codemirror_mode": {
        "name": "ipython",
        "version": 3
      },
      "file_extension": ".py",
      "mimetype": "text/x-python",
      "name": "python",
      "nbconvert_exporter": "python",
      "pygments_lexer": "ipython3",
      "version": "3.9.13"
    }
  },
  "nbformat": 4,
  "nbformat_minor": 0
}
